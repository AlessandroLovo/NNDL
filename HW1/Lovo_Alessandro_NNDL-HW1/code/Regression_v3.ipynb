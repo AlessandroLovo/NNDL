{
  "nbformat": 4,
  "nbformat_minor": 0,
  "metadata": {
    "colab": {
      "name": "Regression_v3.ipynb",
      "provenance": [],
      "collapsed_sections": [],
      "toc_visible": true
    },
    "kernelspec": {
      "name": "python3",
      "display_name": "Python 3"
    },
    "accelerator": "GPU",
    "widgets": {
      "application/vnd.jupyter.widget-state+json": {
        "8e375f0bed664a5faa051a3eb9f0a4fd": {
          "model_module": "@jupyter-widgets/controls",
          "model_name": "HBoxModel",
          "state": {
            "_dom_classes": [],
            "_model_module": "@jupyter-widgets/controls",
            "_model_module_version": "1.5.0",
            "_model_name": "HBoxModel",
            "_view_count": null,
            "_view_module": "@jupyter-widgets/controls",
            "_view_module_version": "1.5.0",
            "_view_name": "HBoxView",
            "box_style": "",
            "children": [
              "IPY_MODEL_de6e95ca160c48f0ac9b38ad06b2cb25",
              "IPY_MODEL_29ad486c8efe454a84e3eacddd28046e",
              "IPY_MODEL_e6a83e9f97934b5498ef3b73d16354db"
            ],
            "layout": "IPY_MODEL_27bd0debb90847dcb807c63e83f28925"
          }
        },
        "de6e95ca160c48f0ac9b38ad06b2cb25": {
          "model_module": "@jupyter-widgets/controls",
          "model_name": "HTMLModel",
          "state": {
            "_dom_classes": [],
            "_model_module": "@jupyter-widgets/controls",
            "_model_module_version": "1.5.0",
            "_model_name": "HTMLModel",
            "_view_count": null,
            "_view_module": "@jupyter-widgets/controls",
            "_view_module_version": "1.5.0",
            "_view_name": "HTMLView",
            "description": "",
            "description_tooltip": null,
            "layout": "IPY_MODEL_e21e5f3ad63c49bd84c18f57de0603bd",
            "placeholder": "​",
            "style": "IPY_MODEL_d7b7b680b0664b14bb65455891ea8660",
            "value": "100%"
          }
        },
        "29ad486c8efe454a84e3eacddd28046e": {
          "model_module": "@jupyter-widgets/controls",
          "model_name": "FloatProgressModel",
          "state": {
            "_dom_classes": [],
            "_model_module": "@jupyter-widgets/controls",
            "_model_module_version": "1.5.0",
            "_model_name": "FloatProgressModel",
            "_view_count": null,
            "_view_module": "@jupyter-widgets/controls",
            "_view_module_version": "1.5.0",
            "_view_name": "ProgressView",
            "bar_style": "success",
            "description": "",
            "description_tooltip": null,
            "layout": "IPY_MODEL_3ddeac6875004eb49573d4a6741abab2",
            "max": 2000,
            "min": 0,
            "orientation": "horizontal",
            "style": "IPY_MODEL_c4149640b4d5479ba46f4a66dadac32b",
            "value": 2000
          }
        },
        "e6a83e9f97934b5498ef3b73d16354db": {
          "model_module": "@jupyter-widgets/controls",
          "model_name": "HTMLModel",
          "state": {
            "_dom_classes": [],
            "_model_module": "@jupyter-widgets/controls",
            "_model_module_version": "1.5.0",
            "_model_name": "HTMLModel",
            "_view_count": null,
            "_view_module": "@jupyter-widgets/controls",
            "_view_module_version": "1.5.0",
            "_view_name": "HTMLView",
            "description": "",
            "description_tooltip": null,
            "layout": "IPY_MODEL_8cbafdf1a11f484d9a0d1925fae9c27d",
            "placeholder": "​",
            "style": "IPY_MODEL_c50b577f8c734e8da4236191de03acf5",
            "value": " 2000/2000 [01:41&lt;00:00, 19.69it/s]"
          }
        },
        "27bd0debb90847dcb807c63e83f28925": {
          "model_module": "@jupyter-widgets/base",
          "model_name": "LayoutModel",
          "state": {
            "_model_module": "@jupyter-widgets/base",
            "_model_module_version": "1.2.0",
            "_model_name": "LayoutModel",
            "_view_count": null,
            "_view_module": "@jupyter-widgets/base",
            "_view_module_version": "1.2.0",
            "_view_name": "LayoutView",
            "align_content": null,
            "align_items": null,
            "align_self": null,
            "border": null,
            "bottom": null,
            "display": null,
            "flex": null,
            "flex_flow": null,
            "grid_area": null,
            "grid_auto_columns": null,
            "grid_auto_flow": null,
            "grid_auto_rows": null,
            "grid_column": null,
            "grid_gap": null,
            "grid_row": null,
            "grid_template_areas": null,
            "grid_template_columns": null,
            "grid_template_rows": null,
            "height": null,
            "justify_content": null,
            "justify_items": null,
            "left": null,
            "margin": null,
            "max_height": null,
            "max_width": null,
            "min_height": null,
            "min_width": null,
            "object_fit": null,
            "object_position": null,
            "order": null,
            "overflow": null,
            "overflow_x": null,
            "overflow_y": null,
            "padding": null,
            "right": null,
            "top": null,
            "visibility": null,
            "width": null
          }
        },
        "e21e5f3ad63c49bd84c18f57de0603bd": {
          "model_module": "@jupyter-widgets/base",
          "model_name": "LayoutModel",
          "state": {
            "_model_module": "@jupyter-widgets/base",
            "_model_module_version": "1.2.0",
            "_model_name": "LayoutModel",
            "_view_count": null,
            "_view_module": "@jupyter-widgets/base",
            "_view_module_version": "1.2.0",
            "_view_name": "LayoutView",
            "align_content": null,
            "align_items": null,
            "align_self": null,
            "border": null,
            "bottom": null,
            "display": null,
            "flex": null,
            "flex_flow": null,
            "grid_area": null,
            "grid_auto_columns": null,
            "grid_auto_flow": null,
            "grid_auto_rows": null,
            "grid_column": null,
            "grid_gap": null,
            "grid_row": null,
            "grid_template_areas": null,
            "grid_template_columns": null,
            "grid_template_rows": null,
            "height": null,
            "justify_content": null,
            "justify_items": null,
            "left": null,
            "margin": null,
            "max_height": null,
            "max_width": null,
            "min_height": null,
            "min_width": null,
            "object_fit": null,
            "object_position": null,
            "order": null,
            "overflow": null,
            "overflow_x": null,
            "overflow_y": null,
            "padding": null,
            "right": null,
            "top": null,
            "visibility": null,
            "width": null
          }
        },
        "d7b7b680b0664b14bb65455891ea8660": {
          "model_module": "@jupyter-widgets/controls",
          "model_name": "DescriptionStyleModel",
          "state": {
            "_model_module": "@jupyter-widgets/controls",
            "_model_module_version": "1.5.0",
            "_model_name": "DescriptionStyleModel",
            "_view_count": null,
            "_view_module": "@jupyter-widgets/base",
            "_view_module_version": "1.2.0",
            "_view_name": "StyleView",
            "description_width": ""
          }
        },
        "3ddeac6875004eb49573d4a6741abab2": {
          "model_module": "@jupyter-widgets/base",
          "model_name": "LayoutModel",
          "state": {
            "_model_module": "@jupyter-widgets/base",
            "_model_module_version": "1.2.0",
            "_model_name": "LayoutModel",
            "_view_count": null,
            "_view_module": "@jupyter-widgets/base",
            "_view_module_version": "1.2.0",
            "_view_name": "LayoutView",
            "align_content": null,
            "align_items": null,
            "align_self": null,
            "border": null,
            "bottom": null,
            "display": null,
            "flex": null,
            "flex_flow": null,
            "grid_area": null,
            "grid_auto_columns": null,
            "grid_auto_flow": null,
            "grid_auto_rows": null,
            "grid_column": null,
            "grid_gap": null,
            "grid_row": null,
            "grid_template_areas": null,
            "grid_template_columns": null,
            "grid_template_rows": null,
            "height": null,
            "justify_content": null,
            "justify_items": null,
            "left": null,
            "margin": null,
            "max_height": null,
            "max_width": null,
            "min_height": null,
            "min_width": null,
            "object_fit": null,
            "object_position": null,
            "order": null,
            "overflow": null,
            "overflow_x": null,
            "overflow_y": null,
            "padding": null,
            "right": null,
            "top": null,
            "visibility": null,
            "width": null
          }
        },
        "c4149640b4d5479ba46f4a66dadac32b": {
          "model_module": "@jupyter-widgets/controls",
          "model_name": "ProgressStyleModel",
          "state": {
            "_model_module": "@jupyter-widgets/controls",
            "_model_module_version": "1.5.0",
            "_model_name": "ProgressStyleModel",
            "_view_count": null,
            "_view_module": "@jupyter-widgets/base",
            "_view_module_version": "1.2.0",
            "_view_name": "StyleView",
            "bar_color": null,
            "description_width": ""
          }
        },
        "8cbafdf1a11f484d9a0d1925fae9c27d": {
          "model_module": "@jupyter-widgets/base",
          "model_name": "LayoutModel",
          "state": {
            "_model_module": "@jupyter-widgets/base",
            "_model_module_version": "1.2.0",
            "_model_name": "LayoutModel",
            "_view_count": null,
            "_view_module": "@jupyter-widgets/base",
            "_view_module_version": "1.2.0",
            "_view_name": "LayoutView",
            "align_content": null,
            "align_items": null,
            "align_self": null,
            "border": null,
            "bottom": null,
            "display": null,
            "flex": null,
            "flex_flow": null,
            "grid_area": null,
            "grid_auto_columns": null,
            "grid_auto_flow": null,
            "grid_auto_rows": null,
            "grid_column": null,
            "grid_gap": null,
            "grid_row": null,
            "grid_template_areas": null,
            "grid_template_columns": null,
            "grid_template_rows": null,
            "height": null,
            "justify_content": null,
            "justify_items": null,
            "left": null,
            "margin": null,
            "max_height": null,
            "max_width": null,
            "min_height": null,
            "min_width": null,
            "object_fit": null,
            "object_position": null,
            "order": null,
            "overflow": null,
            "overflow_x": null,
            "overflow_y": null,
            "padding": null,
            "right": null,
            "top": null,
            "visibility": null,
            "width": null
          }
        },
        "c50b577f8c734e8da4236191de03acf5": {
          "model_module": "@jupyter-widgets/controls",
          "model_name": "DescriptionStyleModel",
          "state": {
            "_model_module": "@jupyter-widgets/controls",
            "_model_module_version": "1.5.0",
            "_model_name": "DescriptionStyleModel",
            "_view_count": null,
            "_view_module": "@jupyter-widgets/base",
            "_view_module_version": "1.2.0",
            "_view_name": "StyleView",
            "description_width": ""
          }
        },
        "4f401c1adea64f1aaa50f2db7c49dd8a": {
          "model_module": "@jupyter-widgets/controls",
          "model_name": "HBoxModel",
          "state": {
            "_dom_classes": [],
            "_model_module": "@jupyter-widgets/controls",
            "_model_module_version": "1.5.0",
            "_model_name": "HBoxModel",
            "_view_count": null,
            "_view_module": "@jupyter-widgets/controls",
            "_view_module_version": "1.5.0",
            "_view_name": "HBoxView",
            "box_style": "",
            "children": [
              "IPY_MODEL_b3837e2859584b33b27375130b19c3d1",
              "IPY_MODEL_6a43ab1d23624063be96ccb167e7d46a",
              "IPY_MODEL_99c05a980d5b4f618f3f31018956c774"
            ],
            "layout": "IPY_MODEL_bc64514e7fe84620b26e70ffaaefb3eb"
          }
        },
        "b3837e2859584b33b27375130b19c3d1": {
          "model_module": "@jupyter-widgets/controls",
          "model_name": "HTMLModel",
          "state": {
            "_dom_classes": [],
            "_model_module": "@jupyter-widgets/controls",
            "_model_module_version": "1.5.0",
            "_model_name": "HTMLModel",
            "_view_count": null,
            "_view_module": "@jupyter-widgets/controls",
            "_view_module_version": "1.5.0",
            "_view_name": "HTMLView",
            "description": "",
            "description_tooltip": null,
            "layout": "IPY_MODEL_f2d16d453aaf403089bd42b2b0a18d37",
            "placeholder": "​",
            "style": "IPY_MODEL_4caea97b0af14ed7845fcb0aa869d579",
            "value": "  8%"
          }
        },
        "6a43ab1d23624063be96ccb167e7d46a": {
          "model_module": "@jupyter-widgets/controls",
          "model_name": "FloatProgressModel",
          "state": {
            "_dom_classes": [],
            "_model_module": "@jupyter-widgets/controls",
            "_model_module_version": "1.5.0",
            "_model_name": "FloatProgressModel",
            "_view_count": null,
            "_view_module": "@jupyter-widgets/controls",
            "_view_module_version": "1.5.0",
            "_view_name": "ProgressView",
            "bar_style": "danger",
            "description": "",
            "description_tooltip": null,
            "layout": "IPY_MODEL_0a270803f51f43d9b52912ce1643b0ba",
            "max": 10000,
            "min": 0,
            "orientation": "horizontal",
            "style": "IPY_MODEL_9b6081e40d5b4d59858566231539f317",
            "value": 846
          }
        },
        "99c05a980d5b4f618f3f31018956c774": {
          "model_module": "@jupyter-widgets/controls",
          "model_name": "HTMLModel",
          "state": {
            "_dom_classes": [],
            "_model_module": "@jupyter-widgets/controls",
            "_model_module_version": "1.5.0",
            "_model_name": "HTMLModel",
            "_view_count": null,
            "_view_module": "@jupyter-widgets/controls",
            "_view_module_version": "1.5.0",
            "_view_name": "HTMLView",
            "description": "",
            "description_tooltip": null,
            "layout": "IPY_MODEL_a6ff2b10a72243219cc3d8438c75826e",
            "placeholder": "​",
            "style": "IPY_MODEL_ce63b2fd6e904c53b47df8335c140228",
            "value": " 846/10000 [05:01&lt;54:21,  2.81it/s]"
          }
        },
        "bc64514e7fe84620b26e70ffaaefb3eb": {
          "model_module": "@jupyter-widgets/base",
          "model_name": "LayoutModel",
          "state": {
            "_model_module": "@jupyter-widgets/base",
            "_model_module_version": "1.2.0",
            "_model_name": "LayoutModel",
            "_view_count": null,
            "_view_module": "@jupyter-widgets/base",
            "_view_module_version": "1.2.0",
            "_view_name": "LayoutView",
            "align_content": null,
            "align_items": null,
            "align_self": null,
            "border": null,
            "bottom": null,
            "display": null,
            "flex": null,
            "flex_flow": null,
            "grid_area": null,
            "grid_auto_columns": null,
            "grid_auto_flow": null,
            "grid_auto_rows": null,
            "grid_column": null,
            "grid_gap": null,
            "grid_row": null,
            "grid_template_areas": null,
            "grid_template_columns": null,
            "grid_template_rows": null,
            "height": null,
            "justify_content": null,
            "justify_items": null,
            "left": null,
            "margin": null,
            "max_height": null,
            "max_width": null,
            "min_height": null,
            "min_width": null,
            "object_fit": null,
            "object_position": null,
            "order": null,
            "overflow": null,
            "overflow_x": null,
            "overflow_y": null,
            "padding": null,
            "right": null,
            "top": null,
            "visibility": null,
            "width": null
          }
        },
        "f2d16d453aaf403089bd42b2b0a18d37": {
          "model_module": "@jupyter-widgets/base",
          "model_name": "LayoutModel",
          "state": {
            "_model_module": "@jupyter-widgets/base",
            "_model_module_version": "1.2.0",
            "_model_name": "LayoutModel",
            "_view_count": null,
            "_view_module": "@jupyter-widgets/base",
            "_view_module_version": "1.2.0",
            "_view_name": "LayoutView",
            "align_content": null,
            "align_items": null,
            "align_self": null,
            "border": null,
            "bottom": null,
            "display": null,
            "flex": null,
            "flex_flow": null,
            "grid_area": null,
            "grid_auto_columns": null,
            "grid_auto_flow": null,
            "grid_auto_rows": null,
            "grid_column": null,
            "grid_gap": null,
            "grid_row": null,
            "grid_template_areas": null,
            "grid_template_columns": null,
            "grid_template_rows": null,
            "height": null,
            "justify_content": null,
            "justify_items": null,
            "left": null,
            "margin": null,
            "max_height": null,
            "max_width": null,
            "min_height": null,
            "min_width": null,
            "object_fit": null,
            "object_position": null,
            "order": null,
            "overflow": null,
            "overflow_x": null,
            "overflow_y": null,
            "padding": null,
            "right": null,
            "top": null,
            "visibility": null,
            "width": null
          }
        },
        "4caea97b0af14ed7845fcb0aa869d579": {
          "model_module": "@jupyter-widgets/controls",
          "model_name": "DescriptionStyleModel",
          "state": {
            "_model_module": "@jupyter-widgets/controls",
            "_model_module_version": "1.5.0",
            "_model_name": "DescriptionStyleModel",
            "_view_count": null,
            "_view_module": "@jupyter-widgets/base",
            "_view_module_version": "1.2.0",
            "_view_name": "StyleView",
            "description_width": ""
          }
        },
        "0a270803f51f43d9b52912ce1643b0ba": {
          "model_module": "@jupyter-widgets/base",
          "model_name": "LayoutModel",
          "state": {
            "_model_module": "@jupyter-widgets/base",
            "_model_module_version": "1.2.0",
            "_model_name": "LayoutModel",
            "_view_count": null,
            "_view_module": "@jupyter-widgets/base",
            "_view_module_version": "1.2.0",
            "_view_name": "LayoutView",
            "align_content": null,
            "align_items": null,
            "align_self": null,
            "border": null,
            "bottom": null,
            "display": null,
            "flex": null,
            "flex_flow": null,
            "grid_area": null,
            "grid_auto_columns": null,
            "grid_auto_flow": null,
            "grid_auto_rows": null,
            "grid_column": null,
            "grid_gap": null,
            "grid_row": null,
            "grid_template_areas": null,
            "grid_template_columns": null,
            "grid_template_rows": null,
            "height": null,
            "justify_content": null,
            "justify_items": null,
            "left": null,
            "margin": null,
            "max_height": null,
            "max_width": null,
            "min_height": null,
            "min_width": null,
            "object_fit": null,
            "object_position": null,
            "order": null,
            "overflow": null,
            "overflow_x": null,
            "overflow_y": null,
            "padding": null,
            "right": null,
            "top": null,
            "visibility": null,
            "width": null
          }
        },
        "9b6081e40d5b4d59858566231539f317": {
          "model_module": "@jupyter-widgets/controls",
          "model_name": "ProgressStyleModel",
          "state": {
            "_model_module": "@jupyter-widgets/controls",
            "_model_module_version": "1.5.0",
            "_model_name": "ProgressStyleModel",
            "_view_count": null,
            "_view_module": "@jupyter-widgets/base",
            "_view_module_version": "1.2.0",
            "_view_name": "StyleView",
            "bar_color": null,
            "description_width": ""
          }
        },
        "a6ff2b10a72243219cc3d8438c75826e": {
          "model_module": "@jupyter-widgets/base",
          "model_name": "LayoutModel",
          "state": {
            "_model_module": "@jupyter-widgets/base",
            "_model_module_version": "1.2.0",
            "_model_name": "LayoutModel",
            "_view_count": null,
            "_view_module": "@jupyter-widgets/base",
            "_view_module_version": "1.2.0",
            "_view_name": "LayoutView",
            "align_content": null,
            "align_items": null,
            "align_self": null,
            "border": null,
            "bottom": null,
            "display": null,
            "flex": null,
            "flex_flow": null,
            "grid_area": null,
            "grid_auto_columns": null,
            "grid_auto_flow": null,
            "grid_auto_rows": null,
            "grid_column": null,
            "grid_gap": null,
            "grid_row": null,
            "grid_template_areas": null,
            "grid_template_columns": null,
            "grid_template_rows": null,
            "height": null,
            "justify_content": null,
            "justify_items": null,
            "left": null,
            "margin": null,
            "max_height": null,
            "max_width": null,
            "min_height": null,
            "min_width": null,
            "object_fit": null,
            "object_position": null,
            "order": null,
            "overflow": null,
            "overflow_x": null,
            "overflow_y": null,
            "padding": null,
            "right": null,
            "top": null,
            "visibility": null,
            "width": null
          }
        },
        "ce63b2fd6e904c53b47df8335c140228": {
          "model_module": "@jupyter-widgets/controls",
          "model_name": "DescriptionStyleModel",
          "state": {
            "_model_module": "@jupyter-widgets/controls",
            "_model_module_version": "1.5.0",
            "_model_name": "DescriptionStyleModel",
            "_view_count": null,
            "_view_module": "@jupyter-widgets/base",
            "_view_module_version": "1.2.0",
            "_view_name": "StyleView",
            "description_width": ""
          }
        },
        "a0dbddfc3e434249bde4432b00244408": {
          "model_module": "@jupyter-widgets/controls",
          "model_name": "HBoxModel",
          "state": {
            "_dom_classes": [],
            "_model_module": "@jupyter-widgets/controls",
            "_model_module_version": "1.5.0",
            "_model_name": "HBoxModel",
            "_view_count": null,
            "_view_module": "@jupyter-widgets/controls",
            "_view_module_version": "1.5.0",
            "_view_name": "HBoxView",
            "box_style": "",
            "children": [
              "IPY_MODEL_3c8f6d1f09ac4836bec21521b5854c90",
              "IPY_MODEL_dde6f855cfcd41efade726d498d119fc",
              "IPY_MODEL_378ea9276bd141569cefa5eac471cdcc"
            ],
            "layout": "IPY_MODEL_ba4b89b35157467abc37295b66fc298f"
          }
        },
        "3c8f6d1f09ac4836bec21521b5854c90": {
          "model_module": "@jupyter-widgets/controls",
          "model_name": "HTMLModel",
          "state": {
            "_dom_classes": [],
            "_model_module": "@jupyter-widgets/controls",
            "_model_module_version": "1.5.0",
            "_model_name": "HTMLModel",
            "_view_count": null,
            "_view_module": "@jupyter-widgets/controls",
            "_view_module_version": "1.5.0",
            "_view_name": "HTMLView",
            "description": "",
            "description_tooltip": null,
            "layout": "IPY_MODEL_744a61c077264cc792846ee51ec4cec2",
            "placeholder": "​",
            "style": "IPY_MODEL_05118fdf943c42508daa3eab717200c1",
            "value": " 16%"
          }
        },
        "dde6f855cfcd41efade726d498d119fc": {
          "model_module": "@jupyter-widgets/controls",
          "model_name": "FloatProgressModel",
          "state": {
            "_dom_classes": [],
            "_model_module": "@jupyter-widgets/controls",
            "_model_module_version": "1.5.0",
            "_model_name": "FloatProgressModel",
            "_view_count": null,
            "_view_module": "@jupyter-widgets/controls",
            "_view_module_version": "1.5.0",
            "_view_name": "ProgressView",
            "bar_style": "danger",
            "description": "",
            "description_tooltip": null,
            "layout": "IPY_MODEL_4d3ee6b7266a438da14121a1e22e4463",
            "max": 10000,
            "min": 0,
            "orientation": "horizontal",
            "style": "IPY_MODEL_b545367871214dc8af5e160366d1cf50",
            "value": 1600
          }
        },
        "378ea9276bd141569cefa5eac471cdcc": {
          "model_module": "@jupyter-widgets/controls",
          "model_name": "HTMLModel",
          "state": {
            "_dom_classes": [],
            "_model_module": "@jupyter-widgets/controls",
            "_model_module_version": "1.5.0",
            "_model_name": "HTMLModel",
            "_view_count": null,
            "_view_module": "@jupyter-widgets/controls",
            "_view_module_version": "1.5.0",
            "_view_name": "HTMLView",
            "description": "",
            "description_tooltip": null,
            "layout": "IPY_MODEL_2ffb29937a01431986b6f5e1518725e5",
            "placeholder": "​",
            "style": "IPY_MODEL_2c4e28fd0e564cbdb4c553d4615574e2",
            "value": " 1600/10000 [00:47&lt;04:10, 33.58it/s]"
          }
        },
        "ba4b89b35157467abc37295b66fc298f": {
          "model_module": "@jupyter-widgets/base",
          "model_name": "LayoutModel",
          "state": {
            "_model_module": "@jupyter-widgets/base",
            "_model_module_version": "1.2.0",
            "_model_name": "LayoutModel",
            "_view_count": null,
            "_view_module": "@jupyter-widgets/base",
            "_view_module_version": "1.2.0",
            "_view_name": "LayoutView",
            "align_content": null,
            "align_items": null,
            "align_self": null,
            "border": null,
            "bottom": null,
            "display": null,
            "flex": null,
            "flex_flow": null,
            "grid_area": null,
            "grid_auto_columns": null,
            "grid_auto_flow": null,
            "grid_auto_rows": null,
            "grid_column": null,
            "grid_gap": null,
            "grid_row": null,
            "grid_template_areas": null,
            "grid_template_columns": null,
            "grid_template_rows": null,
            "height": null,
            "justify_content": null,
            "justify_items": null,
            "left": null,
            "margin": null,
            "max_height": null,
            "max_width": null,
            "min_height": null,
            "min_width": null,
            "object_fit": null,
            "object_position": null,
            "order": null,
            "overflow": null,
            "overflow_x": null,
            "overflow_y": null,
            "padding": null,
            "right": null,
            "top": null,
            "visibility": null,
            "width": null
          }
        },
        "744a61c077264cc792846ee51ec4cec2": {
          "model_module": "@jupyter-widgets/base",
          "model_name": "LayoutModel",
          "state": {
            "_model_module": "@jupyter-widgets/base",
            "_model_module_version": "1.2.0",
            "_model_name": "LayoutModel",
            "_view_count": null,
            "_view_module": "@jupyter-widgets/base",
            "_view_module_version": "1.2.0",
            "_view_name": "LayoutView",
            "align_content": null,
            "align_items": null,
            "align_self": null,
            "border": null,
            "bottom": null,
            "display": null,
            "flex": null,
            "flex_flow": null,
            "grid_area": null,
            "grid_auto_columns": null,
            "grid_auto_flow": null,
            "grid_auto_rows": null,
            "grid_column": null,
            "grid_gap": null,
            "grid_row": null,
            "grid_template_areas": null,
            "grid_template_columns": null,
            "grid_template_rows": null,
            "height": null,
            "justify_content": null,
            "justify_items": null,
            "left": null,
            "margin": null,
            "max_height": null,
            "max_width": null,
            "min_height": null,
            "min_width": null,
            "object_fit": null,
            "object_position": null,
            "order": null,
            "overflow": null,
            "overflow_x": null,
            "overflow_y": null,
            "padding": null,
            "right": null,
            "top": null,
            "visibility": null,
            "width": null
          }
        },
        "05118fdf943c42508daa3eab717200c1": {
          "model_module": "@jupyter-widgets/controls",
          "model_name": "DescriptionStyleModel",
          "state": {
            "_model_module": "@jupyter-widgets/controls",
            "_model_module_version": "1.5.0",
            "_model_name": "DescriptionStyleModel",
            "_view_count": null,
            "_view_module": "@jupyter-widgets/base",
            "_view_module_version": "1.2.0",
            "_view_name": "StyleView",
            "description_width": ""
          }
        },
        "4d3ee6b7266a438da14121a1e22e4463": {
          "model_module": "@jupyter-widgets/base",
          "model_name": "LayoutModel",
          "state": {
            "_model_module": "@jupyter-widgets/base",
            "_model_module_version": "1.2.0",
            "_model_name": "LayoutModel",
            "_view_count": null,
            "_view_module": "@jupyter-widgets/base",
            "_view_module_version": "1.2.0",
            "_view_name": "LayoutView",
            "align_content": null,
            "align_items": null,
            "align_self": null,
            "border": null,
            "bottom": null,
            "display": null,
            "flex": null,
            "flex_flow": null,
            "grid_area": null,
            "grid_auto_columns": null,
            "grid_auto_flow": null,
            "grid_auto_rows": null,
            "grid_column": null,
            "grid_gap": null,
            "grid_row": null,
            "grid_template_areas": null,
            "grid_template_columns": null,
            "grid_template_rows": null,
            "height": null,
            "justify_content": null,
            "justify_items": null,
            "left": null,
            "margin": null,
            "max_height": null,
            "max_width": null,
            "min_height": null,
            "min_width": null,
            "object_fit": null,
            "object_position": null,
            "order": null,
            "overflow": null,
            "overflow_x": null,
            "overflow_y": null,
            "padding": null,
            "right": null,
            "top": null,
            "visibility": null,
            "width": null
          }
        },
        "b545367871214dc8af5e160366d1cf50": {
          "model_module": "@jupyter-widgets/controls",
          "model_name": "ProgressStyleModel",
          "state": {
            "_model_module": "@jupyter-widgets/controls",
            "_model_module_version": "1.5.0",
            "_model_name": "ProgressStyleModel",
            "_view_count": null,
            "_view_module": "@jupyter-widgets/base",
            "_view_module_version": "1.2.0",
            "_view_name": "StyleView",
            "bar_color": null,
            "description_width": ""
          }
        },
        "2ffb29937a01431986b6f5e1518725e5": {
          "model_module": "@jupyter-widgets/base",
          "model_name": "LayoutModel",
          "state": {
            "_model_module": "@jupyter-widgets/base",
            "_model_module_version": "1.2.0",
            "_model_name": "LayoutModel",
            "_view_count": null,
            "_view_module": "@jupyter-widgets/base",
            "_view_module_version": "1.2.0",
            "_view_name": "LayoutView",
            "align_content": null,
            "align_items": null,
            "align_self": null,
            "border": null,
            "bottom": null,
            "display": null,
            "flex": null,
            "flex_flow": null,
            "grid_area": null,
            "grid_auto_columns": null,
            "grid_auto_flow": null,
            "grid_auto_rows": null,
            "grid_column": null,
            "grid_gap": null,
            "grid_row": null,
            "grid_template_areas": null,
            "grid_template_columns": null,
            "grid_template_rows": null,
            "height": null,
            "justify_content": null,
            "justify_items": null,
            "left": null,
            "margin": null,
            "max_height": null,
            "max_width": null,
            "min_height": null,
            "min_width": null,
            "object_fit": null,
            "object_position": null,
            "order": null,
            "overflow": null,
            "overflow_x": null,
            "overflow_y": null,
            "padding": null,
            "right": null,
            "top": null,
            "visibility": null,
            "width": null
          }
        },
        "2c4e28fd0e564cbdb4c553d4615574e2": {
          "model_module": "@jupyter-widgets/controls",
          "model_name": "DescriptionStyleModel",
          "state": {
            "_model_module": "@jupyter-widgets/controls",
            "_model_module_version": "1.5.0",
            "_model_name": "DescriptionStyleModel",
            "_view_count": null,
            "_view_module": "@jupyter-widgets/base",
            "_view_module_version": "1.2.0",
            "_view_name": "StyleView",
            "description_width": ""
          }
        },
        "f479321ada764499ab55287463b5db31": {
          "model_module": "@jupyter-widgets/controls",
          "model_name": "HBoxModel",
          "state": {
            "_dom_classes": [],
            "_model_module": "@jupyter-widgets/controls",
            "_model_module_version": "1.5.0",
            "_model_name": "HBoxModel",
            "_view_count": null,
            "_view_module": "@jupyter-widgets/controls",
            "_view_module_version": "1.5.0",
            "_view_name": "HBoxView",
            "box_style": "",
            "children": [
              "IPY_MODEL_0841013b2e4943c09c88b32bdfa38c9c",
              "IPY_MODEL_6973ec1ce00042c98f74e26418e96ea4",
              "IPY_MODEL_3b48175f00324c14a57c4571fb4dabe3"
            ],
            "layout": "IPY_MODEL_269c97bbe46c4233842d2f117b579322"
          }
        },
        "0841013b2e4943c09c88b32bdfa38c9c": {
          "model_module": "@jupyter-widgets/controls",
          "model_name": "HTMLModel",
          "state": {
            "_dom_classes": [],
            "_model_module": "@jupyter-widgets/controls",
            "_model_module_version": "1.5.0",
            "_model_name": "HTMLModel",
            "_view_count": null,
            "_view_module": "@jupyter-widgets/controls",
            "_view_module_version": "1.5.0",
            "_view_name": "HTMLView",
            "description": "",
            "description_tooltip": null,
            "layout": "IPY_MODEL_13bde425d7224e8c961b6853868de870",
            "placeholder": "​",
            "style": "IPY_MODEL_00aaccfe1c2042748c5630ec6b938ffe",
            "value": " 11%"
          }
        },
        "6973ec1ce00042c98f74e26418e96ea4": {
          "model_module": "@jupyter-widgets/controls",
          "model_name": "FloatProgressModel",
          "state": {
            "_dom_classes": [],
            "_model_module": "@jupyter-widgets/controls",
            "_model_module_version": "1.5.0",
            "_model_name": "FloatProgressModel",
            "_view_count": null,
            "_view_module": "@jupyter-widgets/controls",
            "_view_module_version": "1.5.0",
            "_view_name": "ProgressView",
            "bar_style": "danger",
            "description": "",
            "description_tooltip": null,
            "layout": "IPY_MODEL_936d963149504e2a9d96717480553bee",
            "max": 10000,
            "min": 0,
            "orientation": "horizontal",
            "style": "IPY_MODEL_086c115332884e5fa3dcdc00f9661354",
            "value": 1087
          }
        },
        "3b48175f00324c14a57c4571fb4dabe3": {
          "model_module": "@jupyter-widgets/controls",
          "model_name": "HTMLModel",
          "state": {
            "_dom_classes": [],
            "_model_module": "@jupyter-widgets/controls",
            "_model_module_version": "1.5.0",
            "_model_name": "HTMLModel",
            "_view_count": null,
            "_view_module": "@jupyter-widgets/controls",
            "_view_module_version": "1.5.0",
            "_view_name": "HTMLView",
            "description": "",
            "description_tooltip": null,
            "layout": "IPY_MODEL_4ee1540914de4410aa9196cf3f783087",
            "placeholder": "​",
            "style": "IPY_MODEL_dfe55e5a889540109a6574f462d305f9",
            "value": " 1087/10000 [03:46&lt;30:54,  4.81it/s]"
          }
        },
        "269c97bbe46c4233842d2f117b579322": {
          "model_module": "@jupyter-widgets/base",
          "model_name": "LayoutModel",
          "state": {
            "_model_module": "@jupyter-widgets/base",
            "_model_module_version": "1.2.0",
            "_model_name": "LayoutModel",
            "_view_count": null,
            "_view_module": "@jupyter-widgets/base",
            "_view_module_version": "1.2.0",
            "_view_name": "LayoutView",
            "align_content": null,
            "align_items": null,
            "align_self": null,
            "border": null,
            "bottom": null,
            "display": null,
            "flex": null,
            "flex_flow": null,
            "grid_area": null,
            "grid_auto_columns": null,
            "grid_auto_flow": null,
            "grid_auto_rows": null,
            "grid_column": null,
            "grid_gap": null,
            "grid_row": null,
            "grid_template_areas": null,
            "grid_template_columns": null,
            "grid_template_rows": null,
            "height": null,
            "justify_content": null,
            "justify_items": null,
            "left": null,
            "margin": null,
            "max_height": null,
            "max_width": null,
            "min_height": null,
            "min_width": null,
            "object_fit": null,
            "object_position": null,
            "order": null,
            "overflow": null,
            "overflow_x": null,
            "overflow_y": null,
            "padding": null,
            "right": null,
            "top": null,
            "visibility": null,
            "width": null
          }
        },
        "13bde425d7224e8c961b6853868de870": {
          "model_module": "@jupyter-widgets/base",
          "model_name": "LayoutModel",
          "state": {
            "_model_module": "@jupyter-widgets/base",
            "_model_module_version": "1.2.0",
            "_model_name": "LayoutModel",
            "_view_count": null,
            "_view_module": "@jupyter-widgets/base",
            "_view_module_version": "1.2.0",
            "_view_name": "LayoutView",
            "align_content": null,
            "align_items": null,
            "align_self": null,
            "border": null,
            "bottom": null,
            "display": null,
            "flex": null,
            "flex_flow": null,
            "grid_area": null,
            "grid_auto_columns": null,
            "grid_auto_flow": null,
            "grid_auto_rows": null,
            "grid_column": null,
            "grid_gap": null,
            "grid_row": null,
            "grid_template_areas": null,
            "grid_template_columns": null,
            "grid_template_rows": null,
            "height": null,
            "justify_content": null,
            "justify_items": null,
            "left": null,
            "margin": null,
            "max_height": null,
            "max_width": null,
            "min_height": null,
            "min_width": null,
            "object_fit": null,
            "object_position": null,
            "order": null,
            "overflow": null,
            "overflow_x": null,
            "overflow_y": null,
            "padding": null,
            "right": null,
            "top": null,
            "visibility": null,
            "width": null
          }
        },
        "00aaccfe1c2042748c5630ec6b938ffe": {
          "model_module": "@jupyter-widgets/controls",
          "model_name": "DescriptionStyleModel",
          "state": {
            "_model_module": "@jupyter-widgets/controls",
            "_model_module_version": "1.5.0",
            "_model_name": "DescriptionStyleModel",
            "_view_count": null,
            "_view_module": "@jupyter-widgets/base",
            "_view_module_version": "1.2.0",
            "_view_name": "StyleView",
            "description_width": ""
          }
        },
        "936d963149504e2a9d96717480553bee": {
          "model_module": "@jupyter-widgets/base",
          "model_name": "LayoutModel",
          "state": {
            "_model_module": "@jupyter-widgets/base",
            "_model_module_version": "1.2.0",
            "_model_name": "LayoutModel",
            "_view_count": null,
            "_view_module": "@jupyter-widgets/base",
            "_view_module_version": "1.2.0",
            "_view_name": "LayoutView",
            "align_content": null,
            "align_items": null,
            "align_self": null,
            "border": null,
            "bottom": null,
            "display": null,
            "flex": null,
            "flex_flow": null,
            "grid_area": null,
            "grid_auto_columns": null,
            "grid_auto_flow": null,
            "grid_auto_rows": null,
            "grid_column": null,
            "grid_gap": null,
            "grid_row": null,
            "grid_template_areas": null,
            "grid_template_columns": null,
            "grid_template_rows": null,
            "height": null,
            "justify_content": null,
            "justify_items": null,
            "left": null,
            "margin": null,
            "max_height": null,
            "max_width": null,
            "min_height": null,
            "min_width": null,
            "object_fit": null,
            "object_position": null,
            "order": null,
            "overflow": null,
            "overflow_x": null,
            "overflow_y": null,
            "padding": null,
            "right": null,
            "top": null,
            "visibility": null,
            "width": null
          }
        },
        "086c115332884e5fa3dcdc00f9661354": {
          "model_module": "@jupyter-widgets/controls",
          "model_name": "ProgressStyleModel",
          "state": {
            "_model_module": "@jupyter-widgets/controls",
            "_model_module_version": "1.5.0",
            "_model_name": "ProgressStyleModel",
            "_view_count": null,
            "_view_module": "@jupyter-widgets/base",
            "_view_module_version": "1.2.0",
            "_view_name": "StyleView",
            "bar_color": null,
            "description_width": ""
          }
        },
        "4ee1540914de4410aa9196cf3f783087": {
          "model_module": "@jupyter-widgets/base",
          "model_name": "LayoutModel",
          "state": {
            "_model_module": "@jupyter-widgets/base",
            "_model_module_version": "1.2.0",
            "_model_name": "LayoutModel",
            "_view_count": null,
            "_view_module": "@jupyter-widgets/base",
            "_view_module_version": "1.2.0",
            "_view_name": "LayoutView",
            "align_content": null,
            "align_items": null,
            "align_self": null,
            "border": null,
            "bottom": null,
            "display": null,
            "flex": null,
            "flex_flow": null,
            "grid_area": null,
            "grid_auto_columns": null,
            "grid_auto_flow": null,
            "grid_auto_rows": null,
            "grid_column": null,
            "grid_gap": null,
            "grid_row": null,
            "grid_template_areas": null,
            "grid_template_columns": null,
            "grid_template_rows": null,
            "height": null,
            "justify_content": null,
            "justify_items": null,
            "left": null,
            "margin": null,
            "max_height": null,
            "max_width": null,
            "min_height": null,
            "min_width": null,
            "object_fit": null,
            "object_position": null,
            "order": null,
            "overflow": null,
            "overflow_x": null,
            "overflow_y": null,
            "padding": null,
            "right": null,
            "top": null,
            "visibility": null,
            "width": null
          }
        },
        "dfe55e5a889540109a6574f462d305f9": {
          "model_module": "@jupyter-widgets/controls",
          "model_name": "DescriptionStyleModel",
          "state": {
            "_model_module": "@jupyter-widgets/controls",
            "_model_module_version": "1.5.0",
            "_model_name": "DescriptionStyleModel",
            "_view_count": null,
            "_view_module": "@jupyter-widgets/base",
            "_view_module_version": "1.2.0",
            "_view_name": "StyleView",
            "description_width": ""
          }
        },
        "1837b5d7d8d74ae0a24d0eee4728dbf7": {
          "model_module": "@jupyter-widgets/controls",
          "model_name": "HBoxModel",
          "state": {
            "_dom_classes": [],
            "_model_module": "@jupyter-widgets/controls",
            "_model_module_version": "1.5.0",
            "_model_name": "HBoxModel",
            "_view_count": null,
            "_view_module": "@jupyter-widgets/controls",
            "_view_module_version": "1.5.0",
            "_view_name": "HBoxView",
            "box_style": "",
            "children": [
              "IPY_MODEL_4769826d2d3a41828b33193d521dd0c1",
              "IPY_MODEL_e412d7b89d0a43d898c5724f9d32e59e",
              "IPY_MODEL_936e4f8585b649bfabb7e9121fdae613"
            ],
            "layout": "IPY_MODEL_02475d94ab3d433bbc42446730b059aa"
          }
        },
        "4769826d2d3a41828b33193d521dd0c1": {
          "model_module": "@jupyter-widgets/controls",
          "model_name": "HTMLModel",
          "state": {
            "_dom_classes": [],
            "_model_module": "@jupyter-widgets/controls",
            "_model_module_version": "1.5.0",
            "_model_name": "HTMLModel",
            "_view_count": null,
            "_view_module": "@jupyter-widgets/controls",
            "_view_module_version": "1.5.0",
            "_view_name": "HTMLView",
            "description": "",
            "description_tooltip": null,
            "layout": "IPY_MODEL_7eff222eff76471c8e0a4b9231a4ce7e",
            "placeholder": "​",
            "style": "IPY_MODEL_bf24481c1e7845c1b2299347cb5a9fc2",
            "value": "  9%"
          }
        },
        "e412d7b89d0a43d898c5724f9d32e59e": {
          "model_module": "@jupyter-widgets/controls",
          "model_name": "FloatProgressModel",
          "state": {
            "_dom_classes": [],
            "_model_module": "@jupyter-widgets/controls",
            "_model_module_version": "1.5.0",
            "_model_name": "FloatProgressModel",
            "_view_count": null,
            "_view_module": "@jupyter-widgets/controls",
            "_view_module_version": "1.5.0",
            "_view_name": "ProgressView",
            "bar_style": "danger",
            "description": "",
            "description_tooltip": null,
            "layout": "IPY_MODEL_ddf3baae46054c4a8915d12720003b3a",
            "max": 10000,
            "min": 0,
            "orientation": "horizontal",
            "style": "IPY_MODEL_35f9e093aa94429cb81c3fa1e18c0ff7",
            "value": 879
          }
        },
        "936e4f8585b649bfabb7e9121fdae613": {
          "model_module": "@jupyter-widgets/controls",
          "model_name": "HTMLModel",
          "state": {
            "_dom_classes": [],
            "_model_module": "@jupyter-widgets/controls",
            "_model_module_version": "1.5.0",
            "_model_name": "HTMLModel",
            "_view_count": null,
            "_view_module": "@jupyter-widgets/controls",
            "_view_module_version": "1.5.0",
            "_view_name": "HTMLView",
            "description": "",
            "description_tooltip": null,
            "layout": "IPY_MODEL_ab946141b0e64f95b9ddf2e782432d50",
            "placeholder": "​",
            "style": "IPY_MODEL_616a354befe847bc9cc51396e749535c",
            "value": " 879/10000 [00:24&lt;04:18, 35.23it/s]"
          }
        },
        "02475d94ab3d433bbc42446730b059aa": {
          "model_module": "@jupyter-widgets/base",
          "model_name": "LayoutModel",
          "state": {
            "_model_module": "@jupyter-widgets/base",
            "_model_module_version": "1.2.0",
            "_model_name": "LayoutModel",
            "_view_count": null,
            "_view_module": "@jupyter-widgets/base",
            "_view_module_version": "1.2.0",
            "_view_name": "LayoutView",
            "align_content": null,
            "align_items": null,
            "align_self": null,
            "border": null,
            "bottom": null,
            "display": null,
            "flex": null,
            "flex_flow": null,
            "grid_area": null,
            "grid_auto_columns": null,
            "grid_auto_flow": null,
            "grid_auto_rows": null,
            "grid_column": null,
            "grid_gap": null,
            "grid_row": null,
            "grid_template_areas": null,
            "grid_template_columns": null,
            "grid_template_rows": null,
            "height": null,
            "justify_content": null,
            "justify_items": null,
            "left": null,
            "margin": null,
            "max_height": null,
            "max_width": null,
            "min_height": null,
            "min_width": null,
            "object_fit": null,
            "object_position": null,
            "order": null,
            "overflow": null,
            "overflow_x": null,
            "overflow_y": null,
            "padding": null,
            "right": null,
            "top": null,
            "visibility": null,
            "width": null
          }
        },
        "7eff222eff76471c8e0a4b9231a4ce7e": {
          "model_module": "@jupyter-widgets/base",
          "model_name": "LayoutModel",
          "state": {
            "_model_module": "@jupyter-widgets/base",
            "_model_module_version": "1.2.0",
            "_model_name": "LayoutModel",
            "_view_count": null,
            "_view_module": "@jupyter-widgets/base",
            "_view_module_version": "1.2.0",
            "_view_name": "LayoutView",
            "align_content": null,
            "align_items": null,
            "align_self": null,
            "border": null,
            "bottom": null,
            "display": null,
            "flex": null,
            "flex_flow": null,
            "grid_area": null,
            "grid_auto_columns": null,
            "grid_auto_flow": null,
            "grid_auto_rows": null,
            "grid_column": null,
            "grid_gap": null,
            "grid_row": null,
            "grid_template_areas": null,
            "grid_template_columns": null,
            "grid_template_rows": null,
            "height": null,
            "justify_content": null,
            "justify_items": null,
            "left": null,
            "margin": null,
            "max_height": null,
            "max_width": null,
            "min_height": null,
            "min_width": null,
            "object_fit": null,
            "object_position": null,
            "order": null,
            "overflow": null,
            "overflow_x": null,
            "overflow_y": null,
            "padding": null,
            "right": null,
            "top": null,
            "visibility": null,
            "width": null
          }
        },
        "bf24481c1e7845c1b2299347cb5a9fc2": {
          "model_module": "@jupyter-widgets/controls",
          "model_name": "DescriptionStyleModel",
          "state": {
            "_model_module": "@jupyter-widgets/controls",
            "_model_module_version": "1.5.0",
            "_model_name": "DescriptionStyleModel",
            "_view_count": null,
            "_view_module": "@jupyter-widgets/base",
            "_view_module_version": "1.2.0",
            "_view_name": "StyleView",
            "description_width": ""
          }
        },
        "ddf3baae46054c4a8915d12720003b3a": {
          "model_module": "@jupyter-widgets/base",
          "model_name": "LayoutModel",
          "state": {
            "_model_module": "@jupyter-widgets/base",
            "_model_module_version": "1.2.0",
            "_model_name": "LayoutModel",
            "_view_count": null,
            "_view_module": "@jupyter-widgets/base",
            "_view_module_version": "1.2.0",
            "_view_name": "LayoutView",
            "align_content": null,
            "align_items": null,
            "align_self": null,
            "border": null,
            "bottom": null,
            "display": null,
            "flex": null,
            "flex_flow": null,
            "grid_area": null,
            "grid_auto_columns": null,
            "grid_auto_flow": null,
            "grid_auto_rows": null,
            "grid_column": null,
            "grid_gap": null,
            "grid_row": null,
            "grid_template_areas": null,
            "grid_template_columns": null,
            "grid_template_rows": null,
            "height": null,
            "justify_content": null,
            "justify_items": null,
            "left": null,
            "margin": null,
            "max_height": null,
            "max_width": null,
            "min_height": null,
            "min_width": null,
            "object_fit": null,
            "object_position": null,
            "order": null,
            "overflow": null,
            "overflow_x": null,
            "overflow_y": null,
            "padding": null,
            "right": null,
            "top": null,
            "visibility": null,
            "width": null
          }
        },
        "35f9e093aa94429cb81c3fa1e18c0ff7": {
          "model_module": "@jupyter-widgets/controls",
          "model_name": "ProgressStyleModel",
          "state": {
            "_model_module": "@jupyter-widgets/controls",
            "_model_module_version": "1.5.0",
            "_model_name": "ProgressStyleModel",
            "_view_count": null,
            "_view_module": "@jupyter-widgets/base",
            "_view_module_version": "1.2.0",
            "_view_name": "StyleView",
            "bar_color": null,
            "description_width": ""
          }
        },
        "ab946141b0e64f95b9ddf2e782432d50": {
          "model_module": "@jupyter-widgets/base",
          "model_name": "LayoutModel",
          "state": {
            "_model_module": "@jupyter-widgets/base",
            "_model_module_version": "1.2.0",
            "_model_name": "LayoutModel",
            "_view_count": null,
            "_view_module": "@jupyter-widgets/base",
            "_view_module_version": "1.2.0",
            "_view_name": "LayoutView",
            "align_content": null,
            "align_items": null,
            "align_self": null,
            "border": null,
            "bottom": null,
            "display": null,
            "flex": null,
            "flex_flow": null,
            "grid_area": null,
            "grid_auto_columns": null,
            "grid_auto_flow": null,
            "grid_auto_rows": null,
            "grid_column": null,
            "grid_gap": null,
            "grid_row": null,
            "grid_template_areas": null,
            "grid_template_columns": null,
            "grid_template_rows": null,
            "height": null,
            "justify_content": null,
            "justify_items": null,
            "left": null,
            "margin": null,
            "max_height": null,
            "max_width": null,
            "min_height": null,
            "min_width": null,
            "object_fit": null,
            "object_position": null,
            "order": null,
            "overflow": null,
            "overflow_x": null,
            "overflow_y": null,
            "padding": null,
            "right": null,
            "top": null,
            "visibility": null,
            "width": null
          }
        },
        "616a354befe847bc9cc51396e749535c": {
          "model_module": "@jupyter-widgets/controls",
          "model_name": "DescriptionStyleModel",
          "state": {
            "_model_module": "@jupyter-widgets/controls",
            "_model_module_version": "1.5.0",
            "_model_name": "DescriptionStyleModel",
            "_view_count": null,
            "_view_module": "@jupyter-widgets/base",
            "_view_module_version": "1.2.0",
            "_view_name": "StyleView",
            "description_width": ""
          }
        },
        "ce9c70562251422a8ec6c6f4da0212e7": {
          "model_module": "@jupyter-widgets/controls",
          "model_name": "HBoxModel",
          "state": {
            "_dom_classes": [],
            "_model_module": "@jupyter-widgets/controls",
            "_model_module_version": "1.5.0",
            "_model_name": "HBoxModel",
            "_view_count": null,
            "_view_module": "@jupyter-widgets/controls",
            "_view_module_version": "1.5.0",
            "_view_name": "HBoxView",
            "box_style": "",
            "children": [
              "IPY_MODEL_85f7a4945d09435d89cb1f30accc6c16",
              "IPY_MODEL_e572b78aea784ccf9d2d55db67c900fd",
              "IPY_MODEL_b050c1bbf63647d8a1fd0d41513e7cf3"
            ],
            "layout": "IPY_MODEL_ab5e9f944a494ed38928cf61696e29c9"
          }
        },
        "85f7a4945d09435d89cb1f30accc6c16": {
          "model_module": "@jupyter-widgets/controls",
          "model_name": "HTMLModel",
          "state": {
            "_dom_classes": [],
            "_model_module": "@jupyter-widgets/controls",
            "_model_module_version": "1.5.0",
            "_model_name": "HTMLModel",
            "_view_count": null,
            "_view_module": "@jupyter-widgets/controls",
            "_view_module_version": "1.5.0",
            "_view_name": "HTMLView",
            "description": "",
            "description_tooltip": null,
            "layout": "IPY_MODEL_ae6d79e176444cc8baf50b8e9804b0ec",
            "placeholder": "​",
            "style": "IPY_MODEL_32f7c573f71e4866aaa231cbfa67f7fd",
            "value": "  9%"
          }
        },
        "e572b78aea784ccf9d2d55db67c900fd": {
          "model_module": "@jupyter-widgets/controls",
          "model_name": "FloatProgressModel",
          "state": {
            "_dom_classes": [],
            "_model_module": "@jupyter-widgets/controls",
            "_model_module_version": "1.5.0",
            "_model_name": "FloatProgressModel",
            "_view_count": null,
            "_view_module": "@jupyter-widgets/controls",
            "_view_module_version": "1.5.0",
            "_view_name": "ProgressView",
            "bar_style": "danger",
            "description": "",
            "description_tooltip": null,
            "layout": "IPY_MODEL_7e63dbebca18475d9486d6611e6ab5a5",
            "max": 10000,
            "min": 0,
            "orientation": "horizontal",
            "style": "IPY_MODEL_80f8592d45d944bdbc4d0c3842a762e5",
            "value": 853
          }
        },
        "b050c1bbf63647d8a1fd0d41513e7cf3": {
          "model_module": "@jupyter-widgets/controls",
          "model_name": "HTMLModel",
          "state": {
            "_dom_classes": [],
            "_model_module": "@jupyter-widgets/controls",
            "_model_module_version": "1.5.0",
            "_model_name": "HTMLModel",
            "_view_count": null,
            "_view_module": "@jupyter-widgets/controls",
            "_view_module_version": "1.5.0",
            "_view_name": "HTMLView",
            "description": "",
            "description_tooltip": null,
            "layout": "IPY_MODEL_be5d21d7b5fe4a5f9f7252dd94f46ac4",
            "placeholder": "​",
            "style": "IPY_MODEL_21c38586d1de4f42bb682c7ecde36ea1",
            "value": " 853/10000 [02:49&lt;30:19,  5.03it/s]"
          }
        },
        "ab5e9f944a494ed38928cf61696e29c9": {
          "model_module": "@jupyter-widgets/base",
          "model_name": "LayoutModel",
          "state": {
            "_model_module": "@jupyter-widgets/base",
            "_model_module_version": "1.2.0",
            "_model_name": "LayoutModel",
            "_view_count": null,
            "_view_module": "@jupyter-widgets/base",
            "_view_module_version": "1.2.0",
            "_view_name": "LayoutView",
            "align_content": null,
            "align_items": null,
            "align_self": null,
            "border": null,
            "bottom": null,
            "display": null,
            "flex": null,
            "flex_flow": null,
            "grid_area": null,
            "grid_auto_columns": null,
            "grid_auto_flow": null,
            "grid_auto_rows": null,
            "grid_column": null,
            "grid_gap": null,
            "grid_row": null,
            "grid_template_areas": null,
            "grid_template_columns": null,
            "grid_template_rows": null,
            "height": null,
            "justify_content": null,
            "justify_items": null,
            "left": null,
            "margin": null,
            "max_height": null,
            "max_width": null,
            "min_height": null,
            "min_width": null,
            "object_fit": null,
            "object_position": null,
            "order": null,
            "overflow": null,
            "overflow_x": null,
            "overflow_y": null,
            "padding": null,
            "right": null,
            "top": null,
            "visibility": null,
            "width": null
          }
        },
        "ae6d79e176444cc8baf50b8e9804b0ec": {
          "model_module": "@jupyter-widgets/base",
          "model_name": "LayoutModel",
          "state": {
            "_model_module": "@jupyter-widgets/base",
            "_model_module_version": "1.2.0",
            "_model_name": "LayoutModel",
            "_view_count": null,
            "_view_module": "@jupyter-widgets/base",
            "_view_module_version": "1.2.0",
            "_view_name": "LayoutView",
            "align_content": null,
            "align_items": null,
            "align_self": null,
            "border": null,
            "bottom": null,
            "display": null,
            "flex": null,
            "flex_flow": null,
            "grid_area": null,
            "grid_auto_columns": null,
            "grid_auto_flow": null,
            "grid_auto_rows": null,
            "grid_column": null,
            "grid_gap": null,
            "grid_row": null,
            "grid_template_areas": null,
            "grid_template_columns": null,
            "grid_template_rows": null,
            "height": null,
            "justify_content": null,
            "justify_items": null,
            "left": null,
            "margin": null,
            "max_height": null,
            "max_width": null,
            "min_height": null,
            "min_width": null,
            "object_fit": null,
            "object_position": null,
            "order": null,
            "overflow": null,
            "overflow_x": null,
            "overflow_y": null,
            "padding": null,
            "right": null,
            "top": null,
            "visibility": null,
            "width": null
          }
        },
        "32f7c573f71e4866aaa231cbfa67f7fd": {
          "model_module": "@jupyter-widgets/controls",
          "model_name": "DescriptionStyleModel",
          "state": {
            "_model_module": "@jupyter-widgets/controls",
            "_model_module_version": "1.5.0",
            "_model_name": "DescriptionStyleModel",
            "_view_count": null,
            "_view_module": "@jupyter-widgets/base",
            "_view_module_version": "1.2.0",
            "_view_name": "StyleView",
            "description_width": ""
          }
        },
        "7e63dbebca18475d9486d6611e6ab5a5": {
          "model_module": "@jupyter-widgets/base",
          "model_name": "LayoutModel",
          "state": {
            "_model_module": "@jupyter-widgets/base",
            "_model_module_version": "1.2.0",
            "_model_name": "LayoutModel",
            "_view_count": null,
            "_view_module": "@jupyter-widgets/base",
            "_view_module_version": "1.2.0",
            "_view_name": "LayoutView",
            "align_content": null,
            "align_items": null,
            "align_self": null,
            "border": null,
            "bottom": null,
            "display": null,
            "flex": null,
            "flex_flow": null,
            "grid_area": null,
            "grid_auto_columns": null,
            "grid_auto_flow": null,
            "grid_auto_rows": null,
            "grid_column": null,
            "grid_gap": null,
            "grid_row": null,
            "grid_template_areas": null,
            "grid_template_columns": null,
            "grid_template_rows": null,
            "height": null,
            "justify_content": null,
            "justify_items": null,
            "left": null,
            "margin": null,
            "max_height": null,
            "max_width": null,
            "min_height": null,
            "min_width": null,
            "object_fit": null,
            "object_position": null,
            "order": null,
            "overflow": null,
            "overflow_x": null,
            "overflow_y": null,
            "padding": null,
            "right": null,
            "top": null,
            "visibility": null,
            "width": null
          }
        },
        "80f8592d45d944bdbc4d0c3842a762e5": {
          "model_module": "@jupyter-widgets/controls",
          "model_name": "ProgressStyleModel",
          "state": {
            "_model_module": "@jupyter-widgets/controls",
            "_model_module_version": "1.5.0",
            "_model_name": "ProgressStyleModel",
            "_view_count": null,
            "_view_module": "@jupyter-widgets/base",
            "_view_module_version": "1.2.0",
            "_view_name": "StyleView",
            "bar_color": null,
            "description_width": ""
          }
        },
        "be5d21d7b5fe4a5f9f7252dd94f46ac4": {
          "model_module": "@jupyter-widgets/base",
          "model_name": "LayoutModel",
          "state": {
            "_model_module": "@jupyter-widgets/base",
            "_model_module_version": "1.2.0",
            "_model_name": "LayoutModel",
            "_view_count": null,
            "_view_module": "@jupyter-widgets/base",
            "_view_module_version": "1.2.0",
            "_view_name": "LayoutView",
            "align_content": null,
            "align_items": null,
            "align_self": null,
            "border": null,
            "bottom": null,
            "display": null,
            "flex": null,
            "flex_flow": null,
            "grid_area": null,
            "grid_auto_columns": null,
            "grid_auto_flow": null,
            "grid_auto_rows": null,
            "grid_column": null,
            "grid_gap": null,
            "grid_row": null,
            "grid_template_areas": null,
            "grid_template_columns": null,
            "grid_template_rows": null,
            "height": null,
            "justify_content": null,
            "justify_items": null,
            "left": null,
            "margin": null,
            "max_height": null,
            "max_width": null,
            "min_height": null,
            "min_width": null,
            "object_fit": null,
            "object_position": null,
            "order": null,
            "overflow": null,
            "overflow_x": null,
            "overflow_y": null,
            "padding": null,
            "right": null,
            "top": null,
            "visibility": null,
            "width": null
          }
        },
        "21c38586d1de4f42bb682c7ecde36ea1": {
          "model_module": "@jupyter-widgets/controls",
          "model_name": "DescriptionStyleModel",
          "state": {
            "_model_module": "@jupyter-widgets/controls",
            "_model_module_version": "1.5.0",
            "_model_name": "DescriptionStyleModel",
            "_view_count": null,
            "_view_module": "@jupyter-widgets/base",
            "_view_module_version": "1.2.0",
            "_view_name": "StyleView",
            "description_width": ""
          }
        }
      }
    }
  },
  "cells": [
    {
      "cell_type": "markdown",
      "metadata": {
        "id": "Nu_-D3GPVjzM"
      },
      "source": [
        "# Regression"
      ]
    },
    {
      "cell_type": "markdown",
      "metadata": {
        "id": "zzlRutEpWOjh"
      },
      "source": [
        "preliminary operations"
      ]
    },
    {
      "cell_type": "code",
      "metadata": {
        "id": "HvHCC_TaVhsq"
      },
      "source": [
        "# from google.colab import files # in order to be able to download and upload files\n",
        "\n",
        "import numpy as np\n",
        "import pandas as pd\n",
        "import matplotlib.pyplot as plt\n",
        "import time\n",
        "\n",
        "import torch\n",
        "import torch.nn as nn\n",
        "import torch.optim as optim\n",
        "from torch.utils.data import Dataset, DataLoader, Subset\n",
        "from torchvision import transforms\n",
        "\n",
        "from sklearn.model_selection import train_test_split, KFold\n",
        "\n",
        "import os\n",
        "from tqdm.notebook import tqdm"
      ],
      "execution_count": 1,
      "outputs": []
    },
    {
      "cell_type": "code",
      "metadata": {
        "id": "DvzXlwCZWHEj"
      },
      "source": [
        "os.environ['CUDA_LAUNCH_BLOCKING'] = '1' # solving a bug of colab."
      ],
      "execution_count": 2,
      "outputs": []
    },
    {
      "cell_type": "code",
      "metadata": {
        "id": "IGDTOEMdvq5e",
        "colab": {
          "base_uri": "https://localhost:8080/"
        },
        "outputId": "d4b46d31-8bc1-4a4c-c30f-ac6a983630b6"
      },
      "source": [
        "# Check if the GPU is available\n",
        "device = torch.device(\"cuda\") if torch.cuda.is_available() else torch.device(\"cpu\")\n",
        "print(f\"Training device: {device}: {torch.cuda.get_device_name(0)}\")"
      ],
      "execution_count": 3,
      "outputs": [
        {
          "output_type": "stream",
          "text": [
            "Training device: cuda: GeForce GTX 960M\n"
          ],
          "name": "stdout"
        }
      ]
    },
    {
      "cell_type": "markdown",
      "metadata": {
        "id": "jHEFpwcIfO0a"
      },
      "source": [
        "## Datasets"
      ]
    },
    {
      "cell_type": "code",
      "metadata": {
        "id": "rLapFE8IWM_B",
        "colab": {
          "base_uri": "https://localhost:8080/"
        },
        "outputId": "42ddd1f2-aebe-40a9-c806-133e1b85e742"
      },
      "source": [
        "# get the datasets\n",
        "\n",
        "!wget -P regression_dataset https://gitlab.dei.unipd.it/gadaleta/nnld-2020-21-lab-resources/-/raw/master/homework_1_regression_dataset/train_data.csv\n",
        "!wget -P regression_dataset https://gitlab.dei.unipd.it/gadaleta/nnld-2020-21-lab-resources/-/raw/master/homework_1_regression_dataset/test_data.csv\n",
        "\n",
        "all_train_df = pd.read_csv('regression_dataset/train_data.csv')\n",
        "test_df = pd.read_csv('regression_dataset/test_data.csv')"
      ],
      "execution_count": 4,
      "outputs": [
        {
          "output_type": "stream",
          "text": [
            "--2021-01-09 10:54:22--  https://gitlab.dei.unipd.it/gadaleta/nnld-2020-21-lab-resources/-/raw/master/homework_1_regression_dataset/train_data.csv\r\n",
            "Risoluzione di gitlab.dei.unipd.it (gitlab.dei.unipd.it)... 147.162.2.85\n",
            "Connessione a gitlab.dei.unipd.it (gitlab.dei.unipd.it)|147.162.2.85|:443... connesso.\n",
            "Richiesta HTTP inviata, in attesa di risposta... 200 OK\n",
            "Lunghezza: 3776 (3,7K) [text/plain]\n",
            "Salvataggio in: \"regression_dataset/train_data.csv.4\"\n",
            "\n",
            "train_data.csv.4    100%[===================>]   3,69K  --.-KB/s    in 0,001s  \n",
            "\n",
            "2021-01-09 10:54:23 (3,75 MB/s) - \"regression_dataset/train_data.csv.4\" salvato [3776/3776]\n",
            "\n",
            "--2021-01-09 10:54:23--  https://gitlab.dei.unipd.it/gadaleta/nnld-2020-21-lab-resources/-/raw/master/homework_1_regression_dataset/test_data.csv\n",
            "Risoluzione di gitlab.dei.unipd.it (gitlab.dei.unipd.it)... 147.162.2.85\n",
            "Connessione a gitlab.dei.unipd.it (gitlab.dei.unipd.it)|147.162.2.85|:443... connesso.\n",
            "Richiesta HTTP inviata, in attesa di risposta... 200 OK\n",
            "Lunghezza: 3788 (3,7K) [text/plain]\n",
            "Salvataggio in: \"regression_dataset/test_data.csv.4\"\n",
            "\n",
            "test_data.csv.4     100%[===================>]   3,70K  --.-KB/s    in 0,001s  \n",
            "\n",
            "2021-01-09 10:54:23 (3,34 MB/s) - \"regression_dataset/test_data.csv.4\" salvato [3788/3788]\n",
            "\n"
          ],
          "name": "stdout"
        }
      ]
    },
    {
      "cell_type": "code",
      "metadata": {
        "id": "ANpFgBxyfR2j"
      },
      "source": [
        "class CsvDataset(Dataset):\n",
        "\n",
        "  def __init__(self, data_df, transform=None):\n",
        "    '''\n",
        "    Args:\n",
        "      data_df: pd.DataFrame object with the data\n",
        "      transform (callable, optional): Optional transform to be applied on a sample.\n",
        "    '''\n",
        "    self.transform = transform\n",
        "    self.data = data_df\n",
        "\n",
        "  def __len__(self):\n",
        "    return len(self.data)\n",
        "\n",
        "  def __getitem__(self, idx):\n",
        "    row = self.data.iloc[idx]\n",
        "    sample = (row.input, row.label)\n",
        "\n",
        "    if self.transform:\n",
        "      sample = self.transform(sample)\n",
        "    return sample\n",
        "\n",
        "class ArrayDataset(Dataset):\n",
        "  '''\n",
        "  Args:\n",
        "    data_array: np.array with the data with shape (n_data, 2)\n",
        "    transform (callable, optional): Optional transform to be applied on a sample.\n",
        "  '''\n",
        "  def __init__(self, data_array, transform=None):\n",
        "    self.transform = transform\n",
        "    self.data = data_array\n",
        "\n",
        "  def __len__(self):\n",
        "    return len(self.data)\n",
        "\n",
        "  def __getitem__(self,idx):\n",
        "    sample = (self.data[idx,0], self.data[idx,1])\n",
        "    if self.transform:\n",
        "      sample = self.transform(sample)\n",
        "    return sample\n",
        "\n",
        "\n",
        "class ToTensor(object):\n",
        "    '''\n",
        "    Convert sample to Tensors.\n",
        "    '''\n",
        "    def __call__(self, sample):\n",
        "      x,y = sample\n",
        "      return (torch.tensor([x]).float(), torch.tensor([y]).float())"
      ],
      "execution_count": 5,
      "outputs": []
    },
    {
      "cell_type": "code",
      "metadata": {
        "id": "bknavpUsgudm"
      },
      "source": [
        "composed_transform = transforms.Compose([ToTensor()])\n",
        "\n",
        "all_train_dataset = CsvDataset(all_train_df, transform=composed_transform)\n",
        "test_dataset   = CsvDataset(test_df, transform=composed_transform)"
      ],
      "execution_count": 6,
      "outputs": []
    },
    {
      "cell_type": "markdown",
      "metadata": {
        "id": "760X6g8sDG_7"
      },
      "source": [
        "## Basic solution"
      ]
    },
    {
      "cell_type": "markdown",
      "metadata": {
        "id": "WbNoVhdzXkBm"
      },
      "source": [
        "### Network definition"
      ]
    },
    {
      "cell_type": "code",
      "metadata": {
        "id": "-6WzBtxCaVnP"
      },
      "source": [
        "class Net(nn.Module):\n",
        "  def __init__(self, Ni=1, Nh1=None, Nh2=None, No=1, activation_function=nn.Sigmoid(), verbose=False):\n",
        "    '''\n",
        "    Network with 2 hidden linear layers\n",
        "    '''\n",
        "    super().__init__()\n",
        "    self.No = No\n",
        "\n",
        "    self.fc1 = nn.Linear(in_features=Ni,out_features=Nh1)\n",
        "    self.fc2 = nn.Linear(in_features=Nh1,out_features=Nh2)\n",
        "    self.out = nn.Linear(in_features=Nh2,out_features=self.No)\n",
        "\n",
        "    self.act = activation_function\n",
        "\n",
        "    if verbose:\n",
        "      print('Network initialized')\n",
        "\n",
        "  def forward(self, x):\n",
        "\n",
        "    x = self.act(self.fc1(x))\n",
        "    x = self.act(self.fc2(x))\n",
        "    x = self.out(x)\n",
        "\n",
        "    return x"
      ],
      "execution_count": 7,
      "outputs": []
    },
    {
      "cell_type": "code",
      "metadata": {
        "id": "-BllWJXhCZKf"
      },
      "source": [
        "class Evolver(object):\n",
        "  '''\n",
        "  Class for evolving the Network. This class is a starting point: to do more advanced stuff one can define new classes inheriting from this one.\n",
        "\n",
        "  Args:\n",
        "    net\n",
        "    optimizer: needs to be already linked to the net\n",
        "    loss_function\n",
        "    train_dataloader: training Dataloader\n",
        "    val_dataloader: validation Dataloader\n",
        "  '''\n",
        "  def __init__(self, net, optimizer, loss_function, train_dataloader, val_dataloader):\n",
        "    self.net = net\n",
        "    self.optimizer = optimizer\n",
        "    self.loss_function = loss_function\n",
        "\n",
        "    self.train_dataloader = train_dataloader\n",
        "    self.val_dataloader = val_dataloader\n",
        "\n",
        "    self.train_loss_log = []\n",
        "    self.val_loss_log = []\n",
        "\n",
        "\n",
        "  def stop_learning(self,epoch_num):\n",
        "    return False\n",
        "\n",
        "\n",
        "  def train_epoch(self):\n",
        "    train_loss= []\n",
        "    self.net.train() # Training mode\n",
        "    for sample_batched in self.train_dataloader:\n",
        "      # Move data to device\n",
        "      x_batch = sample_batched[0].to(device)\n",
        "      label_batch = sample_batched[1].to(device)\n",
        "      # set previous gradients to 0\n",
        "      self.optimizer.zero_grad()\n",
        "      # Forward pass\n",
        "      out = self.net(x_batch)\n",
        "      # Compute loss\n",
        "      loss = self.loss_function(out,label_batch)\n",
        "      # Backpropagation\n",
        "      loss.backward()\n",
        "      # Update the weights\n",
        "      self.optimizer.step()\n",
        "\n",
        "      # Save train loss for this batch\n",
        "      loss_batch = loss.detach().cpu().numpy()\n",
        "      train_loss.append(loss_batch)\n",
        "\n",
        "    # Save average train loss\n",
        "    train_loss = np.mean(train_loss)\n",
        "    return train_loss\n",
        "\n",
        "  def val_epoch(self,dl):\n",
        "    '''\n",
        "    Args:\n",
        "      dl: Dataloader on which to perform the test\n",
        "    '''\n",
        "    val_loss= []\n",
        "    self.net.eval() # Evaluation mode\n",
        "    with torch.no_grad(): # Disable gradient tracking\n",
        "      for sample_batched in dl:\n",
        "        # Move data to device\n",
        "        x_batch = sample_batched[0].to(device)\n",
        "        label_batch = sample_batched[1].to(device)\n",
        "        # Forward pass\n",
        "        out = self.net(x_batch)\n",
        "        # Compute loss\n",
        "        loss = self.loss_function(out,label_batch)\n",
        "        # Save val loss for this batch\n",
        "        loss_batch = loss.detach().cpu().numpy()\n",
        "        val_loss.append(loss_batch)\n",
        "\n",
        "      # Save average validation loss\n",
        "      val_loss = np.mean(val_loss)\n",
        "      return val_loss\n",
        "\n",
        "  def evolve(self,num_epochs,verbose=False):\n",
        "\n",
        "    ### TRAINING LOOP\n",
        "    for epoch_num in tqdm(range(num_epochs)):\n",
        "      if verbose:\n",
        "        print('#################')\n",
        "        print(f'# EPOCH {epoch_num}')\n",
        "\n",
        "      ### TRAIN\n",
        "      train_loss = self.train_epoch()\n",
        "      if verbose:\n",
        "        print(f\"AVERAGE TRAIN LOSS: {train_loss}\")\n",
        "      self.train_loss_log.append(train_loss)\n",
        "\n",
        "      ### VALIDATION\n",
        "      val_loss = self.val_epoch(self.val_dataloader)\n",
        "      if verbose:\n",
        "        print(f\"AVERAGE VAL LOSS: {np.mean(val_loss)}\")\n",
        "      self.val_loss_log.append(val_loss)\n",
        "\n",
        "      if self.stop_learning(epoch_num):\n",
        "        break\n",
        "        \n",
        "\n",
        "  def plot_losses(self,avg_size=10):\n",
        "    '''\n",
        "    Plots the behavior of the train and val losses and prints their average in the last 'avg_size' epochs\n",
        "    Args:\n",
        "      avg_size: int\n",
        "    '''\n",
        "    plt.figure(figsize=(12,8))\n",
        "    plt.semilogy(self.train_loss_log, label='Training loss')\n",
        "    plt.semilogy(self.val_loss_log, label='Validation loss')\n",
        "    plt.xlabel('Epoch')\n",
        "    plt.ylabel('Loss')\n",
        "    plt.grid()\n",
        "    plt.legend()\n",
        "    plt.show()\n",
        "\n",
        "    print('Average traininig  loss in the last %d epochs: %.4f' %(avg_size, np.mean(self.train_loss_log[-avg_size:])))\n",
        "    print('Average validation loss in the last %d epochs: %.4f' %(avg_size, np.mean(self.val_loss_log[-avg_size:])))\n",
        "\n",
        "\n",
        "  def test(self,test_dataset):\n",
        "    '''\n",
        "    Args:\n",
        "      test_dataset: Dataset with data on which to perform the test\n",
        "    '''\n",
        "    test_dataloader = DataLoader(test_dataset,batch_size=256,shuffle=False,num_workers=0)\n",
        "    return self.val_epoch(test_dataloader)\n",
        "\n",
        "  def plot(self,train_df=None,val_df=None,test_df=None, xmin=-5,xmax=5, n_fine_points=1000):\n",
        "    '''\n",
        "    Plots data and the model output\n",
        "\n",
        "    Args:\n",
        "      train_df: optional, pd.DataFrame with the training data\n",
        "      val_df: optional, pd.DataFrame with the validation data\n",
        "      test_df: optional, pd.DataFrame with the test data\n",
        "      xmin: minimum value for the input, default -5\n",
        "      xmax: maximum value for the input, default 5\n",
        "      n_fine_points: number of points in which to evaluate the model\n",
        "    '''\n",
        "    x_vec = torch.linspace(xmin,xmax,n_fine_points).to(device)\n",
        "    x_vec = x_vec.unsqueeze(-1)\n",
        "\n",
        "    self.net.eval()\n",
        "    with torch.no_grad():\n",
        "      y_vec = self.net(x_vec)\n",
        "\n",
        "    # Convert x_vec and y_vec to numpy one dimensional arrays\n",
        "    x_vec = x_vec.squeeze().cpu().numpy()\n",
        "    y_vec = y_vec.squeeze().cpu().numpy()\n",
        "\n",
        "    # Plot output\n",
        "    fig, ax = plt.subplots(figsize=(12,8))\n",
        "    plt.plot(x_vec, y_vec, label='Network output')\n",
        "    if train_df is not None:\n",
        "      plt.scatter(train_df.input,train_df.label,label='Training points', color='blue')\n",
        "    if val_df is not None:\n",
        "      plt.scatter(val_df.input,val_df.label,label='Validation points', color='orange')\n",
        "    if test_df is not None:\n",
        "      plt.scatter(test_df.input,test_df.label,label='Test points', color='red')\n",
        "    plt.xlabel('x')\n",
        "    plt.ylabel('y')\n",
        "    plt.grid()\n",
        "    plt.legend()\n",
        "    plt.show()\n",
        "\n",
        "    return fig, ax"
      ],
      "execution_count": 8,
      "outputs": []
    },
    {
      "cell_type": "markdown",
      "metadata": {
        "id": "ThWhtngx0DOs"
      },
      "source": [
        "### Setting all hyperparameters"
      ]
    },
    {
      "cell_type": "code",
      "metadata": {
        "id": "wEKBFsSkrCQI"
      },
      "source": [
        "Nh1 = 128\n",
        "Nh2 = 128\n",
        "activation_function = nn.Sigmoid()\n",
        "\n",
        "torch.manual_seed(0)\n",
        "\n",
        "net = Net(Nh1=Nh1, Nh2=Nh2, activation_function=activation_function).to(device)\n",
        "\n",
        "optimizer = optim.Adam(net.parameters(),lr=0.001,weight_decay=0)\n",
        "\n",
        "loss_function = nn.MSELoss()\n",
        "\n",
        "val_perc = 0.1\n",
        "train_batch_size = 10\n",
        "\n",
        "train_df, val_df = train_test_split(all_train_df,test_size=val_perc,shuffle=True)\n",
        "train_dataloader = DataLoader(CsvDataset(train_df,transform=composed_transform), batch_size=train_batch_size, shuffle=True, num_workers=0)\n",
        "val_dataloader = DataLoader(CsvDataset(val_df,transform=composed_transform), batch_size=len(val_df), shuffle=False, num_workers=0)\n",
        "\n",
        "\n",
        "nature = Evolver(net=net,optimizer=optimizer,loss_function=loss_function,train_dataloader=train_dataloader,val_dataloader=val_dataloader)"
      ],
      "execution_count": null,
      "outputs": []
    },
    {
      "cell_type": "code",
      "metadata": {
        "id": "FU43gp3z5phf",
        "colab": {
          "base_uri": "https://localhost:8080/",
          "height": 66,
          "referenced_widgets": [
            "8e375f0bed664a5faa051a3eb9f0a4fd",
            "de6e95ca160c48f0ac9b38ad06b2cb25",
            "29ad486c8efe454a84e3eacddd28046e",
            "e6a83e9f97934b5498ef3b73d16354db",
            "27bd0debb90847dcb807c63e83f28925",
            "e21e5f3ad63c49bd84c18f57de0603bd",
            "d7b7b680b0664b14bb65455891ea8660",
            "3ddeac6875004eb49573d4a6741abab2",
            "c4149640b4d5479ba46f4a66dadac32b",
            "8cbafdf1a11f484d9a0d1925fae9c27d",
            "c50b577f8c734e8da4236191de03acf5"
          ]
        },
        "outputId": "998641ce-c91e-4258-bbaa-bd4411dfbe82"
      },
      "source": [
        "nature.evolve(2000,verbose= False)"
      ],
      "execution_count": null,
      "outputs": [
        {
          "output_type": "display_data",
          "data": {
            "text/plain": [
              "HBox(children=(HTML(value=''), FloatProgress(value=0.0, max=2000.0), HTML(value='')))"
            ],
            "application/vnd.jupyter.widget-view+json": {
              "version_major": 2,
              "version_minor": 0,
              "model_id": "8e375f0bed664a5faa051a3eb9f0a4fd"
            }
          },
          "metadata": {
            "tags": []
          }
        },
        {
          "output_type": "stream",
          "text": [
            "\n"
          ],
          "name": "stdout"
        }
      ]
    },
    {
      "cell_type": "markdown",
      "metadata": {
        "id": "4Uov6KxbDRBx"
      },
      "source": [
        "### Plots"
      ]
    },
    {
      "cell_type": "code",
      "metadata": {
        "id": "9QJ8DNiO53k6",
        "colab": {
          "base_uri": "https://localhost:8080/",
          "height": 532
        },
        "outputId": "57d3c90c-f120-41ff-bae8-9e56a32e9c72"
      },
      "source": [
        "nature.plot_losses()"
      ],
      "execution_count": null,
      "outputs": [
        {
          "output_type": "display_data",
          "data": {
            "text/plain": [
              "<Figure size 864x576 with 1 Axes>"
            ],
            "image/png": "[encoded data removed]"
          },
          "metadata": {
            "tags": [],
            "needs_background": "light"
          }
        },
        {
          "output_type": "stream",
          "text": [
            "Average traininig  loss in the last 10 epochs: 0.2418\n",
            "Average validation loss in the last 10 epochs: 0.2375\n"
          ],
          "name": "stdout"
        }
      ]
    },
    {
      "cell_type": "code",
      "metadata": {
        "id": "cD30ER3c8IVF",
        "colab": {
          "base_uri": "https://localhost:8080/",
          "height": 514
        },
        "outputId": "c7d96786-5287-497f-eae1-bea1fcfbd9b4"
      },
      "source": [
        "nature.plot(train_df,val_df,test_df)"
      ],
      "execution_count": null,
      "outputs": [
        {
          "output_type": "display_data",
          "data": {
            "text/plain": [
              "<Figure size 864x576 with 1 Axes>"
            ],
            "image/png": "[encoded data removed]"
          },
          "metadata": {
            "tags": [],
            "needs_background": "light"
          }
        },
        {
          "output_type": "execute_result",
          "data": {
            "text/plain": [
              "(<Figure size 864x576 with 1 Axes>, <AxesSubplot:xlabel='x', ylabel='y'>)"
            ]
          },
          "metadata": {
            "tags": []
          },
          "execution_count": 103
        }
      ]
    },
    {
      "cell_type": "code",
      "metadata": {
        "id": "kvl7V6wx8YrO",
        "colab": {
          "base_uri": "https://localhost:8080/"
        },
        "outputId": "3b074931-b0f3-4b6e-bbf2-4deade44e8bf"
      },
      "source": [
        "test_loss = nature.test(test_dataset)\n",
        "print(f'Average test loss: {test_loss}')"
      ],
      "execution_count": null,
      "outputs": [
        {
          "output_type": "stream",
          "text": [
            "Average test loss: 0.34173697233200073\n"
          ],
          "name": "stdout"
        }
      ]
    },
    {
      "cell_type": "markdown",
      "metadata": {
        "id": "7cIrCa3aTBEF"
      },
      "source": [
        "## More advanced methods"
      ]
    },
    {
      "cell_type": "markdown",
      "metadata": {
        "id": "OmczfDaRTGC4"
      },
      "source": [
        "### K Fold cross validation"
      ]
    },
    {
      "cell_type": "markdown",
      "metadata": {
        "id": "MLR8GDiQCgew"
      },
      "source": [
        "#### Implementing K Fold"
      ]
    },
    {
      "cell_type": "code",
      "metadata": {
        "id": "O6JTS_-QBnWc"
      },
      "source": [
        "class KFoldCrossValidator(object):\n",
        "  '''\n",
        "  Performs a k fold cross validation on a specific set of hyperparameters\n",
        "\n",
        "  Args:\n",
        "    k: int, number of folds\n",
        "    n_runs: int or None: if n_runs < k, only the first n_runs will be performed.\n",
        "            This is a quick workaround to speed up the hyperparameter optimization process\n",
        "    shuffle: bool: if true data is shuffled before the splitting in k folds\n",
        "    all_train_dataset: Dataset with train and validation data that will be split in folds\n",
        "\n",
        "    net_type: user defined class\n",
        "    net_params: dictionary or list of the arguments for net_type.__init__\n",
        "\n",
        "    optimizer_type: e.g. optim.Adam\n",
        "    optimizer_params: dictionary or list of the arguments of the optimizer (except net.parameters())\n",
        "\n",
        "    loss_function\n",
        "    train_batch_size: int, default 256\n",
        "\n",
        "    evolver_type: e.g. Evolver or Evolver_es\n",
        "    evolver_additional_params: dictionary with additional parameters for the evolver,\n",
        "      e.g. if evolver_type = Evolver_es, the additional parameter 'patience' must be provided\n",
        "  '''\n",
        "\n",
        "  def __init__(self, k, n_runs=None, shuffle=False, all_train_dataset=None, net_type=None, net_params=None,\n",
        "               optimizer_type=None, optimizer_params=None, loss_function=None,\n",
        "               train_batch_size=256, evolver_type=None, evolver_additional_params={}):\n",
        "\n",
        "    self.splitter = KFold(k,shuffle=shuffle)\n",
        "\n",
        "    self.all_train_dataset = all_train_dataset\n",
        "\n",
        "    self.net_type = net_type\n",
        "    self.net_params = net_params\n",
        "    self.optimizer_type = optimizer_type\n",
        "    self.optimizer_params = optimizer_params\n",
        "\n",
        "    self.train_batch_size = train_batch_size\n",
        "\n",
        "    self.loss_function = loss_function\n",
        "\n",
        "    self.evolver_type = evolver_type\n",
        "    self.evolver_additional_params = evolver_additional_params\n",
        "\n",
        "    self.evolvers = []\n",
        "\n",
        "    # set up the object with k (or n_runs) evolvers\n",
        "    i = 0\n",
        "    for train_idx, val_idx in self.splitter.split(list(range(len(self.all_train_dataset)))):\n",
        "      # datasets\n",
        "      train_dataset = Subset(self.all_train_dataset, train_idx)\n",
        "      val_dataset = Subset(self.all_train_dataset, val_idx)\n",
        "\n",
        "      # dataloaders\n",
        "      train_dataloader = DataLoader(train_dataset, batch_size=train_batch_size, shuffle=True, num_workers=0)\n",
        "      val_dataloader = DataLoader(val_dataset, batch_size=256, shuffle=False, num_workers=0)\n",
        "\n",
        "      # net\n",
        "      if type(self.net_params) == dict:\n",
        "        net = self.net_type(**self.net_params)\n",
        "      else:\n",
        "        net = self.net_type(*self.net_params)\n",
        "\n",
        "      # optimizer\n",
        "      if type(self.optimizer_params) == dict:\n",
        "        optimizer = self.optimizer_type(net.parameters(),**self.optimizer_params)\n",
        "      else:\n",
        "        optimizer = self.optimizer_type(net.parameters(),*self.optimizer_params)\n",
        "\n",
        "      # evolver\n",
        "      evolver = self.evolver_type(net=net,optimizer=optimizer,loss_function=loss_function,\n",
        "                                  train_dataloader=train_dataloader,val_dataloader=val_dataloader, **self.evolver_additional_params)\n",
        "\n",
        "      self.evolvers.append(evolver)\n",
        "\n",
        "      i += 1\n",
        "      if n_runs is not None and i >= n_runs:\n",
        "        break\n",
        "\n",
        "\n",
        "  def run(self,num_epochs,loss_sample_size=10, prune_thr=None):\n",
        "    '''\n",
        "    Args:\n",
        "      num_epochs: maximum number of epochs for each fold\n",
        "      loss_sample_size: number of epochs for computing the average train and val losses, default 10\n",
        "      prune_thr: folat or None: if one of the final validation losses is > prune thr, the run is interrupted raising a ValueError\n",
        "    '''\n",
        "    for k,evolver in enumerate(self.evolvers):\n",
        "      # move the net to the GPU\n",
        "      evolver.net.to(device)\n",
        "      evolver.evolve(num_epochs)\n",
        "      # move the net back to free the GPU\n",
        "      evolver.net.cpu()\n",
        "      if prune_thr is not None and k < len(self.evolvers)/2 and evolver.val_loss_log[-1] > prune_thr:\n",
        "        print(f'Trial pruned: val loss was {evolver.val_loss_log[-1]}')\n",
        "        raise ValueError\n",
        "\n",
        "\n",
        "      # print avg train and val loss\n",
        "      print(np.mean(evolver.train_loss_log[-loss_sample_size:]), np.mean(evolver.val_loss_log[-loss_sample_size:]))\n",
        "\n",
        "    avg_train_loss = np.mean([np.mean(e.train_loss_log[-loss_sample_size:]) for e in self.evolvers])\n",
        "    avg_val_loss   = np.mean([np.mean(e.val_loss_log[-loss_sample_size:]) for e in self.evolvers])\n",
        "    \n",
        "    return avg_train_loss, avg_val_loss\n",
        "    \n",
        "\n",
        "  def view(self,idx, df=all_train_df):\n",
        "    '''\n",
        "    Plot losses and net output\n",
        "    Args:\n",
        "      idx: int in [0, k) or 'best', index of the evolver to view\n",
        "      df: pd.DataFrame with data to plot, default all_train_df\n",
        "    '''\n",
        "    if idx == 'best':\n",
        "      idx = np.argmin([e.best_vl for e in self.evolvers])\n",
        "      print(f'Best evolver is number {idx} with minimum validation loss {self.evolvers[idx].best_vl}')\n",
        "\n",
        "    self.evolvers[idx].plot_losses()\n",
        "    self.evolvers[idx].net.to(device)\n",
        "    self.evolvers[idx].plot(df)\n",
        "    self.evolvers[idx].net.cpu()"
      ],
      "execution_count": 9,
      "outputs": []
    },
    {
      "cell_type": "markdown",
      "metadata": {
        "id": "WU3IDVCX6GNl"
      },
      "source": [
        "#### Testing"
      ]
    },
    {
      "cell_type": "code",
      "metadata": {
        "id": "SBC4QF1AD6Ru"
      },
      "source": [
        "# testing\n",
        "k = 5\n",
        "\n",
        "# net params\n",
        "Ni = No = 1\n",
        "Nh1 = 128\n",
        "Nh2 = 128\n",
        "activation_function = nn.Sigmoid()\n",
        "\n",
        "net_type = Net\n",
        "net_params = [Ni,Nh1,Nh2,No,activation_function]\n",
        "\n",
        "# optimizer params\n",
        "optimizer_type = optim.Adam\n",
        "optimizer_params = {'lr': 0.001}\n",
        "\n",
        "loss_function = nn.MSELoss()\n",
        "\n",
        "train_batch_size = 30\n",
        "\n",
        "evolver_type = Evolver\n",
        "evolver_additional_params = {}\n",
        "\n",
        "\n",
        "# KFold\n",
        "\n",
        "kf = KFoldCrossValidator(k, shuffle=True, all_train_dataset=all_train_dataset, net_type=net_type, net_params=net_params,\n",
        "                         optimizer_type=optimizer_type, optimizer_params=optimizer_params, loss_function=loss_function,\n",
        "                         train_batch_size=train_batch_size, evolver_type=evolver_type, evolver_additional_params=evolver_additional_params)\n",
        "\n",
        "kf.run(1000)"
      ],
      "execution_count": null,
      "outputs": []
    },
    {
      "cell_type": "code",
      "metadata": {
        "id": "IfB9IW5xuFb8"
      },
      "source": [
        "kf.view(4)"
      ],
      "execution_count": null,
      "outputs": []
    },
    {
      "cell_type": "markdown",
      "metadata": {
        "id": "Zk-eCw7e7uJt"
      },
      "source": [
        "### Early stopping\n",
        "\n",
        "To prevent overfitting and thus speeding up the process"
      ]
    },
    {
      "cell_type": "code",
      "metadata": {
        "id": "Uo8RJMPSvWtP"
      },
      "source": [
        "class Evolver_es(Evolver):\n",
        "\n",
        "  def __init__(self, patience, checkpoint=False, *args, **kwargs):\n",
        "    '''\n",
        "    Args:\n",
        "      patience: int: if after patience peochs the validation loss does not decrease learning stops\n",
        "      checkpoint: bool: if True when learning stops the net is checkpointed back to when the validation loss was at its minimum\n",
        "\n",
        "      *args, **kwargs: arguments of the parent class\n",
        "    '''\n",
        "    super().__init__(*args, **kwargs)\n",
        "\n",
        "    self.patience = patience\n",
        "    self.counter = 0\n",
        "    self.best_vl = 10\n",
        "    self.checkpoint = checkpoint\n",
        "    self.net_checkpoint = None\n",
        "    self.optim_checkpoint = None\n",
        "\n",
        "  def stop_learning(self,epoch_num):\n",
        "    if epoch_num <= self.patience: # at least do 'patience' epochs\n",
        "      return False\n",
        "\n",
        "    if self.val_loss_log[-1] < self.best_vl:\n",
        "      self.best_vl = self.val_loss_log[-1]\n",
        "      self.counter = 0\n",
        "      if self.checkpoint:\n",
        "        self.net_checkpoint = (epoch_num, self.net.state_dict())\n",
        "        self.optim_checkpoint = self.optimizer.state_dict()\n",
        "    else:\n",
        "      self.counter += 1\n",
        "\n",
        "    if self.counter >= self.patience:\n",
        "      if self.checkpoint:\n",
        "        print(f'Checkpointing back to epoch {self.net_checkpoint[0]}')\n",
        "        self.net.load_state_dict(self.net_checkpoint[1])\n",
        "        self.optimizer.load_state_dict(self.optim_checkpoint)\n",
        "        self.train_loss_log = self.train_loss_log[:self.net_checkpoint[0] + 1]\n",
        "        self.val_loss_log = self.val_loss_log[:self.net_checkpoint[0] + 1]\n",
        "      return True\n",
        "    return False"
      ],
      "execution_count": 10,
      "outputs": []
    },
    {
      "cell_type": "code",
      "metadata": {
        "id": "C8pNwCpI_QOR"
      },
      "source": [
        "# testing\n",
        "k = 5\n",
        "\n",
        "# net params\n",
        "net_type = Net\n",
        "net_params = {'Nh1': 128, 'Nh2': 128, 'activation_function': nn.ReLU()}\n",
        "\n",
        "# optimizer params\n",
        "optimizer_type = optim.Adam\n",
        "optimizer_params = {'lr': 0.001, 'weight_decay': 0.001}\n",
        "\n",
        "loss_function = nn.MSELoss()\n",
        "\n",
        "train_batch_size = 20\n",
        "\n",
        "evolver_type = Evolver_es\n",
        "evolver_additional_params = {'patience': 100, 'checkpoint': True}\n",
        "\n",
        "\n",
        "# KFold\n",
        "\n",
        "kf = KFoldCrossValidator(k, shuffle=True, all_train_dataset=all_train_dataset, net_type=net_type, net_params=net_params,\n",
        "                         optimizer_type=optimizer_type, optimizer_params=optimizer_params, loss_function=loss_function,\n",
        "                         train_batch_size=train_batch_size, evolver_type=evolver_type, evolver_additional_params=evolver_additional_params)\n",
        "\n",
        "kf.run(10000)"
      ],
      "execution_count": null,
      "outputs": []
    },
    {
      "cell_type": "code",
      "metadata": {
        "id": "FjcfR3ewEnZh"
      },
      "source": [
        "kf.view('best')"
      ],
      "execution_count": null,
      "outputs": []
    },
    {
      "cell_type": "markdown",
      "metadata": {
        "id": "WsztlaYxH8gX"
      },
      "source": [
        "### Momentum"
      ]
    },
    {
      "cell_type": "code",
      "metadata": {
        "id": "yoteAvKWGS7_"
      },
      "source": [
        "# testing\n",
        "k = 5\n",
        "\n",
        "net_type = Net3\n",
        "net_params = {'Nh1': 128, 'Nh2': 128, 'Nh3': 64, 'activation_function': nn.ReLU()}\n",
        "\n",
        "# optimizer params\n",
        "optimizer_type = optim.SGD\n",
        "optimizer_params = {'lr': 0.001, 'momentum': 0.001}\n",
        "\n",
        "loss_function = nn.MSELoss()\n",
        "\n",
        "train_batch_size = 30\n",
        "\n",
        "evolver_type = Evolver_es\n",
        "evolver_additional_params = {'patience': 100}\n",
        "\n",
        "\n",
        "# KFold\n",
        "\n",
        "kf = KFoldCrossValidator(k, shuffle=True, all_train_dataset=all_train_dataset, net_type=net_type, net_params=net_params,\n",
        "                         optimizer_type=optimizer_type, optimizer_params=optimizer_params, loss_function=loss_function,\n",
        "                         train_batch_size=train_batch_size, evolver_type=evolver_type, evolver_additional_params=evolver_additional_params)\n",
        "\n",
        "kf.run(10000)"
      ],
      "execution_count": null,
      "outputs": []
    },
    {
      "cell_type": "code",
      "metadata": {
        "id": "6rrtMXOTIXvi"
      },
      "source": [
        "kf.view(1)"
      ],
      "execution_count": null,
      "outputs": []
    },
    {
      "cell_type": "markdown",
      "metadata": {
        "id": "bn5Xd7ItLr3w"
      },
      "source": [
        "### Weight decay"
      ]
    },
    {
      "cell_type": "code",
      "metadata": {
        "id": "w4gDMEFtI5e1"
      },
      "source": [
        "# testing\n",
        "k = 5\n",
        "\n",
        "# net params\n",
        "Ni = No = 1\n",
        "Nh1 = 128\n",
        "Nh2 = 128\n",
        "activation_function = nn.ReLU()\n",
        "\n",
        "net_type = Net\n",
        "net_params = [Ni,Nh1,Nh2,No,activation_function]\n",
        "\n",
        "# optimizer params\n",
        "optimizer_type = optim.Adam\n",
        "optimizer_params = {'lr': 0.001, 'weight_decay': 0.01}\n",
        "\n",
        "loss_function = nn.MSELoss()\n",
        "\n",
        "train_batch_size = 30\n",
        "\n",
        "evolver_type = Evolver_es\n",
        "evolver_additional_params = {'patience': 100}\n",
        "\n",
        "\n",
        "# KFold\n",
        "\n",
        "kf = KFoldCrossValidator(k, shuffle=True, all_train_dataset=all_train_dataset, net_type=net_type, net_params=net_params,\n",
        "                         optimizer_type=optimizer_type, optimizer_params=optimizer_params, loss_function=loss_function,\n",
        "                         train_batch_size=train_batch_size, evolver_type=evolver_type, evolver_additional_params=evolver_additional_params)\n",
        "\n",
        "kf.run(2000)"
      ],
      "execution_count": null,
      "outputs": []
    },
    {
      "cell_type": "code",
      "metadata": {
        "id": "VMlClAqBL894"
      },
      "source": [
        "kf.view(4)"
      ],
      "execution_count": null,
      "outputs": []
    },
    {
      "cell_type": "markdown",
      "metadata": {
        "id": "oLSj4s4xHcLc"
      },
      "source": [
        "### Dropout"
      ]
    },
    {
      "cell_type": "code",
      "metadata": {
        "id": "haEsbNBhNTFW"
      },
      "source": [
        "class Net_d(Net):\n",
        "  def __init__(self, dropout_prob_1=0, dropout_prob_2=0, **kwargs):\n",
        "    '''\n",
        "    Network with 2 hidden linear layers\n",
        "    '''\n",
        "    verbose = kwargs.get('verbose')\n",
        "    kwargs['verbose'] = False\n",
        "    super().__init__(**kwargs)\n",
        "    self.d1 = nn.Dropout(dropout_prob_1)\n",
        "    self.d2 = nn.Dropout(dropout_prob_2)\n",
        "\n",
        "    if verbose:\n",
        "      print('Network initialized')\n",
        "    \n",
        "  def forward(self, x):\n",
        "\n",
        "    x = self.act(self.fc1(x))\n",
        "    x = self.d1(x)\n",
        "    x = self.act(self.fc2(x))\n",
        "    x = self.d2(x)\n",
        "    x = self.out(x)\n",
        "\n",
        "    return x"
      ],
      "execution_count": 11,
      "outputs": []
    },
    {
      "cell_type": "code",
      "metadata": {
        "id": "ykFcQ42-I12x"
      },
      "source": [
        "# testing\n",
        "k = 5\n",
        "\n",
        "net_type = Net_d\n",
        "net_params = {'Nh1': 128, 'Nh2': 128, 'activation_function': nn.ReLU(),\n",
        "              'dropout_prob_1': 0.3, 'dropout_prob_2': 0.3}\n",
        "\n",
        "# optimizer params\n",
        "optimizer_type = optim.Adam\n",
        "optimizer_params = [0.001] # learining rate\n",
        "\n",
        "loss_function = nn.MSELoss()\n",
        "\n",
        "train_batch_size = 30\n",
        "\n",
        "evolver_type = Evolver_es\n",
        "evolver_additional_params = {'patience': 100}\n",
        "\n",
        "\n",
        "# KFold\n",
        "\n",
        "kf = KFoldCrossValidator(k, shuffle=True, all_train_dataset=all_train_dataset, net_type=net_type, net_params=net_params,\n",
        "                         optimizer_type=optimizer_type, optimizer_params=optimizer_params, loss_function=loss_function,\n",
        "                         train_batch_size=train_batch_size, evolver_type=evolver_type, evolver_additional_params=evolver_additional_params)\n",
        "\n",
        "kf.run(10000)"
      ],
      "execution_count": null,
      "outputs": []
    },
    {
      "cell_type": "code",
      "metadata": {
        "id": "6rTPYvzqJGxW"
      },
      "source": [
        "kf.view(4)"
      ],
      "execution_count": null,
      "outputs": []
    },
    {
      "cell_type": "markdown",
      "metadata": {
        "id": "xPVvUNB468nh"
      },
      "source": [
        "### Trying a deeper net"
      ]
    },
    {
      "cell_type": "code",
      "metadata": {
        "id": "dn10rGXmKE6m"
      },
      "source": [
        "class Net3(Net):\n",
        "  def __init__(self, Nh3, **kwargs):\n",
        "    '''\n",
        "    Network with 3 hidden linear layers\n",
        "    '''\n",
        "    Nh2 = kwargs.get('Nh2')\n",
        "    verbose = kwargs.get('verbose')\n",
        "    kwargs['verbose'] = False\n",
        "    super().__init__(**kwargs)\n",
        "\n",
        "    self.fc3 = nn.Linear(in_features=Nh2, out_features=Nh3)\n",
        "    self.out = nn.Linear(in_features=Nh3,out_features=self.No)\n",
        "\n",
        "    if verbose:\n",
        "      print('Network initialized')\n",
        "\n",
        "  def forward(self, x):\n",
        "\n",
        "    x = self.act(self.fc1(x))\n",
        "    x = self.act(self.fc2(x))\n",
        "    x = self.act(self.fc3(x))\n",
        "    x = self.out(x)\n",
        "\n",
        "    return x"
      ],
      "execution_count": 12,
      "outputs": []
    },
    {
      "cell_type": "code",
      "metadata": {
        "id": "PtlknZtb7bWI"
      },
      "source": [
        "# testing\n",
        "k = 5\n",
        "\n",
        "net_type = Net3\n",
        "net_params = {'Nh1': 128, 'Nh2': 20, 'Nh3': 128, 'activation_function': nn.ReLU()}\n",
        "\n",
        "# optimizer params\n",
        "optimizer_type = optim.Adam\n",
        "optimizer_params = {'lr': 0.001, 'weight_decay': 0.0001} # learining rate\n",
        "\n",
        "loss_function = nn.MSELoss()\n",
        "\n",
        "train_batch_size = 30\n",
        "\n",
        "evolver_type = Evolver_es\n",
        "evolver_additional_params = {'patience': 20}\n",
        "\n",
        "\n",
        "# KFold\n",
        "\n",
        "kf = KFoldCrossValidator(k, shuffle=True, all_train_dataset=all_train_dataset, net_type=net_type, net_params=net_params,\n",
        "                         optimizer_type=optimizer_type, optimizer_params=optimizer_params, loss_function=loss_function,\n",
        "                         train_batch_size=train_batch_size, evolver_type=evolver_type, evolver_additional_params=evolver_additional_params)\n",
        "\n",
        "kf.run(10000)"
      ],
      "execution_count": null,
      "outputs": []
    },
    {
      "cell_type": "code",
      "metadata": {
        "id": "KfTMir1x70Zm"
      },
      "source": [
        "kf.view(4)"
      ],
      "execution_count": null,
      "outputs": []
    },
    {
      "cell_type": "code",
      "metadata": {
        "id": "Vsu7tbFpcKwn"
      },
      "source": [
        "class Net3_d(Net3):\n",
        "  def __init__(self, dropout_prob_1=0, dropout_prob_2=0, dropout_prob_3=0, **kwargs):\n",
        "    '''\n",
        "    Network with 3 hidden linear layers\n",
        "    '''\n",
        "    verbose = kwargs.get('verbose')\n",
        "    kwargs['verbose'] = False\n",
        "    super().__init__(**kwargs)\n",
        "\n",
        "    self.d1 = nn.Dropout(dropout_prob_1)\n",
        "    self.d2 = nn.Dropout(dropout_prob_2)\n",
        "    self.d3 = nn.Dropout(dropout_prob_3)\n",
        "\n",
        "    if verbose:\n",
        "      print('Network initialized')\n",
        "\n",
        "  def forward(self, x):\n",
        "\n",
        "    x = self.act(self.fc1(x))\n",
        "    x = self.d1(x)\n",
        "    x = self.act(self.fc2(x))\n",
        "    x = self.d2(x)\n",
        "    x = self.act(self.fc3(x))\n",
        "    x = self.d3(x)\n",
        "    x = self.out(x)\n",
        "\n",
        "    return x"
      ],
      "execution_count": 13,
      "outputs": []
    },
    {
      "cell_type": "code",
      "metadata": {
        "id": "mBDt9dd6dcLU"
      },
      "source": [
        "# testing\n",
        "k = 5\n",
        "\n",
        "net_type = Net3_d\n",
        "net_params = {'Nh1': 128, 'Nh2': 128, 'Nh3': 64, 'activation_function': nn.ReLU(),\n",
        "              'dropout_prob_1': 0.3, 'dropout_prob_2': 0.4, 'dropout_prob_3': 0}\n",
        "\n",
        "# optimizer params\n",
        "optimizer_type = optim.Adam\n",
        "optimizer_params = {'lr': 0.001, 'weight_decay': 0.0001} # learining rate\n",
        "\n",
        "loss_function = nn.MSELoss()\n",
        "\n",
        "train_batch_size = 30\n",
        "\n",
        "evolver_type = Evolver_es\n",
        "evolver_additional_params = {'patience': 200}\n",
        "\n",
        "\n",
        "# KFold\n",
        "\n",
        "kf = KFoldCrossValidator(k, shuffle=True, all_train_dataset=all_train_dataset, net_type=net_type, net_params=net_params,\n",
        "                         optimizer_type=optimizer_type, optimizer_params=optimizer_params, loss_function=loss_function,\n",
        "                         train_batch_size=train_batch_size, evolver_type=evolver_type, evolver_additional_params=evolver_additional_params)\n",
        "\n",
        "kf.run(10000)"
      ],
      "execution_count": null,
      "outputs": []
    },
    {
      "cell_type": "code",
      "metadata": {
        "id": "GGYVtuKffBsn"
      },
      "source": [
        "kf.view('best')"
      ],
      "execution_count": null,
      "outputs": []
    },
    {
      "cell_type": "code",
      "metadata": {
        "id": "iPexxv8L7-9J"
      },
      "source": [
        "class Net4(Net3):\n",
        "  def __init__(self, Nh4, **kwargs):\n",
        "    '''\n",
        "    Network with 3 hidden linear layers\n",
        "    '''\n",
        "    Nh3 = kwargs.get('Nh3')\n",
        "    verbose = kwargs.get('verbose')\n",
        "    kwargs['verbose'] = False\n",
        "    super().__init__(**kwargs)\n",
        "\n",
        "    self.fc4 = nn.Linear(in_features=Nh3, out_features=Nh4)\n",
        "    self.out = nn.Linear(in_features=Nh4,out_features=self.No)\n",
        "\n",
        "    if verbose:\n",
        "      print('Network initialized')\n",
        "\n",
        "  def forward(self, x):\n",
        "\n",
        "    x = self.act(self.fc1(x))\n",
        "    x = self.act(self.fc2(x))\n",
        "    x = self.act(self.fc3(x))\n",
        "    x = self.act(self.fc4(x))\n",
        "    x = self.out(x)\n",
        "\n",
        "    return x"
      ],
      "execution_count": 14,
      "outputs": []
    },
    {
      "cell_type": "code",
      "metadata": {
        "id": "2TZCTPsvAEMd"
      },
      "source": [
        "# testing\n",
        "k = 5\n",
        "\n",
        "net_type = Net4\n",
        "net_params = {'Nh1': 8, 'Nh2': 64, 'Nh3': 128, 'Nh4': 16, 'activation_function': nn.Tanh()}\n",
        "\n",
        "# optimizer params\n",
        "optimizer_type = optim.Adam\n",
        "optimizer_params = {'lr': 0.001, 'weight_decay': 0.0001}\n",
        "\n",
        "loss_function = nn.MSELoss()\n",
        "\n",
        "train_batch_size = 30\n",
        "\n",
        "evolver_type = Evolver_es\n",
        "evolver_additional_params = {'patience': 100}\n",
        "\n",
        "\n",
        "# KFold\n",
        "\n",
        "kf = KFoldCrossValidator(k, shuffle=True, all_train_dataset=all_train_dataset, net_type=net_type, net_params=net_params,\n",
        "                         optimizer_type=optimizer_type, optimizer_params=optimizer_params, loss_function=loss_function,\n",
        "                         train_batch_size=train_batch_size, evolver_type=evolver_type, evolver_additional_params=evolver_additional_params)\n",
        "\n",
        "kf.run(10000)"
      ],
      "execution_count": null,
      "outputs": []
    },
    {
      "cell_type": "code",
      "metadata": {
        "id": "d34jeHsIASDd"
      },
      "source": [
        "kf.view('best')"
      ],
      "execution_count": null,
      "outputs": []
    },
    {
      "cell_type": "code",
      "metadata": {
        "id": "A-zARkTlCB2f"
      },
      "source": [
        "class Net4_d(Net4):\n",
        "  def __init__(self, dropout_prob_1=0, dropout_prob_2=0, dropout_prob_3=0, dropout_prob_4=0, **kwargs):\n",
        "    '''\n",
        "    Network with 3 hidden linear layers\n",
        "    '''\n",
        "    verbose = kwargs.get('verbose')\n",
        "    kwargs['verbose'] = False\n",
        "    super().__init__(**kwargs)\n",
        "\n",
        "    self.d1 = nn.Dropout(dropout_prob_1)\n",
        "    self.d2 = nn.Dropout(dropout_prob_2)\n",
        "    self.d3 = nn.Dropout(dropout_prob_3)\n",
        "    self.d4 = nn.Dropout(dropout_prob_4)\n",
        "\n",
        "    if verbose:\n",
        "      print('Network initialized')\n",
        "\n",
        "  def forward(self, x):\n",
        "\n",
        "    x = self.act(self.fc1(x))\n",
        "    x = self.d1(x)\n",
        "    x = self.act(self.fc2(x))\n",
        "    x = self.d2(x)\n",
        "    x = self.act(self.fc3(x))\n",
        "    x = self.d3(x)\n",
        "    x = self.act(self.fc4(x))\n",
        "    x = self.d4(x)\n",
        "    x = self.out(x)\n",
        "\n",
        "    return x"
      ],
      "execution_count": 15,
      "outputs": []
    },
    {
      "cell_type": "markdown",
      "metadata": {
        "id": "OTqKmwDTE8TO"
      },
      "source": [
        "## Optimizing the hyperparameters"
      ]
    },
    {
      "cell_type": "code",
      "metadata": {
        "id": "JqiQO69CBB1d"
      },
      "source": [
        "# possible hyperparams\n",
        "\n",
        "Nh1s = Nh2s = Nh3s = Nh4s = [8, 16, 32, 64, 128, 256]\n",
        "dropout_probabilities = [0, 0.15, 0.35, 0.5]\n",
        "activation_functions = [nn.Tanh(), nn.ReLU()]\n",
        "\n",
        "optimizer_type = optim.Adam\n",
        "lrs = [1e-4, 5e-4, 1e-3, 5e-3, 1e-2, 5e-2]\n",
        "weight_decays = [0, 1e-5, 5e-5, 1e-4, 5e-4, 1e-3]\n",
        "\n",
        "train_batch_sizes = [20, 30, 40, 50]\n",
        "\n",
        "patiences = [100, 200, 300, 400]"
      ],
      "execution_count": null,
      "outputs": []
    },
    {
      "cell_type": "markdown",
      "metadata": {
        "id": "2UjeYOyBHKoW"
      },
      "source": [
        "### Random search"
      ]
    },
    {
      "cell_type": "code",
      "metadata": {
        "id": "5jOlSoZYRH2z"
      },
      "source": [
        "df_name = 'regression/random_search5.csv'\n",
        "\n",
        "if os.path.exists(df_name):\n",
        "  print('loading existing file')\n",
        "  df = pd.read_csv(df_name)\n",
        "else:\n",
        "  df = None"
      ],
      "execution_count": null,
      "outputs": []
    },
    {
      "cell_type": "code",
      "metadata": {
        "id": "dNeiXpuKBqsX"
      },
      "source": [
        "iterations = 100\n",
        "\n",
        "k = 5\n",
        "prune_thr = 0.4\n",
        "\n",
        "for i in range(iterations):\n",
        "\n",
        "  # choose hyperparams\n",
        "  net_type = Net4_d\n",
        "\n",
        "  Nh1 = np.random.choice(Nh1s)\n",
        "  Nh2 = np.random.choice(Nh2s)\n",
        "  Nh3 = np.random.choice(Nh3s)\n",
        "  Nh4 = np.random.choice(Nh4s)\n",
        "  dp1 = 0\n",
        "  dp2 = np.random.choice(dropout_probabilities)\n",
        "  dp3 = np.random.choice(dropout_probabilities)\n",
        "  dp4 = 0\n",
        "  activation_function = np.random.choice(activation_functions)\n",
        "\n",
        "  net_params = {'Nh1': Nh1, 'Nh2': Nh2, 'Nh3': Nh3, 'Nh4': Nh4, 'activation_function': activation_function,\n",
        "                'dropout_prob_1': dp1, 'dropout_prob_2': dp2, 'dropout_prob_3': dp3, 'dropout_prob_4': dp4}\n",
        "\n",
        "  optimizer_type = optim.Adam\n",
        "  lr = np.random.choice(lrs)\n",
        "  weight_decay = np.random.choice(weight_decays)\n",
        "  optimizer_params = {'lr': lr, 'weight_decay': weight_decay}\n",
        "\n",
        "  loss_function = nn.MSELoss()\n",
        "\n",
        "  train_batch_size = int(np.random.choice(train_batch_sizes))\n",
        "\n",
        "  evolver_type = Evolver_es\n",
        "  patience = np.random.choice(patiences)\n",
        "  evolver_additional_params = {'patience': patience, 'checkpoint': True}\n",
        "\n",
        "  hyper_dict = {**net_params, **optimizer_params, 'train_batch_size': train_batch_size, 'patience': patience}\n",
        "\n",
        "  print(f'Iteration {i}: testing {hyper_dict}')\n",
        "  \n",
        "  # K fold\n",
        "  kf = KFoldCrossValidator(k, shuffle=True, all_train_dataset=all_train_dataset, net_type=net_type, net_params=net_params,\n",
        "                         optimizer_type=optimizer_type, optimizer_params=optimizer_params, loss_function=loss_function,\n",
        "                         train_batch_size=train_batch_size, evolver_type=evolver_type, evolver_additional_params=evolver_additional_params)\n",
        "\n",
        "  try:\n",
        "    start_time = time.time()\n",
        "    avg_train_loss, avg_val_loss = kf.run(10000,loss_sample_size=1,prune_thr=prune_thr)\n",
        "    r_dict = {'avg_train_loss': avg_train_loss, 'avg_val_loss': avg_val_loss, 'train_time': (time.time() - start_time)/60/len(kf.evolvers)}\n",
        "    print(f'Results: {r_dict}')\n",
        "\n",
        "    all_dict = {**hyper_dict, **r_dict}\n",
        "\n",
        "    if df is None:\n",
        "      print('creating new study')\n",
        "      df = pd.DataFrame(columns=all_dict.keys())\n",
        "    if list(df.columns) != list(all_dict.keys()):\n",
        "      raise KeyError('Keys do not match with existing dataframe')\n",
        "\n",
        "    df.loc[len(df)] = all_dict\n",
        "    df.to_csv(df_name,index=False)\n",
        "\n",
        "    kf.view('best')\n",
        "\n",
        "  except ValueError:\n",
        "    print('Trial pruned\\n')"
      ],
      "execution_count": null,
      "outputs": []
    },
    {
      "cell_type": "code",
      "metadata": {
        "id": "odEY2K5COpzu",
        "colab": {
          "base_uri": "https://localhost:8080/",
          "height": 444
        },
        "outputId": "532016d8-0501-4cf1-e6c4-c5fe1093fde0"
      },
      "source": [
        "df"
      ],
      "execution_count": 53,
      "outputs": [
        {
          "output_type": "execute_result",
          "data": {
            "text/plain": [
              "    Nh1  Nh2  Nh3  Nh4 activation_function  dropout_prob_1  dropout_prob_2  \\\n",
              "0     8   64   64   16              ReLU()               0            0.00   \n",
              "1   128  256   32   64              ReLU()               0            0.15   \n",
              "2    32  128  256   64              ReLU()               0            0.15   \n",
              "3   128   16   16  256              Tanh()               0            0.35   \n",
              "4    64  256  256  128              Tanh()               0            0.00   \n",
              "..  ...  ...  ...  ...                 ...             ...             ...   \n",
              "60   32   32  128    8              ReLU()               0            0.00   \n",
              "61   64  256   64    8              Tanh()               0            0.50   \n",
              "62   16    8  256   16              ReLU()               0            0.00   \n",
              "63   64  128  128   32              ReLU()               0            0.35   \n",
              "64   16   16   16   32              Tanh()               0            0.00   \n",
              "\n",
              "    dropout_prob_3  dropout_prob_4      lr  weight_decay  train_batch_size  \\\n",
              "0             0.15               0  0.0010       0.00050                30   \n",
              "1             0.15               0  0.0005       0.00005                30   \n",
              "2             0.00               0  0.0500       0.00050                40   \n",
              "3             0.00               0  0.0005       0.00005                40   \n",
              "4             0.50               0  0.0010       0.00050                40   \n",
              "..             ...             ...     ...           ...               ...   \n",
              "60            0.00               0  0.0005       0.00001                50   \n",
              "61            0.00               0  0.0010       0.00010                30   \n",
              "62            0.35               0  0.0001       0.00100                20   \n",
              "63            0.35               0  0.0005       0.00000                30   \n",
              "64            0.50               0  0.0100       0.00010                20   \n",
              "\n",
              "    patience  avg_train_loss  avg_val_loss  train_time  \n",
              "0        300        0.335943      0.349150    0.537506  \n",
              "1        400        0.390341      0.493564    0.525872  \n",
              "2        200        0.595791      0.623703    0.241781  \n",
              "3        300        0.607161      0.536282    0.412491  \n",
              "4        300        0.283969      0.363221    0.395097  \n",
              "..       ...             ...           ...         ...  \n",
              "60       400        0.226824      0.280286    0.855662  \n",
              "61       300        0.290857      0.275380    0.774784  \n",
              "62       100        0.718705      0.534942    0.969607  \n",
              "63       100        0.488291      0.304744    0.252478  \n",
              "64       400        0.520179      0.268574    0.606739  \n",
              "\n",
              "[65 rows x 16 columns]"
            ],
            "text/html": [
              "<div>\n",
              "<style scoped>\n",
              "    .dataframe tbody tr th:only-of-type {\n",
              "        vertical-align: middle;\n",
              "    }\n",
              "\n",
              "    .dataframe tbody tr th {\n",
              "        vertical-align: top;\n",
              "    }\n",
              "\n",
              "    .dataframe thead th {\n",
              "        text-align: right;\n",
              "    }\n",
              "</style>\n",
              "<table border=\"1\" class=\"dataframe\">\n",
              "  <thead>\n",
              "    <tr style=\"text-align: right;\">\n",
              "      <th></th>\n",
              "      <th>Nh1</th>\n",
              "      <th>Nh2</th>\n",
              "      <th>Nh3</th>\n",
              "      <th>Nh4</th>\n",
              "      <th>activation_function</th>\n",
              "      <th>dropout_prob_1</th>\n",
              "      <th>dropout_prob_2</th>\n",
              "      <th>dropout_prob_3</th>\n",
              "      <th>dropout_prob_4</th>\n",
              "      <th>lr</th>\n",
              "      <th>weight_decay</th>\n",
              "      <th>train_batch_size</th>\n",
              "      <th>patience</th>\n",
              "      <th>avg_train_loss</th>\n",
              "      <th>avg_val_loss</th>\n",
              "      <th>train_time</th>\n",
              "    </tr>\n",
              "  </thead>\n",
              "  <tbody>\n",
              "    <tr>\n",
              "      <th>0</th>\n",
              "      <td>8</td>\n",
              "      <td>64</td>\n",
              "      <td>64</td>\n",
              "      <td>16</td>\n",
              "      <td>ReLU()</td>\n",
              "      <td>0</td>\n",
              "      <td>0.00</td>\n",
              "      <td>0.15</td>\n",
              "      <td>0</td>\n",
              "      <td>0.0010</td>\n",
              "      <td>0.00050</td>\n",
              "      <td>30</td>\n",
              "      <td>300</td>\n",
              "      <td>0.335943</td>\n",
              "      <td>0.349150</td>\n",
              "      <td>0.537506</td>\n",
              "    </tr>\n",
              "    <tr>\n",
              "      <th>1</th>\n",
              "      <td>128</td>\n",
              "      <td>256</td>\n",
              "      <td>32</td>\n",
              "      <td>64</td>\n",
              "      <td>ReLU()</td>\n",
              "      <td>0</td>\n",
              "      <td>0.15</td>\n",
              "      <td>0.15</td>\n",
              "      <td>0</td>\n",
              "      <td>0.0005</td>\n",
              "      <td>0.00005</td>\n",
              "      <td>30</td>\n",
              "      <td>400</td>\n",
              "      <td>0.390341</td>\n",
              "      <td>0.493564</td>\n",
              "      <td>0.525872</td>\n",
              "    </tr>\n",
              "    <tr>\n",
              "      <th>2</th>\n",
              "      <td>32</td>\n",
              "      <td>128</td>\n",
              "      <td>256</td>\n",
              "      <td>64</td>\n",
              "      <td>ReLU()</td>\n",
              "      <td>0</td>\n",
              "      <td>0.15</td>\n",
              "      <td>0.00</td>\n",
              "      <td>0</td>\n",
              "      <td>0.0500</td>\n",
              "      <td>0.00050</td>\n",
              "      <td>40</td>\n",
              "      <td>200</td>\n",
              "      <td>0.595791</td>\n",
              "      <td>0.623703</td>\n",
              "      <td>0.241781</td>\n",
              "    </tr>\n",
              "    <tr>\n",
              "      <th>3</th>\n",
              "      <td>128</td>\n",
              "      <td>16</td>\n",
              "      <td>16</td>\n",
              "      <td>256</td>\n",
              "      <td>Tanh()</td>\n",
              "      <td>0</td>\n",
              "      <td>0.35</td>\n",
              "      <td>0.00</td>\n",
              "      <td>0</td>\n",
              "      <td>0.0005</td>\n",
              "      <td>0.00005</td>\n",
              "      <td>40</td>\n",
              "      <td>300</td>\n",
              "      <td>0.607161</td>\n",
              "      <td>0.536282</td>\n",
              "      <td>0.412491</td>\n",
              "    </tr>\n",
              "    <tr>\n",
              "      <th>4</th>\n",
              "      <td>64</td>\n",
              "      <td>256</td>\n",
              "      <td>256</td>\n",
              "      <td>128</td>\n",
              "      <td>Tanh()</td>\n",
              "      <td>0</td>\n",
              "      <td>0.00</td>\n",
              "      <td>0.50</td>\n",
              "      <td>0</td>\n",
              "      <td>0.0010</td>\n",
              "      <td>0.00050</td>\n",
              "      <td>40</td>\n",
              "      <td>300</td>\n",
              "      <td>0.283969</td>\n",
              "      <td>0.363221</td>\n",
              "      <td>0.395097</td>\n",
              "    </tr>\n",
              "    <tr>\n",
              "      <th>...</th>\n",
              "      <td>...</td>\n",
              "      <td>...</td>\n",
              "      <td>...</td>\n",
              "      <td>...</td>\n",
              "      <td>...</td>\n",
              "      <td>...</td>\n",
              "      <td>...</td>\n",
              "      <td>...</td>\n",
              "      <td>...</td>\n",
              "      <td>...</td>\n",
              "      <td>...</td>\n",
              "      <td>...</td>\n",
              "      <td>...</td>\n",
              "      <td>...</td>\n",
              "      <td>...</td>\n",
              "      <td>...</td>\n",
              "    </tr>\n",
              "    <tr>\n",
              "      <th>60</th>\n",
              "      <td>32</td>\n",
              "      <td>32</td>\n",
              "      <td>128</td>\n",
              "      <td>8</td>\n",
              "      <td>ReLU()</td>\n",
              "      <td>0</td>\n",
              "      <td>0.00</td>\n",
              "      <td>0.00</td>\n",
              "      <td>0</td>\n",
              "      <td>0.0005</td>\n",
              "      <td>0.00001</td>\n",
              "      <td>50</td>\n",
              "      <td>400</td>\n",
              "      <td>0.226824</td>\n",
              "      <td>0.280286</td>\n",
              "      <td>0.855662</td>\n",
              "    </tr>\n",
              "    <tr>\n",
              "      <th>61</th>\n",
              "      <td>64</td>\n",
              "      <td>256</td>\n",
              "      <td>64</td>\n",
              "      <td>8</td>\n",
              "      <td>Tanh()</td>\n",
              "      <td>0</td>\n",
              "      <td>0.50</td>\n",
              "      <td>0.00</td>\n",
              "      <td>0</td>\n",
              "      <td>0.0010</td>\n",
              "      <td>0.00010</td>\n",
              "      <td>30</td>\n",
              "      <td>300</td>\n",
              "      <td>0.290857</td>\n",
              "      <td>0.275380</td>\n",
              "      <td>0.774784</td>\n",
              "    </tr>\n",
              "    <tr>\n",
              "      <th>62</th>\n",
              "      <td>16</td>\n",
              "      <td>8</td>\n",
              "      <td>256</td>\n",
              "      <td>16</td>\n",
              "      <td>ReLU()</td>\n",
              "      <td>0</td>\n",
              "      <td>0.00</td>\n",
              "      <td>0.35</td>\n",
              "      <td>0</td>\n",
              "      <td>0.0001</td>\n",
              "      <td>0.00100</td>\n",
              "      <td>20</td>\n",
              "      <td>100</td>\n",
              "      <td>0.718705</td>\n",
              "      <td>0.534942</td>\n",
              "      <td>0.969607</td>\n",
              "    </tr>\n",
              "    <tr>\n",
              "      <th>63</th>\n",
              "      <td>64</td>\n",
              "      <td>128</td>\n",
              "      <td>128</td>\n",
              "      <td>32</td>\n",
              "      <td>ReLU()</td>\n",
              "      <td>0</td>\n",
              "      <td>0.35</td>\n",
              "      <td>0.35</td>\n",
              "      <td>0</td>\n",
              "      <td>0.0005</td>\n",
              "      <td>0.00000</td>\n",
              "      <td>30</td>\n",
              "      <td>100</td>\n",
              "      <td>0.488291</td>\n",
              "      <td>0.304744</td>\n",
              "      <td>0.252478</td>\n",
              "    </tr>\n",
              "    <tr>\n",
              "      <th>64</th>\n",
              "      <td>16</td>\n",
              "      <td>16</td>\n",
              "      <td>16</td>\n",
              "      <td>32</td>\n",
              "      <td>Tanh()</td>\n",
              "      <td>0</td>\n",
              "      <td>0.00</td>\n",
              "      <td>0.50</td>\n",
              "      <td>0</td>\n",
              "      <td>0.0100</td>\n",
              "      <td>0.00010</td>\n",
              "      <td>20</td>\n",
              "      <td>400</td>\n",
              "      <td>0.520179</td>\n",
              "      <td>0.268574</td>\n",
              "      <td>0.606739</td>\n",
              "    </tr>\n",
              "  </tbody>\n",
              "</table>\n",
              "<p>65 rows × 16 columns</p>\n",
              "</div>"
            ]
          },
          "metadata": {
            "tags": []
          },
          "execution_count": 53
        }
      ]
    },
    {
      "cell_type": "markdown",
      "metadata": {
        "id": "brY_NFXUwDTC"
      },
      "source": [
        "#### Analyzing the results"
      ]
    },
    {
      "cell_type": "code",
      "metadata": {
        "colab": {
          "base_uri": "https://localhost:8080/",
          "height": 500
        },
        "id": "8sa7g3pr5dkk",
        "outputId": "3720866e-a77e-48a9-b95a-fb575e2d32f0"
      },
      "source": [
        "plt.figure(figsize=(12,8))\n",
        "plt.scatter([str(a) for a in df.activation_function],df.avg_val_loss)"
      ],
      "execution_count": 56,
      "outputs": [
        {
          "output_type": "execute_result",
          "data": {
            "text/plain": [
              "<matplotlib.collections.PathCollection at 0x7f3dc4494c70>"
            ]
          },
          "metadata": {
            "tags": []
          },
          "execution_count": 56
        },
        {
          "output_type": "display_data",
          "data": {
            "text/plain": [
              "<Figure size 864x576 with 1 Axes>"
            ],
            "image/png": "[encoded data removed]"
          },
          "metadata": {
            "tags": [],
            "needs_background": "light"
          }
        }
      ]
    },
    {
      "cell_type": "code",
      "metadata": {
        "colab": {
          "base_uri": "https://localhost:8080/",
          "height": 500
        },
        "id": "fp6env6kRSSs",
        "outputId": "4599f03a-5c27-4ce4-b7c5-98fa07e11ed2"
      },
      "source": [
        "plt.figure(figsize=(12,8))\n",
        "plt.semilogy(df.avg_train_loss)\n",
        "plt.semilogy(df.avg_val_loss)"
      ],
      "execution_count": 57,
      "outputs": [
        {
          "output_type": "execute_result",
          "data": {
            "text/plain": [
              "[<matplotlib.lines.Line2D at 0x7f3dc5ab3cd0>]"
            ]
          },
          "metadata": {
            "tags": []
          },
          "execution_count": 57
        },
        {
          "output_type": "display_data",
          "data": {
            "text/plain": [
              "<Figure size 864x576 with 1 Axes>"
            ],
            "image/png": "[encoded data removed]"
          },
          "metadata": {
            "tags": [],
            "needs_background": "light"
          }
        }
      ]
    },
    {
      "cell_type": "code",
      "metadata": {
        "colab": {
          "base_uri": "https://localhost:8080/",
          "height": 500
        },
        "id": "bjC5kGbXKqe_",
        "outputId": "81686716-bb59-46d4-e89b-171a3b04bceb"
      },
      "source": [
        "x = df.patience\n",
        "\n",
        "\n",
        "plt.figure(figsize=(12,8))\n",
        "plt.scatter(x, np.log10(df.avg_train_loss))\n",
        "plt.scatter(x, np.log10(df.avg_val_loss))"
      ],
      "execution_count": 58,
      "outputs": [
        {
          "output_type": "execute_result",
          "data": {
            "text/plain": [
              "<matplotlib.collections.PathCollection at 0x7f3dc4564eb0>"
            ]
          },
          "metadata": {
            "tags": []
          },
          "execution_count": 58
        },
        {
          "output_type": "display_data",
          "data": {
            "text/plain": [
              "<Figure size 864x576 with 1 Axes>"
            ],
            "image/png": "[encoded data removed]"
          },
          "metadata": {
            "tags": [],
            "needs_background": "light"
          }
        }
      ]
    },
    {
      "cell_type": "code",
      "metadata": {
        "colab": {
          "base_uri": "https://localhost:8080/"
        },
        "id": "czYM28aiwZqE",
        "outputId": "30280f54-ac4b-445d-a522-9818cf60545f"
      },
      "source": [
        "best_idx = np.argmin(df.avg_val_loss)\n",
        "print(best_idx)\n",
        "df.loc[best_idx]"
      ],
      "execution_count": 59,
      "outputs": [
        {
          "output_type": "stream",
          "text": [
            "43\n"
          ],
          "name": "stdout"
        },
        {
          "output_type": "execute_result",
          "data": {
            "text/plain": [
              "Nh1                          32\n",
              "Nh2                         128\n",
              "Nh3                          64\n",
              "Nh4                         256\n",
              "activation_function      Tanh()\n",
              "dropout_prob_1                0\n",
              "dropout_prob_2              0.5\n",
              "dropout_prob_3                0\n",
              "dropout_prob_4                0\n",
              "lr                        0.001\n",
              "weight_decay                  0\n",
              "train_batch_size             30\n",
              "patience                    400\n",
              "avg_train_loss          0.31191\n",
              "avg_val_loss           0.226818\n",
              "train_time             0.864847\n",
              "Name: 43, dtype: object"
            ]
          },
          "metadata": {
            "tags": []
          },
          "execution_count": 59
        }
      ]
    },
    {
      "cell_type": "markdown",
      "metadata": {
        "id": "NJup2POrx7fw"
      },
      "source": [
        "## Final test"
      ]
    },
    {
      "cell_type": "markdown",
      "metadata": {
        "id": "Q1jhfNYkyCbj"
      },
      "source": [
        "### Train the net with optimal hyperparameters"
      ]
    },
    {
      "cell_type": "code",
      "metadata": {
        "colab": {
          "base_uri": "https://localhost:8080/",
          "height": 438,
          "referenced_widgets": [
            "4f401c1adea64f1aaa50f2db7c49dd8a",
            "b3837e2859584b33b27375130b19c3d1",
            "6a43ab1d23624063be96ccb167e7d46a",
            "99c05a980d5b4f618f3f31018956c774",
            "bc64514e7fe84620b26e70ffaaefb3eb",
            "f2d16d453aaf403089bd42b2b0a18d37",
            "4caea97b0af14ed7845fcb0aa869d579",
            "0a270803f51f43d9b52912ce1643b0ba",
            "9b6081e40d5b4d59858566231539f317",
            "a6ff2b10a72243219cc3d8438c75826e",
            "ce63b2fd6e904c53b47df8335c140228",
            "a0dbddfc3e434249bde4432b00244408",
            "3c8f6d1f09ac4836bec21521b5854c90",
            "dde6f855cfcd41efade726d498d119fc",
            "378ea9276bd141569cefa5eac471cdcc",
            "ba4b89b35157467abc37295b66fc298f",
            "744a61c077264cc792846ee51ec4cec2",
            "05118fdf943c42508daa3eab717200c1",
            "4d3ee6b7266a438da14121a1e22e4463",
            "b545367871214dc8af5e160366d1cf50",
            "2ffb29937a01431986b6f5e1518725e5",
            "2c4e28fd0e564cbdb4c553d4615574e2",
            "f479321ada764499ab55287463b5db31",
            "0841013b2e4943c09c88b32bdfa38c9c",
            "6973ec1ce00042c98f74e26418e96ea4",
            "3b48175f00324c14a57c4571fb4dabe3",
            "269c97bbe46c4233842d2f117b579322",
            "13bde425d7224e8c961b6853868de870",
            "00aaccfe1c2042748c5630ec6b938ffe",
            "936d963149504e2a9d96717480553bee",
            "086c115332884e5fa3dcdc00f9661354",
            "4ee1540914de4410aa9196cf3f783087",
            "dfe55e5a889540109a6574f462d305f9",
            "1837b5d7d8d74ae0a24d0eee4728dbf7",
            "4769826d2d3a41828b33193d521dd0c1",
            "e412d7b89d0a43d898c5724f9d32e59e",
            "936e4f8585b649bfabb7e9121fdae613",
            "02475d94ab3d433bbc42446730b059aa",
            "7eff222eff76471c8e0a4b9231a4ce7e",
            "bf24481c1e7845c1b2299347cb5a9fc2",
            "ddf3baae46054c4a8915d12720003b3a",
            "35f9e093aa94429cb81c3fa1e18c0ff7",
            "ab946141b0e64f95b9ddf2e782432d50",
            "616a354befe847bc9cc51396e749535c",
            "ce9c70562251422a8ec6c6f4da0212e7",
            "85f7a4945d09435d89cb1f30accc6c16",
            "e572b78aea784ccf9d2d55db67c900fd",
            "b050c1bbf63647d8a1fd0d41513e7cf3",
            "ab5e9f944a494ed38928cf61696e29c9",
            "ae6d79e176444cc8baf50b8e9804b0ec",
            "32f7c573f71e4866aaa231cbfa67f7fd",
            "7e63dbebca18475d9486d6611e6ab5a5",
            "80f8592d45d944bdbc4d0c3842a762e5",
            "be5d21d7b5fe4a5f9f7252dd94f46ac4",
            "21c38586d1de4f42bb682c7ecde36ea1"
          ]
        },
        "id": "_0yDD9yTw6Qk",
        "outputId": "4f4a1114-a123-4f3f-f1f0-42e83469ee40"
      },
      "source": [
        "k = 5\n",
        "\n",
        "# net params\n",
        "net_type = Net4_d\n",
        "net_params = {'Nh1': 32, 'Nh2': 128, 'Nh3': 64, 'Nh4': 256, 'activation_function': nn.Tanh(),\n",
        "                'dropout_prob_1': 0, 'dropout_prob_2': 0.5, 'dropout_prob_3': 0, 'dropout_prob_4': 0}\n",
        "\n",
        "# optimizer params\n",
        "optimizer_type = optim.Adam\n",
        "optimizer_params = {'lr': 0.001, 'weight_decay': 0.0}\n",
        "\n",
        "loss_function = nn.MSELoss()\n",
        "\n",
        "train_batch_size = 30\n",
        "\n",
        "evolver_type = Evolver_es\n",
        "evolver_additional_params = {'patience': 400, 'checkpoint': True}\n",
        "\n",
        "\n",
        "# KFold\n",
        "\n",
        "kf = KFoldCrossValidator(k, shuffle=True, all_train_dataset=all_train_dataset, net_type=net_type, net_params=net_params,\n",
        "                         optimizer_type=optimizer_type, optimizer_params=optimizer_params, loss_function=loss_function,\n",
        "                         train_batch_size=train_batch_size, evolver_type=evolver_type, evolver_additional_params=evolver_additional_params)\n",
        "\n",
        "avg_train_loss, avg_val_loss = kf.run(10000, loss_sample_size=1)"
      ],
      "execution_count": 36,
      "outputs": [
        {
          "output_type": "display_data",
          "data": {
            "text/plain": [
              "HBox(children=(HTML(value=''), FloatProgress(value=0.0, max=10000.0), HTML(value='')))"
            ],
            "application/vnd.jupyter.widget-view+json": {
              "version_major": 2,
              "version_minor": 0,
              "model_id": "4f401c1adea64f1aaa50f2db7c49dd8a"
            }
          },
          "metadata": {
            "tags": []
          }
        },
        {
          "output_type": "stream",
          "text": [
            "Checkpointing back to epoch 446\n",
            "\n",
            "0.4050548 0.26508\n"
          ],
          "name": "stdout"
        },
        {
          "output_type": "display_data",
          "data": {
            "text/plain": [
              "HBox(children=(HTML(value=''), FloatProgress(value=0.0, max=10000.0), HTML(value='')))"
            ],
            "application/vnd.jupyter.widget-view+json": {
              "version_major": 2,
              "version_minor": 0,
              "model_id": "a0dbddfc3e434249bde4432b00244408"
            }
          },
          "metadata": {
            "tags": []
          }
        },
        {
          "output_type": "stream",
          "text": [
            "Checkpointing back to epoch 1200\n",
            "\n",
            "0.2818145 0.15597212\n"
          ],
          "name": "stdout"
        },
        {
          "output_type": "display_data",
          "data": {
            "text/plain": [
              "HBox(children=(HTML(value=''), FloatProgress(value=0.0, max=10000.0), HTML(value='')))"
            ],
            "application/vnd.jupyter.widget-view+json": {
              "version_major": 2,
              "version_minor": 0,
              "model_id": "f479321ada764499ab55287463b5db31"
            }
          },
          "metadata": {
            "tags": []
          }
        },
        {
          "output_type": "stream",
          "text": [
            "Checkpointing back to epoch 687\n",
            "\n",
            "0.317554 0.2998941\n"
          ],
          "name": "stdout"
        },
        {
          "output_type": "display_data",
          "data": {
            "text/plain": [
              "HBox(children=(HTML(value=''), FloatProgress(value=0.0, max=10000.0), HTML(value='')))"
            ],
            "application/vnd.jupyter.widget-view+json": {
              "version_major": 2,
              "version_minor": 0,
              "model_id": "1837b5d7d8d74ae0a24d0eee4728dbf7"
            }
          },
          "metadata": {
            "tags": []
          }
        },
        {
          "output_type": "stream",
          "text": [
            "Checkpointing back to epoch 479\n",
            "\n",
            "0.33551145 0.278896\n"
          ],
          "name": "stdout"
        },
        {
          "output_type": "display_data",
          "data": {
            "text/plain": [
              "HBox(children=(HTML(value=''), FloatProgress(value=0.0, max=10000.0), HTML(value='')))"
            ],
            "application/vnd.jupyter.widget-view+json": {
              "version_major": 2,
              "version_minor": 0,
              "model_id": "ce9c70562251422a8ec6c6f4da0212e7"
            }
          },
          "metadata": {
            "tags": []
          }
        },
        {
          "output_type": "stream",
          "text": [
            "Checkpointing back to epoch 453\n",
            "\n",
            "0.29256296 0.21773462\n"
          ],
          "name": "stdout"
        }
      ]
    },
    {
      "cell_type": "code",
      "metadata": {
        "colab": {
          "base_uri": "https://localhost:8080/",
          "height": 1000
        },
        "id": "8OHwQQXiyf8S",
        "outputId": "b2af7e2a-b47c-41ff-cf0a-2b88972d5070"
      },
      "source": [
        "kf.view('best')"
      ],
      "execution_count": 37,
      "outputs": [
        {
          "output_type": "stream",
          "text": [
            "Best evolver is number 1 with minimum validation loss 0.15597212314605713\n"
          ],
          "name": "stdout"
        },
        {
          "output_type": "display_data",
          "data": {
            "text/plain": [
              "<Figure size 864x576 with 1 Axes>"
            ],
            "image/png": "[encoded data removed]"
          },
          "metadata": {
            "tags": [],
            "needs_background": "light"
          }
        },
        {
          "output_type": "stream",
          "text": [
            "Average traininig  loss in the last 10 epochs: 0.3008\n",
            "Average validation loss in the last 10 epochs: 0.1822\n"
          ],
          "name": "stdout"
        },
        {
          "output_type": "display_data",
          "data": {
            "text/plain": [
              "<Figure size 864x576 with 1 Axes>"
            ],
            "image/png": "[encoded data removed]"
          },
          "metadata": {
            "tags": [],
            "needs_background": "light"
          }
        }
      ]
    },
    {
      "cell_type": "code",
      "metadata": {
        "colab": {
          "base_uri": "https://localhost:8080/"
        },
        "id": "jn8qmv2G1Q_S",
        "outputId": "4b0591f4-0ac1-4506-9681-3541b952bc56"
      },
      "source": [
        "# select best net\n",
        "\n",
        "print([ev.val_loss_log[-1] for ev in kf.evolvers])\n",
        "idx = np.argmin([ev.val_loss_log[-1] for ev in kf.evolvers])\n",
        "print(idx)"
      ],
      "execution_count": 38,
      "outputs": [
        {
          "output_type": "stream",
          "text": [
            "[0.26508, 0.15597212, 0.2998941, 0.278896, 0.21773462]\n",
            "1\n"
          ],
          "name": "stdout"
        }
      ]
    },
    {
      "cell_type": "markdown",
      "metadata": {
        "id": "1FMXfwe02g4s"
      },
      "source": [
        "### Test the best net"
      ]
    },
    {
      "cell_type": "code",
      "metadata": {
        "colab": {
          "base_uri": "https://localhost:8080/",
          "height": 705
        },
        "id": "UpPPgq-92Sod",
        "outputId": "f58306ec-1330-442a-f55c-1937be8e5639"
      },
      "source": [
        "kf.evolvers[idx].net.to(device)\n",
        "kf.evolvers[idx].plot(train_df=all_train_df,test_df=test_df)\n",
        "kf.evolvers[idx].net.cpu()"
      ],
      "execution_count": 50,
      "outputs": [
        {
          "output_type": "display_data",
          "data": {
            "text/plain": [
              "<Figure size 864x576 with 1 Axes>"
            ],
            "image/png": "[encoded data removed]"
          },
          "metadata": {
            "tags": [],
            "needs_background": "light"
          }
        },
        {
          "output_type": "execute_result",
          "data": {
            "text/plain": [
              "Net4_d(\n",
              "  (fc1): Linear(in_features=1, out_features=32, bias=True)\n",
              "  (fc2): Linear(in_features=32, out_features=128, bias=True)\n",
              "  (out): Linear(in_features=256, out_features=1, bias=True)\n",
              "  (act): Tanh()\n",
              "  (fc3): Linear(in_features=128, out_features=64, bias=True)\n",
              "  (fc4): Linear(in_features=64, out_features=256, bias=True)\n",
              "  (d1): Dropout(p=0, inplace=False)\n",
              "  (d2): Dropout(p=0.5, inplace=False)\n",
              "  (d3): Dropout(p=0, inplace=False)\n",
              "  (d4): Dropout(p=0, inplace=False)\n",
              ")"
            ]
          },
          "metadata": {
            "tags": []
          },
          "execution_count": 50
        }
      ]
    },
    {
      "cell_type": "code",
      "metadata": {
        "colab": {
          "base_uri": "https://localhost:8080/"
        },
        "id": "gbRVOMA_yaQX",
        "outputId": "8b940b68-ac21-48f0-e767-fa6ce0f0b150"
      },
      "source": [
        "kf.evolvers[idx].net.to(device)\n",
        "test_loss = kf.evolvers[idx].test(test_dataset)\n",
        "kf.evolvers[idx].net.cpu()\n",
        "print(f'Test loss = {test_loss}')"
      ],
      "execution_count": 60,
      "outputs": [
        {
          "output_type": "stream",
          "text": [
            "Test loss = 0.12162737548351288\n"
          ],
          "name": "stdout"
        }
      ]
    },
    {
      "cell_type": "code",
      "metadata": {
        "id": "Hig-ZmEC20M_"
      },
      "source": [
        "# save best net\n",
        "torch.save(kf.evolvers[idx].net.state_dict(), 'regression/best_net3.pth')\n",
        "torch.save(kf.evolvers[idx].optimizer.state_dict(), 'regression/best_net_optim3.pth')"
      ],
      "execution_count": 41,
      "outputs": []
    },
    {
      "cell_type": "markdown",
      "metadata": {
        "id": "eFGCgvYa-kJz"
      },
      "source": [
        "## Visualization of the net"
      ]
    },
    {
      "cell_type": "code",
      "metadata": {
        "colab": {
          "base_uri": "https://localhost:8080/"
        },
        "id": "fFzRjN9P-qqt",
        "outputId": "ceaacd14-27e6-4bab-8b26-037931436b18"
      },
      "source": [
        "best_net_params = {'Nh1': 32, 'Nh2': 128, 'Nh3': 64, 'Nh4': 256, 'activation_function': nn.Tanh(),\n",
        "                'dropout_prob_1': 0, 'dropout_prob_2': 0.5, 'dropout_prob_3': 0, 'dropout_prob_4': 0}\n",
        "\n",
        "best_net = Net4_d(**best_net_params)\n",
        "best_net_state_dict = torch.load('regression/best_net3.pth')\n",
        "best_net.load_state_dict(best_net_state_dict)"
      ],
      "execution_count": 42,
      "outputs": [
        {
          "output_type": "execute_result",
          "data": {
            "text/plain": [
              "<All keys matched successfully>"
            ]
          },
          "metadata": {
            "tags": []
          },
          "execution_count": 42
        }
      ]
    },
    {
      "cell_type": "markdown",
      "metadata": {
        "id": "DFTGrej-_5dn"
      },
      "source": [
        "### Weights"
      ]
    },
    {
      "cell_type": "code",
      "metadata": {
        "id": "HdocW87-_1zx"
      },
      "source": [
        "h1_w = best_net.fc1.weight.data.cpu().numpy()\n",
        "h2_w = best_net.fc2.weight.data.cpu().numpy()\n",
        "h3_w = best_net.fc3.weight.data.cpu().numpy()\n",
        "h4_w = best_net.fc4.weight.data.cpu().numpy()\n",
        "out_w = best_net.out.weight.data.cpu().numpy()"
      ],
      "execution_count": 43,
      "outputs": []
    },
    {
      "cell_type": "code",
      "metadata": {
        "colab": {
          "base_uri": "https://localhost:8080/",
          "height": 585
        },
        "id": "SrVRzaUmAaf7",
        "outputId": "c91de172-e4b6-4d9d-8b92-ffe65eb72c52"
      },
      "source": [
        "# Weights histogram\n",
        "fig, axs = plt.subplots(5, 1, figsize=(12,8))\n",
        "axs[0].hist(h1_w.flatten(), 50)\n",
        "axs[0].set_title('First hidden layer weights')\n",
        "axs[1].hist(h2_w.flatten(), 50)\n",
        "axs[1].set_title('Second hidden layer weights')\n",
        "axs[2].hist(h3_w.flatten(), 50)\n",
        "axs[2].set_title('Third hidden layer weights')\n",
        "axs[3].hist(h4_w.flatten(), 50)\n",
        "axs[3].set_title('Fourth hidden layer weights')\n",
        "axs[4].hist(out_w.flatten(), 50)\n",
        "axs[4].set_title('Output layer weights')\n",
        "[ax.grid() for ax in axs]\n",
        "plt.tight_layout()\n",
        "plt.show()"
      ],
      "execution_count": 44,
      "outputs": [
        {
          "output_type": "display_data",
          "data": {
            "text/plain": [
              "<Figure size 864x576 with 5 Axes>"
            ],
            "image/png": "[encoded data removed]"
          },
          "metadata": {
            "tags": [],
            "needs_background": "light"
          }
        }
      ]
    },
    {
      "cell_type": "markdown",
      "metadata": {
        "id": "oBOkNHtxGYfq"
      },
      "source": [
        "It makes sense that most of the weights are near 0 since the net was trained with L2 penalty on the weights"
      ]
    },
    {
      "cell_type": "markdown",
      "metadata": {
        "id": "wwdq8rSMBQYw"
      },
      "source": [
        "### Activation profile"
      ]
    },
    {
      "cell_type": "code",
      "metadata": {
        "colab": {
          "base_uri": "https://localhost:8080/",
          "height": 585
        },
        "id": "mbf8buhaBCNO",
        "outputId": "ccee6428-7fe9-42ee-a598-f47a3fe1cf80"
      },
      "source": [
        "x1 = -4\n",
        "x2 = 2\n",
        "\n",
        "#define a hook for each layer\n",
        "\n",
        "def get_activation1(layer, input, output):\n",
        "    global activation1 # define global variable in which to store the activations.\n",
        "    activation1 = torch.relu(output)\n",
        "\n",
        "hook_handle1 = best_net.fc1.register_forward_hook(get_activation1)\n",
        "\n",
        "def get_activation2(layer, input, output):\n",
        "    global activation2 # define global variable in which to store the activations.\n",
        "    activation2 = torch.relu(output)\n",
        "\n",
        "hook_handle2 = best_net.fc2.register_forward_hook(get_activation2)\n",
        "\n",
        "def get_activation3(layer, input, output):\n",
        "    global activation3 # define global variable in which to store the activations.\n",
        "    activation3 = torch.relu(output)\n",
        "\n",
        "hook_handle3 = best_net.fc3.register_forward_hook(get_activation3)\n",
        "\n",
        "def get_activation4(layer, input, output):\n",
        "    global activation4 # define global variable in which to store the activations.\n",
        "    activation4 = torch.relu(output)\n",
        "\n",
        "hook_handle4 = best_net.fc4.register_forward_hook(get_activation4)\n",
        "\n",
        "# evaluate the net\n",
        "best_net = best_net.to(device)\n",
        "best_net.eval()\n",
        "with torch.no_grad():\n",
        "    x = torch.tensor([x1]).float().to(device)\n",
        "    y = best_net(x)\n",
        "    a1 = activation1.cpu().numpy()\n",
        "    a2 = activation2.cpu().numpy()\n",
        "    a3 = activation3.cpu().numpy()\n",
        "    a4 = activation4.cpu().numpy()\n",
        "\n",
        "    x = torch.tensor([x2]).float().to(device)\n",
        "    y = best_net(x)\n",
        "    a1b = activation1.cpu().numpy()\n",
        "    a2b = activation2.cpu().numpy()\n",
        "    a3b = activation3.cpu().numpy()\n",
        "    a4b = activation4.cpu().numpy()\n",
        "\n",
        "a_s = [a1,a2,a3,a4]\n",
        "ab_s = [a1b,a2b,a3b,a4b]\n",
        "\n",
        "# remove hooks\n",
        "hook_handle1.remove()\n",
        "hook_handle2.remove()\n",
        "hook_handle3.remove()\n",
        "hook_handle4.remove()\n",
        "\n",
        "#plot activations\n",
        "fig, axs = plt.subplots(4,1, figsize=(12,8))\n",
        "for i,a in enumerate(a_s):\n",
        "  axs[i].scatter(np.arange(len(a)), a,label=f'x = {x1}',color='blue', alpha=0.5)\n",
        "  axs[i].set_title(f'Activations in hidden layer {i + 1}')\n",
        "\n",
        "for i,a in enumerate(ab_s):\n",
        "  axs[i].scatter(np.arange(len(a)), a,label=f'x = {x2}',color='orange', alpha=0.5)\n",
        "  axs[i].set_title(f'Activations in hidden layer {i + 1}')\n",
        "\n",
        "plt.legend()\n",
        "\n",
        "fig.tight_layout()"
      ],
      "execution_count": 52,
      "outputs": [
        {
          "output_type": "display_data",
          "data": {
            "text/plain": [
              "<Figure size 864x576 with 4 Axes>"
            ],
            "image/png": "[encoded data removed]"
          },
          "metadata": {
            "tags": [],
            "needs_background": "light"
          }
        }
      ]
    }
  ]
}
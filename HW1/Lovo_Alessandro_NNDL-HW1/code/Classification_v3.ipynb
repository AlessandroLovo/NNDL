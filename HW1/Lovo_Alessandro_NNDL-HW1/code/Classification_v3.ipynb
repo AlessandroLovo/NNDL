{
  "nbformat": 4,
  "nbformat_minor": 0,
  "metadata": {
    "colab": {
      "name": "Classification_v3.ipynb",
      "provenance": [],
      "collapsed_sections": [],
      "toc_visible": true
    },
    "kernelspec": {
      "name": "python3",
      "display_name": "Python 3"
    },
    "widgets": {
      "application/vnd.jupyter.widget-state+json": {
        "e9b2d674275b4093b7fbe47de3dde4de": {
          "model_module": "@jupyter-widgets/controls",
          "model_name": "HBoxModel",
          "state": {
            "_dom_classes": [],
            "_model_module": "@jupyter-widgets/controls",
            "_model_module_version": "1.5.0",
            "_model_name": "HBoxModel",
            "_view_count": null,
            "_view_module": "@jupyter-widgets/controls",
            "_view_module_version": "1.5.0",
            "_view_name": "HBoxView",
            "box_style": "",
            "children": [
              "IPY_MODEL_b7712b514e5049a399ffbb4525d39264",
              "IPY_MODEL_f3ef8f691ac14545b510f0058dff7cd0",
              "IPY_MODEL_4c8fb2230421402f95abbcc4c5882979"
            ],
            "layout": "IPY_MODEL_eb7b191fee2e40f291ce8b6ca2150fe4"
          }
        },
        "b7712b514e5049a399ffbb4525d39264": {
          "model_module": "@jupyter-widgets/controls",
          "model_name": "HTMLModel",
          "state": {
            "_dom_classes": [],
            "_model_module": "@jupyter-widgets/controls",
            "_model_module_version": "1.5.0",
            "_model_name": "HTMLModel",
            "_view_count": null,
            "_view_module": "@jupyter-widgets/controls",
            "_view_module_version": "1.5.0",
            "_view_name": "HTMLView",
            "description": "",
            "description_tooltip": null,
            "layout": "IPY_MODEL_ce9352049a844f748ce16912d704747f",
            "placeholder": "​",
            "style": "IPY_MODEL_90c3a0f4ccb44b25b9aceeeb631cb9aa",
            "value": "100%"
          }
        },
        "f3ef8f691ac14545b510f0058dff7cd0": {
          "model_module": "@jupyter-widgets/controls",
          "model_name": "FloatProgressModel",
          "state": {
            "_dom_classes": [],
            "_model_module": "@jupyter-widgets/controls",
            "_model_module_version": "1.5.0",
            "_model_name": "FloatProgressModel",
            "_view_count": null,
            "_view_module": "@jupyter-widgets/controls",
            "_view_module_version": "1.5.0",
            "_view_name": "ProgressView",
            "bar_style": "success",
            "description": "",
            "description_tooltip": null,
            "layout": "IPY_MODEL_905001d300e4499f9284c0adb85c9a69",
            "max": 200,
            "min": 0,
            "orientation": "horizontal",
            "style": "IPY_MODEL_500fb2592584478c9f37cedbd1028433",
            "value": 200
          }
        },
        "4c8fb2230421402f95abbcc4c5882979": {
          "model_module": "@jupyter-widgets/controls",
          "model_name": "HTMLModel",
          "state": {
            "_dom_classes": [],
            "_model_module": "@jupyter-widgets/controls",
            "_model_module_version": "1.5.0",
            "_model_name": "HTMLModel",
            "_view_count": null,
            "_view_module": "@jupyter-widgets/controls",
            "_view_module_version": "1.5.0",
            "_view_name": "HTMLView",
            "description": "",
            "description_tooltip": null,
            "layout": "IPY_MODEL_74c496e86bef49e98fc57ed92fb6bc3f",
            "placeholder": "​",
            "style": "IPY_MODEL_fa1b3cc21787430db8f08aa3cc09e583",
            "value": " 200/200 [1:22:21&lt;00:00, 24.71s/it]"
          }
        },
        "eb7b191fee2e40f291ce8b6ca2150fe4": {
          "model_module": "@jupyter-widgets/base",
          "model_name": "LayoutModel",
          "state": {
            "_model_module": "@jupyter-widgets/base",
            "_model_module_version": "1.2.0",
            "_model_name": "LayoutModel",
            "_view_count": null,
            "_view_module": "@jupyter-widgets/base",
            "_view_module_version": "1.2.0",
            "_view_name": "LayoutView",
            "align_content": null,
            "align_items": null,
            "align_self": null,
            "border": null,
            "bottom": null,
            "display": null,
            "flex": null,
            "flex_flow": null,
            "grid_area": null,
            "grid_auto_columns": null,
            "grid_auto_flow": null,
            "grid_auto_rows": null,
            "grid_column": null,
            "grid_gap": null,
            "grid_row": null,
            "grid_template_areas": null,
            "grid_template_columns": null,
            "grid_template_rows": null,
            "height": null,
            "justify_content": null,
            "justify_items": null,
            "left": null,
            "margin": null,
            "max_height": null,
            "max_width": null,
            "min_height": null,
            "min_width": null,
            "object_fit": null,
            "object_position": null,
            "order": null,
            "overflow": null,
            "overflow_x": null,
            "overflow_y": null,
            "padding": null,
            "right": null,
            "top": null,
            "visibility": null,
            "width": null
          }
        },
        "ce9352049a844f748ce16912d704747f": {
          "model_module": "@jupyter-widgets/base",
          "model_name": "LayoutModel",
          "state": {
            "_model_module": "@jupyter-widgets/base",
            "_model_module_version": "1.2.0",
            "_model_name": "LayoutModel",
            "_view_count": null,
            "_view_module": "@jupyter-widgets/base",
            "_view_module_version": "1.2.0",
            "_view_name": "LayoutView",
            "align_content": null,
            "align_items": null,
            "align_self": null,
            "border": null,
            "bottom": null,
            "display": null,
            "flex": null,
            "flex_flow": null,
            "grid_area": null,
            "grid_auto_columns": null,
            "grid_auto_flow": null,
            "grid_auto_rows": null,
            "grid_column": null,
            "grid_gap": null,
            "grid_row": null,
            "grid_template_areas": null,
            "grid_template_columns": null,
            "grid_template_rows": null,
            "height": null,
            "justify_content": null,
            "justify_items": null,
            "left": null,
            "margin": null,
            "max_height": null,
            "max_width": null,
            "min_height": null,
            "min_width": null,
            "object_fit": null,
            "object_position": null,
            "order": null,
            "overflow": null,
            "overflow_x": null,
            "overflow_y": null,
            "padding": null,
            "right": null,
            "top": null,
            "visibility": null,
            "width": null
          }
        },
        "90c3a0f4ccb44b25b9aceeeb631cb9aa": {
          "model_module": "@jupyter-widgets/controls",
          "model_name": "DescriptionStyleModel",
          "state": {
            "_model_module": "@jupyter-widgets/controls",
            "_model_module_version": "1.5.0",
            "_model_name": "DescriptionStyleModel",
            "_view_count": null,
            "_view_module": "@jupyter-widgets/base",
            "_view_module_version": "1.2.0",
            "_view_name": "StyleView",
            "description_width": ""
          }
        },
        "905001d300e4499f9284c0adb85c9a69": {
          "model_module": "@jupyter-widgets/base",
          "model_name": "LayoutModel",
          "state": {
            "_model_module": "@jupyter-widgets/base",
            "_model_module_version": "1.2.0",
            "_model_name": "LayoutModel",
            "_view_count": null,
            "_view_module": "@jupyter-widgets/base",
            "_view_module_version": "1.2.0",
            "_view_name": "LayoutView",
            "align_content": null,
            "align_items": null,
            "align_self": null,
            "border": null,
            "bottom": null,
            "display": null,
            "flex": null,
            "flex_flow": null,
            "grid_area": null,
            "grid_auto_columns": null,
            "grid_auto_flow": null,
            "grid_auto_rows": null,
            "grid_column": null,
            "grid_gap": null,
            "grid_row": null,
            "grid_template_areas": null,
            "grid_template_columns": null,
            "grid_template_rows": null,
            "height": null,
            "justify_content": null,
            "justify_items": null,
            "left": null,
            "margin": null,
            "max_height": null,
            "max_width": null,
            "min_height": null,
            "min_width": null,
            "object_fit": null,
            "object_position": null,
            "order": null,
            "overflow": null,
            "overflow_x": null,
            "overflow_y": null,
            "padding": null,
            "right": null,
            "top": null,
            "visibility": null,
            "width": null
          }
        },
        "500fb2592584478c9f37cedbd1028433": {
          "model_module": "@jupyter-widgets/controls",
          "model_name": "ProgressStyleModel",
          "state": {
            "_model_module": "@jupyter-widgets/controls",
            "_model_module_version": "1.5.0",
            "_model_name": "ProgressStyleModel",
            "_view_count": null,
            "_view_module": "@jupyter-widgets/base",
            "_view_module_version": "1.2.0",
            "_view_name": "StyleView",
            "bar_color": null,
            "description_width": ""
          }
        },
        "74c496e86bef49e98fc57ed92fb6bc3f": {
          "model_module": "@jupyter-widgets/base",
          "model_name": "LayoutModel",
          "state": {
            "_model_module": "@jupyter-widgets/base",
            "_model_module_version": "1.2.0",
            "_model_name": "LayoutModel",
            "_view_count": null,
            "_view_module": "@jupyter-widgets/base",
            "_view_module_version": "1.2.0",
            "_view_name": "LayoutView",
            "align_content": null,
            "align_items": null,
            "align_self": null,
            "border": null,
            "bottom": null,
            "display": null,
            "flex": null,
            "flex_flow": null,
            "grid_area": null,
            "grid_auto_columns": null,
            "grid_auto_flow": null,
            "grid_auto_rows": null,
            "grid_column": null,
            "grid_gap": null,
            "grid_row": null,
            "grid_template_areas": null,
            "grid_template_columns": null,
            "grid_template_rows": null,
            "height": null,
            "justify_content": null,
            "justify_items": null,
            "left": null,
            "margin": null,
            "max_height": null,
            "max_width": null,
            "min_height": null,
            "min_width": null,
            "object_fit": null,
            "object_position": null,
            "order": null,
            "overflow": null,
            "overflow_x": null,
            "overflow_y": null,
            "padding": null,
            "right": null,
            "top": null,
            "visibility": null,
            "width": null
          }
        },
        "fa1b3cc21787430db8f08aa3cc09e583": {
          "model_module": "@jupyter-widgets/controls",
          "model_name": "DescriptionStyleModel",
          "state": {
            "_model_module": "@jupyter-widgets/controls",
            "_model_module_version": "1.5.0",
            "_model_name": "DescriptionStyleModel",
            "_view_count": null,
            "_view_module": "@jupyter-widgets/base",
            "_view_module_version": "1.2.0",
            "_view_name": "StyleView",
            "description_width": ""
          }
        },
        "9ed8f9ec8ac3463b96bb493596ef084b": {
          "model_module": "@jupyter-widgets/controls",
          "model_name": "HBoxModel",
          "state": {
            "_dom_classes": [],
            "_model_module": "@jupyter-widgets/controls",
            "_model_module_version": "1.5.0",
            "_model_name": "HBoxModel",
            "_view_count": null,
            "_view_module": "@jupyter-widgets/controls",
            "_view_module_version": "1.5.0",
            "_view_name": "HBoxView",
            "box_style": "",
            "children": [
              "IPY_MODEL_d9db4fb8b122459cb514c9933ddd0696",
              "IPY_MODEL_da3006c39e954c07bb9e5475f9b703a5",
              "IPY_MODEL_537d5fd96d644c34b55bfbe5d0122c2b"
            ],
            "layout": "IPY_MODEL_0931baafe9a84c2781cb0f99c21ff471"
          }
        },
        "d9db4fb8b122459cb514c9933ddd0696": {
          "model_module": "@jupyter-widgets/controls",
          "model_name": "HTMLModel",
          "state": {
            "_dom_classes": [],
            "_model_module": "@jupyter-widgets/controls",
            "_model_module_version": "1.5.0",
            "_model_name": "HTMLModel",
            "_view_count": null,
            "_view_module": "@jupyter-widgets/controls",
            "_view_module_version": "1.5.0",
            "_view_name": "HTMLView",
            "description": "",
            "description_tooltip": null,
            "layout": "IPY_MODEL_b2e2028ebb2c46f99a307dc2e5c0dd9a",
            "placeholder": "​",
            "style": "IPY_MODEL_34f305a7bf104147bc252f0c11a06de6",
            "value": " 79%"
          }
        },
        "da3006c39e954c07bb9e5475f9b703a5": {
          "model_module": "@jupyter-widgets/controls",
          "model_name": "FloatProgressModel",
          "state": {
            "_dom_classes": [],
            "_model_module": "@jupyter-widgets/controls",
            "_model_module_version": "1.5.0",
            "_model_name": "FloatProgressModel",
            "_view_count": null,
            "_view_module": "@jupyter-widgets/controls",
            "_view_module_version": "1.5.0",
            "_view_name": "ProgressView",
            "bar_style": "danger",
            "description": "",
            "description_tooltip": null,
            "layout": "IPY_MODEL_bba5258bd5c647c184e1667e39ac8903",
            "max": 100,
            "min": 0,
            "orientation": "horizontal",
            "style": "IPY_MODEL_69eea808896e4749824e1ade954b74b7",
            "value": 79
          }
        },
        "537d5fd96d644c34b55bfbe5d0122c2b": {
          "model_module": "@jupyter-widgets/controls",
          "model_name": "HTMLModel",
          "state": {
            "_dom_classes": [],
            "_model_module": "@jupyter-widgets/controls",
            "_model_module_version": "1.5.0",
            "_model_name": "HTMLModel",
            "_view_count": null,
            "_view_module": "@jupyter-widgets/controls",
            "_view_module_version": "1.5.0",
            "_view_name": "HTMLView",
            "description": "",
            "description_tooltip": null,
            "layout": "IPY_MODEL_08974ce4b66b451f99fd0023100c1b58",
            "placeholder": "​",
            "style": "IPY_MODEL_2ab50c88d5194d16a3ed0fbcbb7b5370",
            "value": " 79/100 [13:09&lt;03:29,  9.99s/it]"
          }
        },
        "0931baafe9a84c2781cb0f99c21ff471": {
          "model_module": "@jupyter-widgets/base",
          "model_name": "LayoutModel",
          "state": {
            "_model_module": "@jupyter-widgets/base",
            "_model_module_version": "1.2.0",
            "_model_name": "LayoutModel",
            "_view_count": null,
            "_view_module": "@jupyter-widgets/base",
            "_view_module_version": "1.2.0",
            "_view_name": "LayoutView",
            "align_content": null,
            "align_items": null,
            "align_self": null,
            "border": null,
            "bottom": null,
            "display": null,
            "flex": null,
            "flex_flow": null,
            "grid_area": null,
            "grid_auto_columns": null,
            "grid_auto_flow": null,
            "grid_auto_rows": null,
            "grid_column": null,
            "grid_gap": null,
            "grid_row": null,
            "grid_template_areas": null,
            "grid_template_columns": null,
            "grid_template_rows": null,
            "height": null,
            "justify_content": null,
            "justify_items": null,
            "left": null,
            "margin": null,
            "max_height": null,
            "max_width": null,
            "min_height": null,
            "min_width": null,
            "object_fit": null,
            "object_position": null,
            "order": null,
            "overflow": null,
            "overflow_x": null,
            "overflow_y": null,
            "padding": null,
            "right": null,
            "top": null,
            "visibility": null,
            "width": null
          }
        },
        "b2e2028ebb2c46f99a307dc2e5c0dd9a": {
          "model_module": "@jupyter-widgets/base",
          "model_name": "LayoutModel",
          "state": {
            "_model_module": "@jupyter-widgets/base",
            "_model_module_version": "1.2.0",
            "_model_name": "LayoutModel",
            "_view_count": null,
            "_view_module": "@jupyter-widgets/base",
            "_view_module_version": "1.2.0",
            "_view_name": "LayoutView",
            "align_content": null,
            "align_items": null,
            "align_self": null,
            "border": null,
            "bottom": null,
            "display": null,
            "flex": null,
            "flex_flow": null,
            "grid_area": null,
            "grid_auto_columns": null,
            "grid_auto_flow": null,
            "grid_auto_rows": null,
            "grid_column": null,
            "grid_gap": null,
            "grid_row": null,
            "grid_template_areas": null,
            "grid_template_columns": null,
            "grid_template_rows": null,
            "height": null,
            "justify_content": null,
            "justify_items": null,
            "left": null,
            "margin": null,
            "max_height": null,
            "max_width": null,
            "min_height": null,
            "min_width": null,
            "object_fit": null,
            "object_position": null,
            "order": null,
            "overflow": null,
            "overflow_x": null,
            "overflow_y": null,
            "padding": null,
            "right": null,
            "top": null,
            "visibility": null,
            "width": null
          }
        },
        "34f305a7bf104147bc252f0c11a06de6": {
          "model_module": "@jupyter-widgets/controls",
          "model_name": "DescriptionStyleModel",
          "state": {
            "_model_module": "@jupyter-widgets/controls",
            "_model_module_version": "1.5.0",
            "_model_name": "DescriptionStyleModel",
            "_view_count": null,
            "_view_module": "@jupyter-widgets/base",
            "_view_module_version": "1.2.0",
            "_view_name": "StyleView",
            "description_width": ""
          }
        },
        "bba5258bd5c647c184e1667e39ac8903": {
          "model_module": "@jupyter-widgets/base",
          "model_name": "LayoutModel",
          "state": {
            "_model_module": "@jupyter-widgets/base",
            "_model_module_version": "1.2.0",
            "_model_name": "LayoutModel",
            "_view_count": null,
            "_view_module": "@jupyter-widgets/base",
            "_view_module_version": "1.2.0",
            "_view_name": "LayoutView",
            "align_content": null,
            "align_items": null,
            "align_self": null,
            "border": null,
            "bottom": null,
            "display": null,
            "flex": null,
            "flex_flow": null,
            "grid_area": null,
            "grid_auto_columns": null,
            "grid_auto_flow": null,
            "grid_auto_rows": null,
            "grid_column": null,
            "grid_gap": null,
            "grid_row": null,
            "grid_template_areas": null,
            "grid_template_columns": null,
            "grid_template_rows": null,
            "height": null,
            "justify_content": null,
            "justify_items": null,
            "left": null,
            "margin": null,
            "max_height": null,
            "max_width": null,
            "min_height": null,
            "min_width": null,
            "object_fit": null,
            "object_position": null,
            "order": null,
            "overflow": null,
            "overflow_x": null,
            "overflow_y": null,
            "padding": null,
            "right": null,
            "top": null,
            "visibility": null,
            "width": null
          }
        },
        "69eea808896e4749824e1ade954b74b7": {
          "model_module": "@jupyter-widgets/controls",
          "model_name": "ProgressStyleModel",
          "state": {
            "_model_module": "@jupyter-widgets/controls",
            "_model_module_version": "1.5.0",
            "_model_name": "ProgressStyleModel",
            "_view_count": null,
            "_view_module": "@jupyter-widgets/base",
            "_view_module_version": "1.2.0",
            "_view_name": "StyleView",
            "bar_color": null,
            "description_width": ""
          }
        },
        "08974ce4b66b451f99fd0023100c1b58": {
          "model_module": "@jupyter-widgets/base",
          "model_name": "LayoutModel",
          "state": {
            "_model_module": "@jupyter-widgets/base",
            "_model_module_version": "1.2.0",
            "_model_name": "LayoutModel",
            "_view_count": null,
            "_view_module": "@jupyter-widgets/base",
            "_view_module_version": "1.2.0",
            "_view_name": "LayoutView",
            "align_content": null,
            "align_items": null,
            "align_self": null,
            "border": null,
            "bottom": null,
            "display": null,
            "flex": null,
            "flex_flow": null,
            "grid_area": null,
            "grid_auto_columns": null,
            "grid_auto_flow": null,
            "grid_auto_rows": null,
            "grid_column": null,
            "grid_gap": null,
            "grid_row": null,
            "grid_template_areas": null,
            "grid_template_columns": null,
            "grid_template_rows": null,
            "height": null,
            "justify_content": null,
            "justify_items": null,
            "left": null,
            "margin": null,
            "max_height": null,
            "max_width": null,
            "min_height": null,
            "min_width": null,
            "object_fit": null,
            "object_position": null,
            "order": null,
            "overflow": null,
            "overflow_x": null,
            "overflow_y": null,
            "padding": null,
            "right": null,
            "top": null,
            "visibility": null,
            "width": null
          }
        },
        "2ab50c88d5194d16a3ed0fbcbb7b5370": {
          "model_module": "@jupyter-widgets/controls",
          "model_name": "DescriptionStyleModel",
          "state": {
            "_model_module": "@jupyter-widgets/controls",
            "_model_module_version": "1.5.0",
            "_model_name": "DescriptionStyleModel",
            "_view_count": null,
            "_view_module": "@jupyter-widgets/base",
            "_view_module_version": "1.2.0",
            "_view_name": "StyleView",
            "description_width": ""
          }
        }
      }
    },
    "accelerator": "GPU"
  },
  "cells": [
    {
      "cell_type": "markdown",
      "metadata": {
        "id": "edEswvlr7rjc"
      },
      "source": [
        "# Classification"
      ]
    },
    {
      "cell_type": "markdown",
      "metadata": {
        "id": "zzlRutEpWOjh"
      },
      "source": [
        "preliminary operations"
      ]
    },
    {
      "cell_type": "code",
      "metadata": {
        "id": "HvHCC_TaVhsq"
      },
      "source": [
        "# from google.colab import files # in order to be able to download and upload files\n",
        "\n",
        "import numpy as np\n",
        "import pandas as pd\n",
        "import matplotlib.pyplot as plt\n",
        "import time\n",
        "from PIL import Image\n",
        "\n",
        "import torch\n",
        "import torch.nn as nn\n",
        "import torch.optim as optim\n",
        "from torch.utils.data import Dataset, DataLoader, Subset\n",
        "from torchvision import transforms\n",
        "import torchvision\n",
        "\n",
        "from sklearn.model_selection import train_test_split, KFold\n",
        "from sklearn.metrics import confusion_matrix\n",
        "\n",
        "import os\n",
        "from tqdm.notebook import tqdm\n",
        "\n",
        "from collections import OrderedDict\n",
        "\n",
        "import optuna\n",
        "import noise\n",
        "import plotly"
      ],
      "execution_count": 1,
      "outputs": []
    },
    {
      "cell_type": "code",
      "metadata": {
        "id": "DvzXlwCZWHEj"
      },
      "source": [
        "os.environ['CUDA_LAUNCH_BLOCKING'] = '1' # solving a bug of colab."
      ],
      "execution_count": 2,
      "outputs": []
    },
    {
      "cell_type": "code",
      "metadata": {
        "id": "IGDTOEMdvq5e",
        "colab": {
          "base_uri": "https://localhost:8080/"
        },
        "outputId": "fe7a4c7d-bcc0-4a62-a52c-b3b91575d8bc"
      },
      "source": [
        "# Check if the GPU is available\n",
        "device = torch.device(\"cuda\") if torch.cuda.is_available() else torch.device(\"cpu\")\n",
        "print(f\"Training device: {device}: {torch.cuda.get_device_name(0)}\")"
      ],
      "execution_count": 3,
      "outputs": [
        {
          "output_type": "stream",
          "text": [
            "Training device: cuda: GeForce GTX 960M\n"
          ],
          "name": "stdout"
        }
      ]
    },
    {
      "cell_type": "markdown",
      "metadata": {
        "id": "jHEFpwcIfO0a"
      },
      "source": [
        "## Datasets"
      ]
    },
    {
      "cell_type": "code",
      "metadata": {
        "id": "aVQ8Uu_k8qVV"
      },
      "source": [
        "# get the datasets\n",
        "\n",
        "all_train_dataset = torchvision.datasets.MNIST('classifier_data', train=True, download=True)\n",
        "all_test_dataset  = torchvision.datasets.MNIST('classifier_data', train=False, download=True)\n",
        "\n",
        "raw = True"
      ],
      "execution_count": 4,
      "outputs": []
    },
    {
      "cell_type": "code",
      "metadata": {
        "id": "80lgFbA399Y0",
        "colab": {
          "base_uri": "https://localhost:8080/"
        },
        "outputId": "09d62e29-d415-4f86-f2dd-d66e79af3bf0"
      },
      "source": [
        "val_perc = 0.2\n",
        "shuffle = False\n",
        "\n",
        "tr_list, val_list = train_test_split(all_train_dataset,test_size=val_perc, shuffle=shuffle) # create training and validation datasets\n",
        "\n",
        "test_list = [sample for sample in all_test_dataset]\n",
        "\n",
        "print(len(tr_list), len(val_list), len(test_list))"
      ],
      "execution_count": 5,
      "outputs": [
        {
          "output_type": "stream",
          "text": [
            "48000 12000 10000\n"
          ],
          "name": "stdout"
        }
      ]
    },
    {
      "cell_type": "code",
      "metadata": {
        "id": "l3_pJvTyH6G3"
      },
      "source": [
        "class ListDataset(Dataset):\n",
        "  '''\n",
        "  Args:\n",
        "    data_list: list with the data\n",
        "    transform (callable, optional): Optional transform to be applied on a sample.\n",
        "  '''\n",
        "  def __init__(self, data_list, transform=None):\n",
        "    self.transform = transform\n",
        "    self.data = data_list\n",
        "\n",
        "  def __len__(self):\n",
        "    return len(self.data)\n",
        "\n",
        "  def __getitem__(self,idx):\n",
        "    sample = self.data[idx]\n",
        "    if self.transform:\n",
        "      sample = self.transform(sample)\n",
        "    return sample"
      ],
      "execution_count": null,
      "outputs": []
    },
    {
      "cell_type": "markdown",
      "metadata": {
        "id": "9y3_COdn9vFr"
      },
      "source": [
        "### Transforms"
      ]
    },
    {
      "cell_type": "code",
      "metadata": {
        "id": "MojMQ6O-QOXa"
      },
      "source": [
        "class ToTensor():\n",
        "  '''\n",
        "  Convert to tensor the image\n",
        "  '''\n",
        "  def __init__(self):\n",
        "    self.t = transforms.ToTensor()\n",
        "\n",
        "  def __call__(self, sample):\n",
        "    pic, label = sample\n",
        "    sample = (self.t(pic), label)\n",
        "    return sample\n",
        "\n",
        "\n",
        "# useful if we want to use MSE loss\n",
        "class OneHotEncoder():\n",
        "    '''\n",
        "    Convert each encoded character in \"sample\" in a one-hot representation.\n",
        "    INPUT\n",
        "      e.g. 7\n",
        "    OUTPUT\n",
        "      ...0001000000 # all zeros but 1 at position 7.\n",
        "    '''\n",
        "    \n",
        "    def __init__(self, alphabet_len):\n",
        "      self.alphabet_len = alphabet_len\n",
        "        \n",
        "    def __call__(self, sample):\n",
        "      pic, label = sample\n",
        "\n",
        "      ### Create one hot matrix\n",
        "      onehot = np.zeros(self.alphabet_len)\n",
        "      onehot[label] = 1.\n",
        "\n",
        "      sample = (pic, torch.tensor(onehot).float())\n",
        "      return sample\n",
        "\n",
        "ohe = OneHotEncoder(10)"
      ],
      "execution_count": null,
      "outputs": []
    },
    {
      "cell_type": "code",
      "metadata": {
        "id": "ZJmGDfF68uLA"
      },
      "source": [
        "train_transform = transforms.Compose([\n",
        "    ToTensor(),\n",
        "])\n",
        "mse_transform = transforms.Compose([\n",
        "    ToTensor(),\n",
        "    ohe,\n",
        "])"
      ],
      "execution_count": null,
      "outputs": []
    },
    {
      "cell_type": "code",
      "metadata": {
        "id": "z1MtBqQ5J--c"
      },
      "source": [
        "if raw:\n",
        "  all_train_dataset = ListDataset([sample for sample in all_train_dataset], train_transform)\n",
        "  raw = False\n",
        "\n",
        "train_dataset = ListDataset(tr_list, train_transform)\n",
        "val_dataset = ListDataset(val_list, train_transform)\n",
        "test_dataset = ListDataset(test_list, train_transform)"
      ],
      "execution_count": null,
      "outputs": []
    },
    {
      "cell_type": "markdown",
      "metadata": {
        "id": "BNsyyYF3MzPF"
      },
      "source": [
        "## Evolver"
      ]
    },
    {
      "cell_type": "code",
      "metadata": {
        "id": "BUb2rH7BKW1f"
      },
      "source": [
        "class Evolver(object):\n",
        "  '''\n",
        "  Class for evolving the Network. This class is a starting point: to do more advanced stuff one can define new classes inheriting from this one.\n",
        "\n",
        "  Args:\n",
        "    net\n",
        "    optimizer: needs to be already linked to the net\n",
        "    loss_function\n",
        "    train_dataloader: training Dataloader\n",
        "    val_dataloader: validation Dataloader\n",
        "  '''\n",
        "  def __init__(self, net, optimizer, loss_function, train_dataloader, val_dataloader):\n",
        "    self.net = net\n",
        "    self.optimizer = optimizer\n",
        "    self.loss_function = loss_function\n",
        "\n",
        "    self.train_dataloader = train_dataloader\n",
        "    self.val_dataloader = val_dataloader\n",
        "\n",
        "    self.train_loss_log = []\n",
        "    self.val_loss_log = []\n",
        "\n",
        "\n",
        "  def stop_learning(self,epoch_num):\n",
        "    return False\n",
        "\n",
        "\n",
        "  def train_epoch(self):\n",
        "    train_loss= []\n",
        "    self.net.train() # Training mode\n",
        "    for sample_batched in self.train_dataloader:\n",
        "      # Move data to device\n",
        "      x_batch = sample_batched[0].to(device)\n",
        "      label_batch = sample_batched[1].to(device)\n",
        "      # set previous gradients to 0\n",
        "      self.optimizer.zero_grad()\n",
        "      # Forward pass\n",
        "      out = self.net(x_batch)\n",
        "      # Compute loss\n",
        "      loss = self.loss_function(out,label_batch)\n",
        "      # Backpropagation\n",
        "      loss.backward()\n",
        "      # Update the weights\n",
        "      self.optimizer.step()\n",
        "\n",
        "      # Save train loss for this batch\n",
        "      loss_batch = loss.detach().cpu().numpy()\n",
        "      train_loss.append(loss_batch)\n",
        "\n",
        "    # Save average train loss\n",
        "    train_loss = np.mean(train_loss)\n",
        "    return train_loss\n",
        "\n",
        "  def val_epoch(self,dl):\n",
        "    '''\n",
        "    Args:\n",
        "      dl: Dataloader on which to perform the test\n",
        "    '''\n",
        "    val_loss= []\n",
        "    self.net.eval() # Evaluation mode\n",
        "    with torch.no_grad(): # Disable gradient tracking\n",
        "      for sample_batched in dl:\n",
        "        # Move data to device\n",
        "        x_batch = sample_batched[0].to(device)\n",
        "        label_batch = sample_batched[1].to(device)\n",
        "        # Forward pass\n",
        "        out = self.net(x_batch)\n",
        "        # Compute loss\n",
        "        loss = self.loss_function(out,label_batch)\n",
        "        # Save val loss for this batch\n",
        "        loss_batch = loss.detach().cpu().numpy()\n",
        "        val_loss.append(loss_batch)\n",
        "\n",
        "      # Save average validation loss\n",
        "      val_loss = np.mean(val_loss)\n",
        "      return val_loss\n",
        "\n",
        "  def evolve(self,num_epochs,verbose=False):\n",
        "\n",
        "    ### TRAINING LOOP\n",
        "    for epoch_num in tqdm(np.arange(num_epochs) + len(self.train_loss_log)):\n",
        "      if verbose:\n",
        "        print('#################')\n",
        "        print(f'# EPOCH {epoch_num}')\n",
        "\n",
        "      ### TRAIN\n",
        "      train_loss = self.train_epoch()\n",
        "      if verbose:\n",
        "        print(f\"AVERAGE TRAIN LOSS: {train_loss}\")\n",
        "      self.train_loss_log.append(train_loss)\n",
        "\n",
        "      ### VALIDATION\n",
        "      val_loss = self.val_epoch(self.val_dataloader)\n",
        "      if verbose:\n",
        "        print(f\"AVERAGE VAL LOSS: {np.mean(val_loss)}\")\n",
        "      self.val_loss_log.append(val_loss)\n",
        "\n",
        "      if self.stop_learning(epoch_num):\n",
        "        break\n",
        "        \n",
        "\n",
        "  def plot_losses(self,avg_size=10):\n",
        "    '''\n",
        "    Plots the behavior of the train and val losses and prints their average in the last 'avg_size' epochs\n",
        "    Args:\n",
        "      avg_size: int\n",
        "    '''\n",
        "    plt.figure(figsize=(12,8))\n",
        "    plt.semilogy(self.train_loss_log, label='Training loss')\n",
        "    plt.semilogy(self.val_loss_log, label='Validation loss')\n",
        "    plt.xlabel('Epoch')\n",
        "    plt.ylabel('Loss')\n",
        "    plt.grid()\n",
        "    plt.legend()\n",
        "    plt.show()\n",
        "\n",
        "    print('Average traininig  loss in the last %d epochs: %.4f' %(avg_size, np.mean(self.train_loss_log[-avg_size:])))\n",
        "    print('Average validation loss in the last %d epochs: %.4f' %(avg_size, np.mean(self.val_loss_log[-avg_size:])))\n",
        "\n",
        "\n",
        "  def test(self,test_dataset):\n",
        "    '''\n",
        "    Args:\n",
        "      test_dataset: Dataset with data on which to perform the test\n",
        "    '''\n",
        "    test_dataloader = DataLoader(test_dataset,batch_size=256,shuffle=False,num_workers=0)\n",
        "    return self.val_epoch(test_dataloader)"
      ],
      "execution_count": null,
      "outputs": []
    },
    {
      "cell_type": "markdown",
      "metadata": {
        "id": "E_oSEDEiy4ws"
      },
      "source": [
        "#### Early stopping"
      ]
    },
    {
      "cell_type": "code",
      "metadata": {
        "id": "nLcjPZICzi-F"
      },
      "source": [
        "class Evolver_es(Evolver):\n",
        "\n",
        "  def __init__(self, patience, checkpoint=False, *args, **kwargs):\n",
        "    '''\n",
        "    Args:\n",
        "      patience: int: if after patience peochs the validation loss does not decrease learning stops\n",
        "      checkpoint: bool: if True when learning stops the net is checkpointed back to when the validation loss was at its minimum\n",
        "\n",
        "      *args, **kwargs: arguments of the parent class\n",
        "    '''\n",
        "    super().__init__(*args, **kwargs)\n",
        "\n",
        "    self.patience = patience\n",
        "    self.counter = 0\n",
        "    self.best_vl = 10\n",
        "    self.checkpoint = checkpoint\n",
        "    self.net_checkpoint = None\n",
        "    self.optim_checkpoint = None\n",
        "\n",
        "  def stop_learning(self,epoch_num):\n",
        "    if epoch_num <= self.patience: # at least do 'patience' epochs\n",
        "      return False\n",
        "\n",
        "    if self.val_loss_log[-1] < self.best_vl:\n",
        "      self.best_vl = self.val_loss_log[-1]\n",
        "      self.counter = 0\n",
        "      if self.checkpoint:\n",
        "        self.net_checkpoint = (epoch_num, self.net.state_dict())\n",
        "        self.optim_checkpoint = self.optimizer.state_dict()\n",
        "    else:\n",
        "      self.counter += 1\n",
        "\n",
        "    if self.counter >= self.patience:\n",
        "      if self.checkpoint:\n",
        "        print(f'Checkpointing back to epoch {self.net_checkpoint[0]}')\n",
        "        self.net.load_state_dict(self.net_checkpoint[1])\n",
        "        self.optimizer.load_state_dict(self.optim_checkpoint)\n",
        "        self.train_loss_log = self.train_loss_log[:self.net_checkpoint[0] + 1]\n",
        "        self.val_loss_log = self.val_loss_log[:self.net_checkpoint[0] + 1]\n",
        "      return True\n",
        "    return False"
      ],
      "execution_count": null,
      "outputs": []
    },
    {
      "cell_type": "markdown",
      "metadata": {
        "id": "_6It22vwNEdE"
      },
      "source": [
        "## Fully connected network"
      ]
    },
    {
      "cell_type": "code",
      "metadata": {
        "id": "iW7MOeu5MhRx"
      },
      "source": [
        "class FC_net(nn.Module):\n",
        "  def __init__(self, Ni, Nh1, Nh2, No, activation_function=nn.ReLU(), o_act=nn.Identity()):\n",
        "    '''\n",
        "    Network with 2 hidden linear layers\n",
        "    '''\n",
        "    super().__init__()\n",
        "\n",
        "    self.flatten = nn.Flatten(start_dim=1)\n",
        "\n",
        "    self.fc1 = nn.Linear(in_features=Ni,out_features=Nh1)\n",
        "    self.fc2 = nn.Linear(in_features=Nh1,out_features=Nh2)\n",
        "    self.out = nn.Linear(in_features=Nh2,out_features=No)\n",
        "\n",
        "    self.act = activation_function\n",
        "    self.o_act = o_act\n",
        "\n",
        "    print('Network initialized')\n",
        "\n",
        "  def forward(self, x):\n",
        "\n",
        "    x = self.flatten(x)\n",
        "    x = self.act(self.fc1(x))\n",
        "    x = self.act(self.fc2(x))\n",
        "    x = self.o_act(self.out(x)) # use a sigmoid to force the output layer to have values between 0 and 1\n",
        "\n",
        "    return x"
      ],
      "execution_count": null,
      "outputs": []
    },
    {
      "cell_type": "markdown",
      "metadata": {
        "id": "uwz6C3SB2mPZ"
      },
      "source": [
        "### Training"
      ]
    },
    {
      "cell_type": "code",
      "metadata": {
        "id": "nZIkXqZb2ut1"
      },
      "source": [
        "Ni = 28*28\n",
        "Nh1 = 128\n",
        "Nh2 = 16\n",
        "No = 10\n",
        "activation_function = nn.ReLU()\n",
        "o_act = nn.Identity()\n",
        "\n",
        "# torch.manual_seed(0)\n",
        "\n",
        "net = FC_net(Ni,Nh1,Nh2,No,activation_function=activation_function, o_act=o_act).to(device)\n",
        "\n",
        "optimizer = optim.Adam(net.parameters(),lr=0.001,weight_decay=0)\n",
        "\n",
        "loss_function = nn.CrossEntropyLoss()\n",
        "\n",
        "train_batch_size = 256\n",
        "val_batch_size = 256\n",
        "\n",
        "patience = 10\n",
        "\n",
        "train_dataloader = DataLoader(train_dataset, batch_size=train_batch_size, shuffle=True, num_workers=0)\n",
        "val_dataloader = DataLoader(val_dataset, batch_size=val_batch_size, shuffle=False, num_workers=0)\n",
        "\n",
        "\n",
        "nature = Evolver_es(patience=patience,net=net,optimizer=optimizer,loss_function=loss_function,\n",
        "                    train_dataloader=train_dataloader,val_dataloader=val_dataloader)"
      ],
      "execution_count": null,
      "outputs": []
    },
    {
      "cell_type": "code",
      "metadata": {
        "id": "tfglwGEZ28UY"
      },
      "source": [
        "nature.evolve(40,verbose= False)\n",
        "\n",
        "nature.plot_losses()"
      ],
      "execution_count": null,
      "outputs": []
    },
    {
      "cell_type": "markdown",
      "metadata": {
        "id": "1-A0M9RNlc1i"
      },
      "source": [
        "### Test with MSE loss"
      ]
    },
    {
      "cell_type": "code",
      "metadata": {
        "id": "wgcq7kFcOS2T",
        "colab": {
          "base_uri": "https://localhost:8080/",
          "height": 473
        },
        "outputId": "ccaa9103-62fe-4518-836f-42edd18ab0b1"
      },
      "source": [
        "# test on one sample\n",
        "test_dataset.transform = test_transform\n",
        "net.o_act = nn.Softmax(dim=1)\n",
        "\n",
        "idx = 47\n",
        "\n",
        "sample = test_dataset[idx]\n",
        "\n",
        "pic, label = sample\n",
        "\n",
        "pic = pic.to(device)\n",
        "label = label.to(device)\n",
        "\n",
        "net.eval()\n",
        "with torch.no_grad():\n",
        "  y = net(pic)\n",
        "\n",
        "  # loss = nature.loss_function(y,torch.tensor([label]).to(device))\n",
        "  # loss = nn.NLLLoss()(y,torch.tensor([6]))\n",
        "  loss = nn.MSELoss()(y,label.unsqueeze(0))\n",
        "\n",
        "for i,v in enumerate(y.squeeze()):\n",
        "  print(i,v)\n",
        "\n",
        "print(f'loss = {loss}')\n",
        "\n",
        "\n",
        "plt.figure()\n",
        "plt.imshow(np.array(pic.squeeze().cpu()), cmap='gist_gray')"
      ],
      "execution_count": null,
      "outputs": [
        {
          "output_type": "stream",
          "text": [
            "0 tensor(8.4598e-12, device='cuda:0')\n",
            "1 tensor(5.6049e-08, device='cuda:0')\n",
            "2 tensor(1., device='cuda:0')\n",
            "3 tensor(3.2895e-09, device='cuda:0')\n",
            "4 tensor(8.1808e-15, device='cuda:0')\n",
            "5 tensor(1.3672e-14, device='cuda:0')\n",
            "6 tensor(2.5442e-09, device='cuda:0')\n",
            "7 tensor(9.0259e-13, device='cuda:0')\n",
            "8 tensor(3.8709e-12, device='cuda:0')\n",
            "9 tensor(1.7942e-16, device='cuda:0')\n",
            "loss = 3.158837587915298e-16\n"
          ],
          "name": "stdout"
        },
        {
          "output_type": "execute_result",
          "data": {
            "text/plain": [
              "<matplotlib.image.AxesImage at 0x7fe358235700>"
            ]
          },
          "metadata": {
            "tags": []
          },
          "execution_count": 44
        },
        {
          "output_type": "display_data",
          "data": {
            "text/plain": [
              "<Figure size 432x288 with 1 Axes>"
            ],
            "image/png": "[encoded data removed]"
          },
          "metadata": {
            "tags": [],
            "needs_background": "light"
          }
        }
      ]
    },
    {
      "cell_type": "markdown",
      "metadata": {
        "id": "qHllz4w88HIh"
      },
      "source": [
        "We can use avg_test_loss/max_mseloss to quantify the percentage of wrongly classified test samples"
      ]
    },
    {
      "cell_type": "code",
      "metadata": {
        "id": "w621Ka5vnjOr"
      },
      "source": [
        "def mse_test(evolver, test_dataset):\n",
        "  '''\n",
        "  Computes the MSE loss on a test dataset, automaticaaly setting the proper transforms and activations\n",
        "  Args:\n",
        "    evolver\n",
        "    test_dataset\n",
        "  \n",
        "  Returns:\n",
        "    mse_accuracy = 1 - mse_loss/max_mse_loss\n",
        "  '''\n",
        "  tt = test_dataset.transform\n",
        "  o_act = evolver.net.o_act\n",
        "  lf = evolver.loss_function\n",
        "\n",
        "  test_dataset.transform = mse_transform\n",
        "  test_dataloader = DataLoader(test_dataset,batch_size=256,shuffle=False,num_workers=0)\n",
        "\n",
        "  evolver.net.o_act = nn.Softmax(dim=1)\n",
        "  evolver.loss_function = nn.MSELoss()\n",
        "  try:\n",
        "    avg_test_loss = evolver.val_epoch(test_dataloader)\n",
        "    mse_accuracy = (1 - float(avg_test_loss/max_mseloss))\n",
        "  except:\n",
        "    print('Mismatched shapes')\n",
        "    mse_accuracy = None\n",
        "\n",
        "  # revert everything back to how it was\n",
        "  test_dataset.transform = tt\n",
        "  evolver.net.o_act = o_act\n",
        "  evolver.loss_function = lf\n",
        "\n",
        "  return mse_accuracy\n",
        "\n",
        "\n",
        "s1 = 1, 0\n",
        "s2 = 1, 1\n",
        "\n",
        "_, l1 = ohe(s1)\n",
        "_, l2 = ohe(s2)\n",
        "\n",
        "max_mseloss = nn.MSELoss()(l1,l2)\n",
        "min_mseloss = nn.MSELoss()(l1,l1)\n",
        "print(f'MSELoss() in [{min_mseloss}, {max_mseloss}]')"
      ],
      "execution_count": null,
      "outputs": []
    },
    {
      "cell_type": "code",
      "metadata": {
        "id": "JDG6J-DnptpW"
      },
      "source": [
        "mse_test(nature, test_dataset)"
      ],
      "execution_count": null,
      "outputs": []
    },
    {
      "cell_type": "markdown",
      "metadata": {
        "id": "CDXMZpwasTn6"
      },
      "source": [
        "### Test with accuracy and confusion matrix"
      ]
    },
    {
      "cell_type": "code",
      "metadata": {
        "id": "THldZFY_liaj"
      },
      "source": [
        "def evaluate_net(net, test_dataset):\n",
        "  '''\n",
        "  Computes confusion matrix and accuracy\n",
        "  Args:\n",
        "    net\n",
        "    test_dataset\n",
        "  \n",
        "  Returns:\n",
        "    confusion_matrix: pd.DataFrame\n",
        "    accuracy = fraction of correctly classified samples\n",
        "  '''\n",
        "  test_dataloader = DataLoader(test_dataset,batch_size=256,shuffle=False,num_workers=0)\n",
        "\n",
        "  net_outputs = np.array([])\n",
        "  labels = np.array([])\n",
        "\n",
        "  net.eval()\n",
        "  with torch.no_grad():\n",
        "    for batch in test_dataloader:\n",
        "      out = torch.argmax(net(batch[0].to(device)), dim=1).cpu().numpy()\n",
        "      # print(out.shape)\n",
        "      label = batch[1].squeeze().cpu().numpy()\n",
        "\n",
        "      net_outputs = np.concatenate([net_outputs, out])\n",
        "      labels = np.concatenate([labels, label])\n",
        "\n",
        "  net_outputs = np.array(net_outputs, dtype=int)\n",
        "  labels = np.array(labels, dtype=int)\n",
        "\n",
        "  cm_df = pd.DataFrame(data=confusion_matrix(labels, net_outputs))\n",
        "  accuracy = np.mean(net_outputs == labels)\n",
        "\n",
        "  return cm_df, accuracy"
      ],
      "execution_count": null,
      "outputs": []
    },
    {
      "cell_type": "code",
      "metadata": {
        "id": "U0YsbCgdv7BZ"
      },
      "source": [
        "evaluate_net(net,test_dataset)"
      ],
      "execution_count": null,
      "outputs": []
    },
    {
      "cell_type": "markdown",
      "metadata": {
        "id": "Furv-8xN-SUT"
      },
      "source": [
        "### Visualizing the net"
      ]
    },
    {
      "cell_type": "markdown",
      "metadata": {
        "id": "mGFvTdyW-crB"
      },
      "source": [
        "#### Weights of the first layer"
      ]
    },
    {
      "cell_type": "code",
      "metadata": {
        "id": "nzN2ka6mynHL",
        "colab": {
          "base_uri": "https://localhost:8080/",
          "height": 282
        },
        "outputId": "662ebc9a-93a8-4399-dc35-9e22bd4c520d"
      },
      "source": [
        "# testing\n",
        "\n",
        "neuron_idx = 0\n",
        "\n",
        "unflattener = nn.Unflatten(0,(28,28))\n",
        "\n",
        "ws = net.fc1.weight.detach().cpu()[neuron_idx]\n",
        "ws = unflattener(ws)\n",
        "\n",
        "plt.figure()\n",
        "plt.imshow(ws.numpy(), cmap='gist_gray')\n",
        "plt.colorbar()"
      ],
      "execution_count": null,
      "outputs": [
        {
          "output_type": "execute_result",
          "data": {
            "text/plain": [
              "<matplotlib.colorbar.Colorbar at 0x7f987c0f3670>"
            ]
          },
          "metadata": {
            "tags": []
          },
          "execution_count": 19
        },
        {
          "output_type": "display_data",
          "data": {
            "text/plain": [
              "<Figure size 432x288 with 2 Axes>"
            ],
            "image/png": "[encoded data removed]"
          },
          "metadata": {
            "tags": [],
            "needs_background": "light"
          }
        }
      ]
    },
    {
      "cell_type": "code",
      "metadata": {
        "colab": {
          "base_uri": "https://localhost:8080/",
          "height": 1000
        },
        "id": "7mM8zchr-nRP",
        "outputId": "5897df6f-f77d-4612-a04b-61b18a5e1fa9"
      },
      "source": [
        "fig, axs = plt.subplots(nrows = 16, ncols = 8,figsize=(16,32))\n",
        "\n",
        "for i in range(16):\n",
        "  for j in range(8):\n",
        "\n",
        "    neuron_idx = 8*i + j\n",
        "\n",
        "    ws = net.fc1.weight.detach().cpu()[neuron_idx]\n",
        "    ws = unflattener(ws)\n",
        "    axs[i,j].imshow(ws.numpy(), cmap='gist_gray')"
      ],
      "execution_count": null,
      "outputs": [
        {
          "output_type": "display_data",
          "data": {
            "text/plain": [
              "<Figure size 1152x2304 with 128 Axes>"
            ],
            "image/png": "[encoded data removed]"
          },
          "metadata": {
            "tags": [],
            "needs_background": "light"
          }
        }
      ]
    },
    {
      "cell_type": "markdown",
      "metadata": {
        "id": "F_ewVHnOCuRq"
      },
      "source": [
        "#### Input that maximally activates a neuron"
      ]
    },
    {
      "cell_type": "code",
      "metadata": {
        "id": "hU-HSeswZ0qC"
      },
      "source": [
        "class NeuronMaximizer():\n",
        "  '''\n",
        "  Class for finding the input that maximally activates a specific neuron of a net\n",
        "\n",
        "  Args:\n",
        "    net\n",
        "    layer: layer of the net where the neuron is, e.g. net.out\n",
        "    neuron_idx: int, index of the neuron in the layer\n",
        "    optimizer_type: default otpim.Adam\n",
        "    optimizer_params: dictionary with the parameters for the optimizer\n",
        "    other_neurons_penalty: float, default 0.\n",
        "      The optimizer will minimize -(activation of the neuron) + other_neurons_penalty*sum(activation of the other neurons in the layer)\n",
        "  '''\n",
        "  def __init__(self, net, layer, neuron_idx=0, optimizer_type=optim.Adam, optimizer_params={'lr': 0.01, 'weight_decay': 0}, other_neurons_penalty=0):\n",
        "    self.net = net\n",
        "    self.layer = layer\n",
        "    self.neuron_idx = neuron_idx\n",
        "    self.activation = None\n",
        "    self.input_img = torch.zeros((1,28,28),requires_grad=True, device=device)\n",
        "    self.optimizer = optimizer_type([self.input_img], **optimizer_params)\n",
        "    self.other_neurons_penalty = other_neurons_penalty\n",
        "\n",
        "  def get_activation(self, layer, input, output):\n",
        "    self.activation = output\n",
        "\n",
        "  def optimize(self,iterations=50, verbose=True, show_imgs=True, show_colorbar=False):\n",
        "    hook_handle = self.layer.register_forward_hook(self.get_activation)\n",
        "\n",
        "    for i in range(iterations):\n",
        "      if verbose:\n",
        "        print(f'### iteration {i}:')\n",
        "\n",
        "      # normalize the image to avoid simply increasing the contrast\n",
        "      norm_img = torch.sigmoid(self.input_img).unsqueeze(0)\n",
        "      # print(norm_img.size())\n",
        "\n",
        "      self.optimizer.zero_grad()\n",
        "      y = self.net(norm_img)\n",
        "\n",
        "      if show_imgs:\n",
        "        plt.figure()\n",
        "        plt.imshow(norm_img.squeeze().cpu().detach().numpy(), cmap='gist_gray', vmin=0, vmax=1)\n",
        "        plt.tick_params(bottom=False, left=False, labelbottom=False, labelleft=False)\n",
        "        if show_colorbar:\n",
        "          plt.colorbar()\n",
        "\n",
        "      act = -self.activation[0, self.neuron_idx]\n",
        "      if self.other_neurons_penalty != 0:\n",
        "        act += self.other_neurons_penalty*(torch.sum(self.activation[0]) - self.activation[0, self.neuron_idx])\n",
        "\n",
        "      if verbose:\n",
        "        print(f'activation = {-act.cpu().detach().numpy()}')\n",
        "\n",
        "      act.backward(retain_graph=True)\n",
        "      self.optimizer.step()\n",
        "\n",
        "    hook_handle.remove()"
      ],
      "execution_count": null,
      "outputs": []
    },
    {
      "cell_type": "code",
      "metadata": {
        "id": "5ZBh6PhO6yVN"
      },
      "source": [
        "nm = NeuronMaximizer(net,net.out,9,optimizer_params={'lr':0.1, 'weight_decay': 0.01})\n",
        "nm.optimize(iterations=80)"
      ],
      "execution_count": null,
      "outputs": []
    },
    {
      "cell_type": "code",
      "metadata": {
        "id": "44VQF6oZ2BXe"
      },
      "source": [
        "y = torch.softmax(net(torch.sigmoid(nm.input_img)), dim=1)\n",
        "\n",
        "y = y.squeeze().detach().cpu().numpy()\n",
        "\n",
        "for i,yv in enumerate(y):\n",
        "  print(f'{i}: {yv}')"
      ],
      "execution_count": null,
      "outputs": []
    },
    {
      "cell_type": "markdown",
      "metadata": {
        "id": "_0yZZEotBDRk"
      },
      "source": [
        "## Convolutional network"
      ]
    },
    {
      "cell_type": "code",
      "metadata": {
        "id": "A19ra9dEH8hL"
      },
      "source": [
        "class C_net(nn.Module):\n",
        "  '''\n",
        "  Convolutional neural network\n",
        "  '''\n",
        "\n",
        "  def __init__(self, channels=[], kernel_sizes=[], strides=[], paddings=[], Nhs=[], activation_function=nn.ReLU, No=10, o_act=nn.Identity()):\n",
        "    '''\n",
        "    Params of the convolutional layers: the following should be lists of int and be of the same lenght\n",
        "      channels\n",
        "      kernel_sizes\n",
        "      strides\n",
        "      paddings\n",
        "\n",
        "    Params of the linear layers:\n",
        "      Nhs: list of int: numbers of neurons per linear layer\n",
        "      No: number of output neurons\n",
        "    \n",
        "    Activation functions:\n",
        "      activation_function: default nn.ReLU (beware NOT nn.ReLU()): activation function between all the hidden layers\n",
        "      o_act: default nn.Identity(): activation function after the output layer\n",
        "    '''\n",
        "    super().__init__()\n",
        "\n",
        "    self.shapes = [(1, 28, 28)]\n",
        "\n",
        "    ### Convolutional layer\n",
        "\n",
        "    ## Create an ordered dictionary with the layers\n",
        "    self.conv_od = OrderedDict([])\n",
        "    for i,c in enumerate(channels):\n",
        "      # add convolutional layer\n",
        "      if i == 0:\n",
        "        self.conv_od.update({'conv1': nn.Conv2d(in_channels=1,out_channels=channels[0],\n",
        "                                                       kernel_size=kernel_sizes[0], stride = strides[0], padding=paddings[0])})\n",
        "      else:\n",
        "        self.conv_od.update({f'conv{i + 1}': nn.Conv2d(in_channels=channels[i - 1],out_channels=c,\n",
        "                                                       kernel_size=kernel_sizes[i], stride = strides[i], padding=paddings[i])})\n",
        "      self.shapes.append((c, self.shapes[-1][1]//strides[i], self.shapes[-1][2]//strides[i]))\n",
        "      # add activation function\n",
        "      self.conv_od.update({f'conv_act{i + 1}': activation_function()})\n",
        "\n",
        "    ## Create a sequential layer\n",
        "    self.conv_layers = nn.Sequential(self.conv_od)\n",
        "\n",
        "\n",
        "    ### Flatten\n",
        "\n",
        "    self.flatten = nn.Flatten(start_dim=1)\n",
        "    self.shapes.append(np.product(self.shapes[-1]))\n",
        "\n",
        "\n",
        "    ### Linear fc layers\n",
        "\n",
        "    ## Create ordered dictionary with the layers\n",
        "    self.lin_od = OrderedDict([])\n",
        "    Nhs = [self.shapes[-1]] + Nhs\n",
        "    for i in range(1,len(Nhs)):\n",
        "      # add linear layer\n",
        "      self.lin_od.update({f'lin{i}': nn.Linear(in_features=Nhs[i - 1], out_features=Nhs[i])})\n",
        "      self.shapes.append(Nhs[i])\n",
        "\n",
        "      # add activation function\n",
        "      self.lin_od.update({f'lin_act{i}': activation_function()})\n",
        "\n",
        "    ## Create a sequential layer\n",
        "    self.lin_layers = nn.Sequential(self.lin_od)\n",
        "\n",
        "\n",
        "    ## Create the output layer\n",
        "    self.out = nn.Linear(in_features=Nhs[-1], out_features=No)\n",
        "    self.o_act = o_act\n",
        "\n",
        "    print('Network initialized')\n",
        "\n",
        "  def forward(self, x):\n",
        "    # apply convolutional layers\n",
        "    x = self.conv_layers(x)\n",
        "\n",
        "    # flatten\n",
        "    x = self.flatten(x)\n",
        "\n",
        "    # apply linear layers\n",
        "    x = self.lin_layers(x)\n",
        "\n",
        "    # output layer\n",
        "    x = self.o_act(self.out(x))\n",
        "    return x"
      ],
      "execution_count": null,
      "outputs": []
    },
    {
      "cell_type": "code",
      "metadata": {
        "id": "vj7WChjgMCmq"
      },
      "source": [
        "# testing\n",
        "channels = [8,16,32]\n",
        "kernel_sizes = [3,3,3]\n",
        "strides = [2,2,2]\n",
        "paddings = [1,1,0]\n",
        "\n",
        "Nhs = [128, 16]\n",
        "\n",
        "cnet = C_net(channels=channels, kernel_sizes=kernel_sizes, strides=strides, paddings=paddings,\n",
        "             Nhs=Nhs).to(device)\n",
        "\n",
        "optimizer = optim.Adam(cnet.parameters(),lr=0.001,weight_decay=1e-4)\n",
        "\n",
        "loss_function = nn.CrossEntropyLoss()\n",
        "\n",
        "train_batch_size = 256\n",
        "val_batch_size = 256\n",
        "\n",
        "patience = 10\n",
        "\n",
        "train_dataloader = DataLoader(train_dataset, batch_size=train_batch_size, shuffle=True, num_workers=0)\n",
        "val_dataloader = DataLoader(val_dataset, batch_size=val_batch_size, shuffle=False, num_workers=0)\n",
        "\n",
        "\n",
        "nature = Evolver_es(patience=patience,net=cnet,optimizer=optimizer,loss_function=loss_function,\n",
        "                    train_dataloader=train_dataloader,val_dataloader=val_dataloader, checkpoint=True)"
      ],
      "execution_count": null,
      "outputs": []
    },
    {
      "cell_type": "code",
      "metadata": {
        "id": "d62LzfAEEcis"
      },
      "source": [
        "nature.evolve(40,verbose= False)\n",
        "\n",
        "nature.plot_losses()"
      ],
      "execution_count": null,
      "outputs": []
    },
    {
      "cell_type": "markdown",
      "metadata": {
        "id": "UpcobXp3MNIp"
      },
      "source": [
        "### Test using MSE loss"
      ]
    },
    {
      "cell_type": "code",
      "metadata": {
        "id": "oGYNaywJ2rZZ"
      },
      "source": [
        "mse_test(nature, test_dataset)"
      ],
      "execution_count": null,
      "outputs": []
    },
    {
      "cell_type": "markdown",
      "metadata": {
        "id": "z01DDmGV2-Lc"
      },
      "source": [
        "### Test with accuracy and confusion matrix"
      ]
    },
    {
      "cell_type": "code",
      "metadata": {
        "id": "K49X4dQj2-Lf"
      },
      "source": [
        "cnet.o_act = nn.Identity()\n",
        "\n",
        "test_dataset.transform = train_transform\n",
        "test_dataloader = DataLoader(test_dataset,batch_size=256,shuffle=False,num_workers=0)\n",
        "\n",
        "net_outputs = np.array([])\n",
        "labels = np.array([])\n",
        "\n",
        "cnet.eval()\n",
        "with torch.no_grad():\n",
        "  for batch in test_dataloader:\n",
        "    out = torch.argmax(cnet(batch[0].to(device)), dim=1).cpu().numpy()\n",
        "    # print(out.shape)\n",
        "    label = batch[1].squeeze().cpu().numpy()\n",
        "\n",
        "    net_outputs = np.concatenate([net_outputs, out])\n",
        "    labels = np.concatenate([labels, label])\n",
        "\n",
        "net_outputs = np.array(net_outputs, dtype=int)\n",
        "labels = np.array(labels, dtype=int)"
      ],
      "execution_count": null,
      "outputs": []
    },
    {
      "cell_type": "code",
      "metadata": {
        "id": "-gc08GDI2-Lh"
      },
      "source": [
        "evaluate_net(cnet, test_dataset)"
      ],
      "execution_count": null,
      "outputs": []
    },
    {
      "cell_type": "markdown",
      "metadata": {
        "id": "7aNnaReKMWuC"
      },
      "source": [
        "### Visualizing the net"
      ]
    },
    {
      "cell_type": "markdown",
      "metadata": {
        "id": "JYVwLW1nMkZw"
      },
      "source": [
        "#### input that maximally activates a neuron"
      ]
    },
    {
      "cell_type": "code",
      "metadata": {
        "colab": {
          "base_uri": "https://localhost:8080/"
        },
        "id": "TrjgkS-hNbnm",
        "outputId": "c0a42969-fea9-425c-8d6b-706b684063ae"
      },
      "source": [
        "print(cnet)"
      ],
      "execution_count": null,
      "outputs": [
        {
          "output_type": "stream",
          "text": [
            "C_net(\n",
            "  (conv_layers): Sequential(\n",
            "    (conv1): Conv2d(1, 8, kernel_size=(3, 3), stride=(2, 2), padding=(1, 1))\n",
            "    (conv_act1): ReLU()\n",
            "    (conv2): Conv2d(8, 16, kernel_size=(3, 3), stride=(2, 2), padding=(1, 1))\n",
            "    (conv_act2): ReLU()\n",
            "    (conv3): Conv2d(16, 32, kernel_size=(3, 3), stride=(2, 2))\n",
            "    (conv_act3): ReLU()\n",
            "  )\n",
            "  (flatten): Flatten(start_dim=1, end_dim=-1)\n",
            "  (lin_layers): Sequential(\n",
            "    (lin1): Linear(in_features=288, out_features=128, bias=True)\n",
            "    (lin_act1): ReLU()\n",
            "    (lin2): Linear(in_features=128, out_features=16, bias=True)\n",
            "    (lin_act2): ReLU()\n",
            "  )\n",
            "  (out): Linear(in_features=16, out_features=10, bias=True)\n",
            "  (o_act): Identity()\n",
            ")\n"
          ],
          "name": "stdout"
        }
      ]
    },
    {
      "cell_type": "code",
      "metadata": {
        "id": "f0iFTbuUAzrH"
      },
      "source": [
        "nm = NeuronMaximizer(cnet, cnet.out, 5, optimizer_params={'lr':0.1, 'weight_decay':0.01})\n",
        "nm.optimize(iterations=80)"
      ],
      "execution_count": null,
      "outputs": []
    },
    {
      "cell_type": "code",
      "metadata": {
        "id": "JDx16CkRNgf_"
      },
      "source": [
        "y = torch.softmax(cnet(torch.sigmoid(nm.input_img).unsqueeze(0)), dim=1)\n",
        "\n",
        "y = y.squeeze().detach().cpu().numpy()\n",
        "\n",
        "for i,yv in enumerate(y):\n",
        "  print(f'{i}: {yv}')"
      ],
      "execution_count": null,
      "outputs": []
    },
    {
      "cell_type": "markdown",
      "metadata": {
        "id": "RNSpRr_6UyHa"
      },
      "source": [
        "#### Feature space analysis"
      ]
    },
    {
      "cell_type": "code",
      "metadata": {
        "colab": {
          "base_uri": "https://localhost:8080/",
          "height": 282
        },
        "id": "EgThFlQoQRy3",
        "outputId": "04551464-e068-40cc-b123-d6369fbccb6c"
      },
      "source": [
        "idx = 56\n",
        "\n",
        "pic = test_dataset[idx][0].unsqueeze(0).to(device)\n",
        "\n",
        "plt.figure()\n",
        "plt.imshow(np.array(pic.squeeze().cpu()), cmap='gist_gray')"
      ],
      "execution_count": null,
      "outputs": [
        {
          "output_type": "execute_result",
          "data": {
            "text/plain": [
              "<matplotlib.image.AxesImage at 0x7f98571e2b20>"
            ]
          },
          "metadata": {
            "tags": []
          },
          "execution_count": 102
        },
        {
          "output_type": "display_data",
          "data": {
            "text/plain": [
              "<Figure size 432x288 with 1 Axes>"
            ],
            "image/png": "[encoded data removed]"
          },
          "metadata": {
            "tags": [],
            "needs_background": "light"
          }
        }
      ]
    },
    {
      "cell_type": "code",
      "metadata": {
        "colab": {
          "base_uri": "https://localhost:8080/"
        },
        "id": "ZtnXCgjrVhjZ",
        "outputId": "42783cc8-1a9d-4857-e349-101ac8adf2c0"
      },
      "source": [
        "print(cnet)"
      ],
      "execution_count": null,
      "outputs": [
        {
          "output_type": "stream",
          "text": [
            "C_net(\n",
            "  (conv_layers): Sequential(\n",
            "    (conv1): Conv2d(1, 8, kernel_size=(3, 3), stride=(2, 2), padding=(1, 1))\n",
            "    (conv_act1): ReLU()\n",
            "    (conv2): Conv2d(8, 16, kernel_size=(3, 3), stride=(2, 2), padding=(1, 1))\n",
            "    (conv_act2): ReLU()\n",
            "    (conv3): Conv2d(16, 32, kernel_size=(3, 3), stride=(2, 2))\n",
            "    (conv_act3): ReLU()\n",
            "  )\n",
            "  (flatten): Flatten(start_dim=1, end_dim=-1)\n",
            "  (lin_layers): Sequential(\n",
            "    (lin1): Linear(in_features=288, out_features=128, bias=True)\n",
            "    (lin_act1): ReLU()\n",
            "    (lin2): Linear(in_features=128, out_features=16, bias=True)\n",
            "    (lin_act2): ReLU()\n",
            "  )\n",
            "  (out): Linear(in_features=16, out_features=10, bias=True)\n",
            "  (o_act): Softmax(dim=None)\n",
            ")\n"
          ],
          "name": "stdout"
        }
      ]
    },
    {
      "cell_type": "code",
      "metadata": {
        "id": "SqBh5X-VWRT0"
      },
      "source": [
        "def get_acts(layer, input, output):\n",
        "  print(layer)\n",
        "  acts.append(output)\n",
        "\n",
        "hook_handles = []\n",
        "\n",
        "layer = cnet.conv_layers.conv_act1\n",
        "hook_handles.append(layer.register_forward_hook(get_acts))\n",
        "# hook_handles.append(cnet.conv_layers.conv_act2.register_forward_hook(get_activation))\n",
        "# hook_handles.append(cnet.conv_layers.conv_act3.register_forward_hook(get_activation))"
      ],
      "execution_count": null,
      "outputs": []
    },
    {
      "cell_type": "code",
      "metadata": {
        "id": "8Gg0eCBRXW3q"
      },
      "source": [
        "def plot_nchw_data(data, h_num=None, v_num=None, title=None):\n",
        "    shape = data.shape\n",
        "    data = data.reshape(shape[0]*shape[1], shape[2], shape[3])\n",
        "    if h_num is None or v_num is None:\n",
        "      n = shape[0]*shape[1]\n",
        "      h_num = int(np.sqrt(n)) + 1\n",
        "      v_num = n//h_num + 1\n",
        "    # print(h_num, v_num)\n",
        "    fig, axs = plt.subplots(v_num, h_num, figsize=(h_num,v_num))\n",
        "    for idx, ax in enumerate(axs.flatten()):\n",
        "        ax.set_xticks([])\n",
        "        ax.set_yticks([])\n",
        "        if idx < len(data):\n",
        "            ax.imshow(data[idx,:,:], cmap='gray')\n",
        "    plt.suptitle(title)\n",
        "    plt.tight_layout(rect=[0, 0, 1, 0.97], h_pad=0, w_pad=0)\n",
        "    plt.show()"
      ],
      "execution_count": null,
      "outputs": []
    },
    {
      "cell_type": "code",
      "metadata": {
        "id": "eBTmeeM6JB0G"
      },
      "source": [
        "for a in acts:\n",
        "  print(a.size())"
      ],
      "execution_count": null,
      "outputs": []
    },
    {
      "cell_type": "code",
      "metadata": {
        "id": "H_jM_JT9WlCM"
      },
      "source": [
        "# Evaluate output\n",
        "cnet.eval()\n",
        "with torch.no_grad():\n",
        "    acts = []\n",
        "    out = cnet(pic)\n",
        "\n",
        "# Analyze intermediate outputs\n",
        "for layer_num, act in enumerate(acts):\n",
        "    act = act.cpu().data.numpy()\n",
        "    # Plot\n",
        "    plot_nchw_data(act, title='Layer %d convolutional kernels' % (layer_num + 1))"
      ],
      "execution_count": null,
      "outputs": []
    },
    {
      "cell_type": "code",
      "metadata": {
        "id": "zgY1FatYW-jw"
      },
      "source": [
        "for hook_handle in hook_handles:\n",
        "  hook_handle.remove()"
      ],
      "execution_count": null,
      "outputs": []
    },
    {
      "cell_type": "markdown",
      "metadata": {
        "id": "fwbTeP7ylqjX"
      },
      "source": [
        "### Advanced methods"
      ]
    },
    {
      "cell_type": "markdown",
      "metadata": {
        "id": "GMeGJqNSlzj9"
      },
      "source": [
        "#### Dropout"
      ]
    },
    {
      "cell_type": "code",
      "metadata": {
        "id": "W9p8NKh7lzPH"
      },
      "source": [
        "class DC_net(C_net):\n",
        "  '''\n",
        "  Adds a Dropout layer before every hidden fully connected layer\n",
        "  '''\n",
        "\n",
        "  def __init__(self, *args, dropouts_probabilities=[], **kwargs):\n",
        "    super().__init__(**kwargs)\n",
        "    \n",
        "    self.d_od = OrderedDict()\n",
        "\n",
        "    i = 0\n",
        "    for k,l in self.lin_od.items():\n",
        "      if not k.startswith('lin_act') and i < len(dropouts_probabilities):\n",
        "        self.d_od.update({f'dropout{i+1}': nn.Dropout(dropouts_probabilities[i])})\n",
        "        i += 1\n",
        "      self.d_od.update({k: l})\n",
        "\n",
        "    self.lin_layers = nn.Sequential(self.d_od)"
      ],
      "execution_count": null,
      "outputs": []
    },
    {
      "cell_type": "code",
      "metadata": {
        "colab": {
          "base_uri": "https://localhost:8080/"
        },
        "id": "yOTQSBC8pW2O",
        "outputId": "ea8020a8-9c8c-4600-8e93-59ae09ee87d2"
      },
      "source": [
        "channels = [8,16,32]\n",
        "kernel_sizes = [3,3,3]\n",
        "strides = [2,2,2]\n",
        "paddings = [1,1,0]\n",
        "\n",
        "dropout_probabilities = [0.5,0.5]\n",
        "Nhs = [128, 16]\n",
        "\n",
        "dnet = DC_net(dropouts_probabilities=dropout_probabilities,channels=channels, kernel_sizes=kernel_sizes, strides=strides, paddings=paddings,\n",
        "             Nhs=Nhs).to(device)\n",
        "\n",
        "print(dnet)\n",
        "\n",
        "optimizer = optim.Adam(dnet.parameters(),lr=0.001,weight_decay=1e-4)\n",
        "\n",
        "loss_function = nn.CrossEntropyLoss()\n",
        "\n",
        "train_batch_size = 256\n",
        "val_batch_size = 256\n",
        "\n",
        "patience = 10\n",
        "\n",
        "train_dataloader = DataLoader(train_dataset, batch_size=train_batch_size, shuffle=True, num_workers=0)\n",
        "val_dataloader = DataLoader(val_dataset, batch_size=val_batch_size, shuffle=False, num_workers=0)\n",
        "\n",
        "\n",
        "nature = Evolver_es(patience=patience,net=dnet,optimizer=optimizer,loss_function=loss_function,\n",
        "                    train_dataloader=train_dataloader,val_dataloader=val_dataloader, checkpoint=True)"
      ],
      "execution_count": null,
      "outputs": [
        {
          "output_type": "stream",
          "text": [
            "Network initialized\n",
            "DC_net(\n",
            "  (conv_layers): Sequential(\n",
            "    (conv1): Conv2d(1, 8, kernel_size=(3, 3), stride=(2, 2), padding=(1, 1))\n",
            "    (conv_act1): ReLU()\n",
            "    (conv2): Conv2d(8, 16, kernel_size=(3, 3), stride=(2, 2), padding=(1, 1))\n",
            "    (conv_act2): ReLU()\n",
            "    (conv3): Conv2d(16, 32, kernel_size=(3, 3), stride=(2, 2))\n",
            "    (conv_act3): ReLU()\n",
            "  )\n",
            "  (flatten): Flatten(start_dim=1, end_dim=-1)\n",
            "  (lin_layers): Sequential(\n",
            "    (dropout1): Dropout(p=0.5, inplace=False)\n",
            "    (lin1): Linear(in_features=288, out_features=128, bias=True)\n",
            "    (lin_act1): ReLU()\n",
            "    (dropout2): Dropout(p=0.5, inplace=False)\n",
            "    (lin2): Linear(in_features=128, out_features=16, bias=True)\n",
            "    (lin_act2): ReLU()\n",
            "  )\n",
            "  (out): Linear(in_features=16, out_features=10, bias=True)\n",
            "  (o_act): Identity()\n",
            ")\n"
          ],
          "name": "stdout"
        }
      ]
    },
    {
      "cell_type": "code",
      "metadata": {
        "id": "0NSqlW-xsMl-"
      },
      "source": [
        "nature.evolve(100,verbose= False)\n",
        "\n",
        "nature.plot_losses()"
      ],
      "execution_count": null,
      "outputs": []
    },
    {
      "cell_type": "code",
      "metadata": {
        "id": "2F3Xp7F5wCf1"
      },
      "source": [
        "mse_test(nature, test_dataset)"
      ],
      "execution_count": null,
      "outputs": []
    },
    {
      "cell_type": "code",
      "metadata": {
        "id": "MgP845IPsoWE"
      },
      "source": [
        "evaluate_net(dnet,test_dataset)"
      ],
      "execution_count": null,
      "outputs": []
    },
    {
      "cell_type": "code",
      "metadata": {
        "id": "fJKcMdtltJEa"
      },
      "source": [
        "dnet.eval()\n",
        "nm = NeuronMaximizer(dnet,dnet.out,9,optimizer_params={'lr': 0.1, 'weight_decay': 0.01})\n",
        "nm.optimize(100)"
      ],
      "execution_count": null,
      "outputs": []
    },
    {
      "cell_type": "code",
      "metadata": {
        "id": "3QynxO98uu33"
      },
      "source": [
        "y = torch.softmax(dnet(torch.sigmoid(nm.input_img).unsqueeze(0)), dim=1)\n",
        "\n",
        "y = y.squeeze().detach().cpu().numpy()\n",
        "\n",
        "for i,yv in enumerate(y):\n",
        "  print(f'{i}: {yv}')"
      ],
      "execution_count": null,
      "outputs": []
    },
    {
      "cell_type": "markdown",
      "metadata": {
        "id": "-VGVkw4IOaL-"
      },
      "source": [
        "#### Perlin noise"
      ]
    },
    {
      "cell_type": "code",
      "metadata": {
        "colab": {
          "base_uri": "https://localhost:8080/",
          "height": 282
        },
        "id": "VHKyHExuOhlj",
        "outputId": "585e65fa-a668-4ea0-a3c9-6612f8a4cc11"
      },
      "source": [
        "pic = np.zeros((28,28))\n",
        "\n",
        "x_t = np.random.uniform(0, 1024)\n",
        "y_t = np.random.uniform(0, 1024)\n",
        "\n",
        "for i,row in enumerate(pic):\n",
        "  for j, pixel in enumerate(row):\n",
        "    pic[i,j] = noise.pnoise2(i/28 + x_t,j/28 + y_t, octaves=8, persistence=0.5, lacunarity=2)\n",
        "plt.figure()\n",
        "plt.imshow(pic, cmap='gist_gray')\n",
        "plt.colorbar()"
      ],
      "execution_count": null,
      "outputs": [
        {
          "output_type": "execute_result",
          "data": {
            "text/plain": [
              "<matplotlib.colorbar.Colorbar at 0x7f2a58ea2e20>"
            ]
          },
          "metadata": {
            "tags": []
          },
          "execution_count": 49
        },
        {
          "output_type": "display_data",
          "data": {
            "text/plain": [
              "<Figure size 432x288 with 2 Axes>"
            ],
            "image/png": "[encoded data removed]"
          },
          "metadata": {
            "tags": [],
            "needs_background": "light"
          }
        }
      ]
    },
    {
      "cell_type": "code",
      "metadata": {
        "id": "oiBMei1ZRftU"
      },
      "source": [
        "class Perlin():\n",
        "  def __init__(self, shape=(28,28), p=0.1, saturation=10, pnoise_kwargs={'octaves': 8, 'persistence': 0.5, 'lacunarity': 2}):\n",
        "    self.shape = shape\n",
        "    self.p = p\n",
        "    self.saturation = saturation\n",
        "    self.pnoise_kwargs = pnoise_kwargs\n",
        "    self.vpnoise = np.vectorize(self._vpnoise)\n",
        "    self.x = None\n",
        "    self.y = None\n",
        "    self.x,self.y = np.meshgrid(np.arange(self.shape[0])/self.shape[0], np.arange(self.shape[0])/self.shape[0])\n",
        "    self.x = self.x.flatten()\n",
        "    self.y = self.y.flatten()\n",
        "\n",
        "  def _vpnoise(self,x,y):\n",
        "    return noise.pnoise2(x,y,**self.pnoise_kwargs)\n",
        "\n",
        "  def create_image(self):\n",
        "    x_t = np.random.uniform(0,1024)\n",
        "    y_t = np.random.uniform(0,1024)\n",
        "\n",
        "    img = self.vpnoise(self.x + x_t, self.y + y_t).reshape(self.shape)\n",
        "\n",
        "    # convert to tensor\n",
        "    img = torch.tensor(img).float().unsqueeze(0)\n",
        "    #saturate the image\n",
        "    img = torch.sigmoid(self.saturation*img)\n",
        "    return img\n",
        "\n",
        "  def __call__(self,sample):\n",
        "    if np.random.uniform(0,1) < self.p:\n",
        "      sample = (self.create_image(), 10)\n",
        "\n",
        "    else:\n",
        "      pic, label = sample\n",
        "      pic = transforms.ToTensor()(pic)\n",
        "      sample = (pic, label)\n",
        "\n",
        "    return sample"
      ],
      "execution_count": null,
      "outputs": []
    },
    {
      "cell_type": "code",
      "metadata": {
        "id": "PRuNAqoKVq-L"
      },
      "source": [
        "pe = Perlin(saturation=20)"
      ],
      "execution_count": null,
      "outputs": []
    },
    {
      "cell_type": "code",
      "metadata": {
        "colab": {
          "base_uri": "https://localhost:8080/",
          "height": 286
        },
        "id": "bd7W3CdJVu0i",
        "outputId": "75269f4a-d03d-44f9-cc69-23dc271b1138"
      },
      "source": [
        "plt.figure()\n",
        "plt.imshow(pe.create_image().squeeze().numpy(), cmap='gist_gray', vmin=0, vmax=1)\n",
        "plt.colorbar()"
      ],
      "execution_count": null,
      "outputs": [
        {
          "output_type": "execute_result",
          "data": {
            "text/plain": [
              "<matplotlib.colorbar.Colorbar at 0x7f985477e940>"
            ]
          },
          "metadata": {
            "tags": []
          },
          "execution_count": 278
        },
        {
          "output_type": "display_data",
          "data": {
            "text/plain": [
              "<Figure size 432x288 with 2 Axes>"
            ],
            "image/png": "[encoded data removed]"
          },
          "metadata": {
            "tags": [],
            "needs_background": "light"
          }
        }
      ]
    },
    {
      "cell_type": "code",
      "metadata": {
        "colab": {
          "base_uri": "https://localhost:8080/"
        },
        "id": "pIVZayMEdcPN",
        "outputId": "00188a07-1527-4659-98cb-a23e8cd9e491"
      },
      "source": [
        "perlin_transform = transforms.Compose([\n",
        "                                    Perlin(saturation=20, p=0.09), \n",
        "])\n",
        "\n",
        "train_dataset.transform = perlin_transform\n",
        "\n",
        "channels = [8,16,32]\n",
        "kernel_sizes = [3,3,3]\n",
        "strides = [2,2,2]\n",
        "paddings = [1,1,0]\n",
        "dropout_probabilities = [0.5,0.5]\n",
        "\n",
        "Nhs = [128, 16]\n",
        "\n",
        "pnet = DC_net(channels=channels, kernel_sizes=kernel_sizes, strides=strides, paddings=paddings,\n",
        "             Nhs=Nhs, No=11, dropouts_probabilities=dropout_probabilities).to(device)\n",
        "\n",
        "print(pnet)\n",
        "\n",
        "optimizer = optim.Adam(pnet.parameters(),lr=0.001,weight_decay=0.0001)\n",
        "\n",
        "loss_function = nn.CrossEntropyLoss()\n",
        "\n",
        "train_batch_size = 256\n",
        "val_batch_size = 256\n",
        "\n",
        "patience = 40\n",
        "\n",
        "train_dataloader = DataLoader(train_dataset, batch_size=train_batch_size, shuffle=True, num_workers=0)\n",
        "val_dataloader = DataLoader(val_dataset, batch_size=val_batch_size, shuffle=False, num_workers=0)\n",
        "\n",
        "\n",
        "nature = Evolver_es(patience=patience,net=pnet,optimizer=optimizer,loss_function=loss_function,\n",
        "                    train_dataloader=train_dataloader,val_dataloader=val_dataloader, checkpoint=True)"
      ],
      "execution_count": null,
      "outputs": [
        {
          "output_type": "stream",
          "text": [
            "Network initialized\n",
            "DC_net(\n",
            "  (conv_layers): Sequential(\n",
            "    (conv1): Conv2d(1, 8, kernel_size=(3, 3), stride=(2, 2), padding=(1, 1))\n",
            "    (conv_act1): ReLU()\n",
            "    (conv2): Conv2d(8, 16, kernel_size=(3, 3), stride=(2, 2), padding=(1, 1))\n",
            "    (conv_act2): ReLU()\n",
            "    (conv3): Conv2d(16, 32, kernel_size=(3, 3), stride=(2, 2))\n",
            "    (conv_act3): ReLU()\n",
            "  )\n",
            "  (flatten): Flatten(start_dim=1, end_dim=-1)\n",
            "  (lin_layers): Sequential(\n",
            "    (dropout1): Dropout(p=0.5, inplace=False)\n",
            "    (lin1): Linear(in_features=288, out_features=128, bias=True)\n",
            "    (lin_act1): ReLU()\n",
            "    (dropout2): Dropout(p=0.5, inplace=False)\n",
            "    (lin2): Linear(in_features=128, out_features=16, bias=True)\n",
            "    (lin_act2): ReLU()\n",
            "  )\n",
            "  (out): Linear(in_features=16, out_features=11, bias=True)\n",
            "  (o_act): Identity()\n",
            ")\n"
          ],
          "name": "stdout"
        }
      ]
    },
    {
      "cell_type": "code",
      "metadata": {
        "colab": {
          "base_uri": "https://localhost:8080/",
          "height": 581,
          "referenced_widgets": [
            "e9b2d674275b4093b7fbe47de3dde4de",
            "b7712b514e5049a399ffbb4525d39264",
            "f3ef8f691ac14545b510f0058dff7cd0",
            "4c8fb2230421402f95abbcc4c5882979",
            "eb7b191fee2e40f291ce8b6ca2150fe4",
            "ce9352049a844f748ce16912d704747f",
            "90c3a0f4ccb44b25b9aceeeb631cb9aa",
            "905001d300e4499f9284c0adb85c9a69",
            "500fb2592584478c9f37cedbd1028433",
            "74c496e86bef49e98fc57ed92fb6bc3f",
            "fa1b3cc21787430db8f08aa3cc09e583"
          ]
        },
        "id": "jsTtCiawemVS",
        "outputId": "4cfbc040-15d4-4f56-b914-008fe7ff233b"
      },
      "source": [
        "nature.evolve(200,verbose= False)\n",
        "\n",
        "nature.plot_losses()"
      ],
      "execution_count": null,
      "outputs": [
        {
          "output_type": "display_data",
          "data": {
            "text/plain": [
              "HBox(children=(HTML(value=''), FloatProgress(value=0.0, max=200.0), HTML(value='')))"
            ],
            "application/vnd.jupyter.widget-view+json": {
              "version_major": 2,
              "version_minor": 0,
              "model_id": "e9b2d674275b4093b7fbe47de3dde4de"
            }
          },
          "metadata": {
            "tags": []
          }
        },
        {
          "output_type": "stream",
          "text": [
            "\n"
          ],
          "name": "stdout"
        },
        {
          "output_type": "display_data",
          "data": {
            "text/plain": [
              "<Figure size 864x576 with 1 Axes>"
            ],
            "image/png": "[encoded data removed]"
          },
          "metadata": {
            "tags": [],
            "needs_background": "light"
          }
        },
        {
          "output_type": "stream",
          "text": [
            "Average traininig  loss in the last 10 epochs: 0.0580\n",
            "Average validation loss in the last 10 epochs: 0.0421\n"
          ],
          "name": "stdout"
        }
      ]
    },
    {
      "cell_type": "code",
      "metadata": {
        "id": "jv0LpgB-vqK2"
      },
      "source": [
        "mse_test(nature, test_dataset)"
      ],
      "execution_count": null,
      "outputs": []
    },
    {
      "cell_type": "code",
      "metadata": {
        "colab": {
          "base_uri": "https://localhost:8080/"
        },
        "id": "8ZWt61LTvp5e",
        "outputId": "6513474a-da7b-4167-9973-152cd1454ee9"
      },
      "source": [
        "evaluate_net(pnet,test_dataset)"
      ],
      "execution_count": null,
      "outputs": [
        {
          "output_type": "execute_result",
          "data": {
            "text/plain": [
              "(     0     1     2     3    4    5    6     7    8    9\n",
              " 0  975     1     0     0    1    0    1     1    1    0\n",
              " 1    0  1130     1     1    0    0    2     1    0    0\n",
              " 2    1     0  1025     1    0    0    1     3    1    0\n",
              " 3    0     0     1  1002    0    2    0     1    4    0\n",
              " 4    0     0     0     0  977    0    1     0    0    4\n",
              " 5    3     0     0     6    0  880    2     0    1    0\n",
              " 6    5     3     0     0    1    4  943     0    2    0\n",
              " 7    0     1     4     0    1    0    0  1018    1    3\n",
              " 8    1     0     2     1    0    0    0     3  963    4\n",
              " 9    2     2     0     1    6    5    0     7    1  985,\n",
              " 0.9898)"
            ]
          },
          "metadata": {
            "tags": []
          },
          "execution_count": 119
        }
      ]
    },
    {
      "cell_type": "code",
      "metadata": {
        "id": "hIgl_2kHvpOr"
      },
      "source": [
        "pnet.eval()\n",
        "nm = NeuronMaximizer(pnet,pnet.out,10,optimizer_params={'lr': 0.1, 'weight_decay': 0.01})\n",
        "nm.optimize(100)"
      ],
      "execution_count": null,
      "outputs": []
    },
    {
      "cell_type": "code",
      "metadata": {
        "id": "UXHxaO8Qv9Yy"
      },
      "source": [
        "y = torch.softmax(pnet(torch.sigmoid(nm.input_img).unsqueeze(0)), dim=1)\n",
        "\n",
        "y = y.squeeze().detach().cpu().numpy()\n",
        "\n",
        "for i,yv in enumerate(y):\n",
        "  print(f'{i}: {yv}')"
      ],
      "execution_count": null,
      "outputs": []
    },
    {
      "cell_type": "markdown",
      "metadata": {
        "id": "5VgubBx7liA_"
      },
      "source": [
        "This approach is interesting, but networks are very slow to train"
      ]
    },
    {
      "cell_type": "markdown",
      "metadata": {
        "id": "FYcMDVeAKF_S"
      },
      "source": [
        "## K fold"
      ]
    },
    {
      "cell_type": "code",
      "metadata": {
        "id": "fhHE6Kcw2lOK"
      },
      "source": [
        "class KFoldCrossValidator(object):\n",
        "  '''\n",
        "  Performs a k fold cross validation on a specific set of hyperparameters\n",
        "\n",
        "  Args:\n",
        "    k: int, number of folds\n",
        "    n_runs: int or None: if n_runs < k, only the first n_runs will be performed.\n",
        "            This is a quick workaround to speed up the hyperparameter optimization process\n",
        "    shuffle: bool: if true data is shuffled before the splitting in k folds\n",
        "    all_train_dataset: Dataset with train and validation data that will be split in folds\n",
        "\n",
        "    net_type: user defined class\n",
        "    net_params: dictionary or list of the arguments for net_type.__init__\n",
        "\n",
        "    optimizer_type: e.g. optim.Adam\n",
        "    optimizer_params: dictionary or list of the arguments of the optimizer (except net.parameters())\n",
        "\n",
        "    loss_function\n",
        "    train_batch_size: int, default 256\n",
        "\n",
        "    evolver_type: e.g. Evolver or Evolver_es\n",
        "    evolver_additional_params: dictionary with additional parameters for the evolver,\n",
        "      e.g. if evolver_type = Evolver_es, the additional parameter 'patience' must be provided\n",
        "  '''\n",
        "\n",
        "  def __init__(self, k, n_runs=None, shuffle=False, all_train_dataset=None, net_type=None, net_params=None,\n",
        "               optimizer_type=None, optimizer_params=None, loss_function=None,\n",
        "               train_batch_size=256, evolver_type=None, evolver_additional_params={}):\n",
        "\n",
        "    self.splitter = KFold(k,shuffle=shuffle)\n",
        "\n",
        "    self.all_train_dataset = all_train_dataset\n",
        "\n",
        "    self.net_type = net_type\n",
        "    self.net_params = net_params\n",
        "    self.optimizer_type = optimizer_type\n",
        "    self.optimizer_params = optimizer_params\n",
        "\n",
        "    self.train_batch_size = train_batch_size\n",
        "\n",
        "    self.loss_function = loss_function\n",
        "\n",
        "    self.evolver_type = evolver_type\n",
        "    self.evolver_additional_params = evolver_additional_params\n",
        "\n",
        "    self.evolvers = []\n",
        "\n",
        "    # set up the object with k (or n_runs) evolvers\n",
        "    i = 0\n",
        "    for train_idx, val_idx in self.splitter.split(list(range(len(self.all_train_dataset)))):\n",
        "      # datasets\n",
        "      train_dataset = Subset(self.all_train_dataset, train_idx)\n",
        "      val_dataset = Subset(self.all_train_dataset, val_idx)\n",
        "\n",
        "      # dataloaders\n",
        "      train_dataloader = DataLoader(train_dataset, batch_size=train_batch_size, shuffle=True, num_workers=0)\n",
        "      val_dataloader = DataLoader(val_dataset, batch_size=256, shuffle=False, num_workers=0)\n",
        "\n",
        "      # net\n",
        "      if type(self.net_params) == dict:\n",
        "        net = self.net_type(**self.net_params)\n",
        "      else:\n",
        "        net = self.net_type(*self.net_params)\n",
        "\n",
        "      # optimizer\n",
        "      if type(self.optimizer_params) == dict:\n",
        "        optimizer = self.optimizer_type(net.parameters(),**self.optimizer_params)\n",
        "      else:\n",
        "        optimizer = self.optimizer_type(net.parameters(),*self.optimizer_params)\n",
        "\n",
        "      # evolver\n",
        "      evolver = self.evolver_type(net=net,optimizer=optimizer,loss_function=loss_function,\n",
        "                                  train_dataloader=train_dataloader,val_dataloader=val_dataloader, **self.evolver_additional_params)\n",
        "\n",
        "      self.evolvers.append(evolver)\n",
        "\n",
        "      i += 1\n",
        "      if n_runs is not None and i >= n_runs:\n",
        "        break\n",
        "\n",
        "\n",
        "  def run(self,num_epochs,loss_sample_size=10, prune_thr=None):\n",
        "    '''\n",
        "    Args:\n",
        "      num_epochs: maximum number of epochs for each fold\n",
        "      loss_sample_size: number of epochs for computing the average train and val losses, default 10\n",
        "      prune_thr: folat or None: if one of the final validation losses is > prune thr, the run is interrupted raising a ValueError\n",
        "    '''\n",
        "    for k,evolver in enumerate(self.evolvers):\n",
        "      # move the net to the GPU\n",
        "      evolver.net.to(device)\n",
        "      evolver.evolve(num_epochs)\n",
        "      # move the net back to free the GPU\n",
        "      evolver.net.cpu()\n",
        "      if prune_thr is not None and k < len(self.evolvers)/2 and evolver.val_loss_log[-1] > prune_thr:\n",
        "        print(f'Trial pruned: val loss was {evolver.val_loss_log[-1]}')\n",
        "        raise ValueError\n",
        "\n",
        "\n",
        "      # print avg train and val loss\n",
        "      print(np.mean(evolver.train_loss_log[-loss_sample_size:]), np.mean(evolver.val_loss_log[-loss_sample_size:]))\n",
        "\n",
        "    avg_train_loss = np.mean([np.mean(e.train_loss_log[-loss_sample_size:]) for e in self.evolvers])\n",
        "    avg_val_loss   = np.mean([np.mean(e.val_loss_log[-loss_sample_size:]) for e in self.evolvers])\n",
        "    \n",
        "    return avg_train_loss, avg_val_loss\n",
        "    \n",
        "\n",
        "  def view(self,idx):\n",
        "    '''\n",
        "    Plot losses and net output\n",
        "    Args:\n",
        "      idx: int in [0, k) or 'best', index of the evolver to view\n",
        "    '''\n",
        "    if idx == 'best':\n",
        "      idx = np.argmin([e.best_vl for e in self.evolvers])\n",
        "      print(f'Best evolver is number {idx} with minimum validation loss {self.evolvers[idx].best_vl}')\n",
        "\n",
        "    self.evolvers[idx].plot_losses()"
      ],
      "execution_count": null,
      "outputs": []
    },
    {
      "cell_type": "code",
      "metadata": {
        "id": "YOW8RPFCNj4G"
      },
      "source": [
        "### testing\n",
        "\n",
        "k = 3\n",
        "\n",
        "# net params\n",
        "net_type = DC_net\n",
        "\n",
        "net_params = {'channels': [8,16,32], 'kernel_sizes': [3,3,3], 'strides': [2,2,2], 'paddings': [1,1,0],\n",
        "              'dropouts_probabilities': [0.5,0.5], 'Nhs': [128, 16]}\n",
        "\n",
        "# optimizer params\n",
        "optimizer_type = optim.Adam\n",
        "optimizer_params = {'lr': 0.001}\n",
        "\n",
        "loss_function = nn.CrossEntropyLoss()\n",
        "\n",
        "train_batch_size = 256\n",
        "\n",
        "evolver_type = Evolver_es\n",
        "evolver_additional_params = {'patience': 10}\n",
        "\n",
        "\n",
        "# KFold\n",
        "\n",
        "kf = KFoldCrossValidator(k, shuffle=True, all_train_dataset=all_train_dataset, net_type=net_type, net_params=net_params,\n",
        "                         optimizer_type=optimizer_type, optimizer_params=optimizer_params, loss_function=loss_function,\n",
        "                         train_batch_size=train_batch_size, evolver_type=evolver_type, evolver_additional_params=evolver_additional_params)\n",
        "\n",
        "kf.run(100)"
      ],
      "execution_count": null,
      "outputs": []
    },
    {
      "cell_type": "markdown",
      "metadata": {
        "id": "68fgasuLcKGL"
      },
      "source": [
        "## Hyperparameter optimization with optuna"
      ]
    },
    {
      "cell_type": "code",
      "metadata": {
        "id": "UxSBw91du72k"
      },
      "source": [
        "global df\n",
        "df = None"
      ],
      "execution_count": null,
      "outputs": []
    },
    {
      "cell_type": "code",
      "metadata": {
        "id": "3bDv-GJ8TT0n"
      },
      "source": [
        "k = 5\n",
        "n_runs = 2\n",
        "\n",
        "name = 'classification/optuna_search3'\n",
        "\n",
        "if os.path.exists(f'{name}.csv'):\n",
        "  df = pd.read_csv(f'{name}.csv')\n",
        "\n",
        "net_type = DC_net\n",
        "optimizer_type = optim.Adam\n",
        "\n",
        "loss_function = nn.CrossEntropyLoss()\n",
        "\n",
        "train_batch_size = 256\n",
        "\n",
        "evolver_type = Evolver_es\n",
        "evolver_additional_params = {'patience': 10} # no checkpoint to speed up the training\n",
        "\n",
        "def objective(trial):\n",
        "\n",
        "  global df\n",
        "\n",
        "  # sample hypermarameters\n",
        "  \n",
        "  # convolutional layers part\n",
        "  n_c_layers = trial.suggest_int('ncl', 2, 4)\n",
        "  \n",
        "  channels = []\n",
        "  kernel_sizes = []\n",
        "  strides = []\n",
        "  paddings = []\n",
        "\n",
        "  for j in range(n_c_layers):\n",
        "    channels.append(trial.suggest_int(f'ch{j+1}', 4, 8*2**j))\n",
        "    kernel_sizes.append(trial.suggest_int(f'ks{j+1}', 2, 6))\n",
        "    strides.append(trial.suggest_int(f'stride{j+1}', 1, 4))\n",
        "    paddings.append(trial.suggest_int(f'padding{j+1}', 0, 1))\n",
        "\n",
        "\n",
        "  # linear layers part\n",
        "  p1 = trial.suggest_float('p1', 0, 0.7)\n",
        "  p2 = trial.suggest_float('p2', 0, 0.7)\n",
        "  Nh1 = trial.suggest_int('Nh1', 16, 256)\n",
        "  Nh2 = trial.suggest_int('Nh2', 4, 128)\n",
        "\n",
        "  # optimizer part\n",
        "  lr = trial.suggest_float('lr', 1e-5, 1e-1, log=True)\n",
        "  weight_decay = trial.suggest_float('weight_decay', 1e-7,1e-1, log=True)\n",
        "\n",
        "  net_params = {'channels': channels, 'kernel_sizes': kernel_sizes, 'strides': strides, 'paddings': paddings,\n",
        "              'dropouts_probabilities': [p1,p2], 'Nhs': [Nh1, Nh2]}\n",
        "  \n",
        "  optimizer_params = {'lr': lr, 'weight_decay': weight_decay}\n",
        "\n",
        "\n",
        "  start_time = time.time()\n",
        "  try:\n",
        "    kf = KFoldCrossValidator(k, n_runs=n_runs, shuffle=True, all_train_dataset=all_train_dataset, net_type=net_type, net_params=net_params,\n",
        "                          optimizer_type=optimizer_type, optimizer_params=optimizer_params, loss_function=loss_function,\n",
        "                          train_batch_size=train_batch_size, evolver_type=evolver_type, evolver_additional_params=evolver_additional_params)\n",
        "\n",
        "    avg_tr_loss, avg_val_loss = kf.run(100)\n",
        "  except KeyboardInterrupt:\n",
        "    raise KeyboardInterrupt\n",
        "  except:\n",
        "    raise optuna.TrialPruned() # to stop trials that produce invalid nets\n",
        "\n",
        "  \n",
        "  train_time = (time.time() - start_time)/(60*n_runs) # avg train time in minutes\n",
        "\n",
        "  print(f'{avg_tr_loss = }, {avg_val_loss = }, {train_time = } min')\n",
        "\n",
        "  # dictionary with all the hyperparameters and performance of the net\n",
        "  hyper_dict = dict(**net_params, **optimizer_params, **{'avg_tr_loss': avg_tr_loss, 'avg_val_loss': avg_val_loss, 'train_time': train_time})\n",
        "\n",
        "  if df is None:\n",
        "    df = pd.DataFrame([], columns=list(hyper_dict.keys()))\n",
        "\n",
        "  df.loc[len(df)] = hyper_dict\n",
        "\n",
        "  df.to_csv(f'{name}.csv', index=False)\n",
        "\n",
        "  # add a time penalty as regularizer\n",
        "  time_penalty = 1e-5\n",
        "\n",
        "  return np.mean([e.best_vl for e in kf.evolvers]) + time_penalty*train_time\n",
        "\n",
        "\n",
        "study = optuna.create_study(study_name=name, storage=f'sqlite:///{name}.db', load_if_exists=True)"
      ],
      "execution_count": null,
      "outputs": []
    },
    {
      "cell_type": "code",
      "metadata": {
        "id": "LpODbpzcjr1K"
      },
      "source": [
        "study.optimize(objective, n_trials=50)\n",
        "\n",
        "trial = study.best_trial\n",
        "\n",
        "print('Accuracy: {}'.format(trial.value))\n",
        "print(\"Best hyperparameters: {}\".format(trial.params))"
      ],
      "execution_count": null,
      "outputs": []
    },
    {
      "cell_type": "markdown",
      "metadata": {
        "id": "uQZ34Yid0De0"
      },
      "source": [
        "### Analyze the study"
      ]
    },
    {
      "cell_type": "code",
      "metadata": {
        "id": "pr91D4OtekPL",
        "colab": {
          "base_uri": "https://localhost:8080/",
          "height": 1000
        },
        "outputId": "5edf399e-500b-4f16-b9fa-3dd07b5ff3cb"
      },
      "source": [
        "study.trials_dataframe()[['params_ncl', 'state']]"
      ],
      "execution_count": null,
      "outputs": [
        {
          "output_type": "execute_result",
          "data": {
            "text/plain": [
              "    params_ncl     state\n",
              "0            2    PRUNED\n",
              "1            4    PRUNED\n",
              "2            4    PRUNED\n",
              "3            2  COMPLETE\n",
              "4            2    PRUNED\n",
              "5            3    PRUNED\n",
              "6            4    PRUNED\n",
              "7            4    PRUNED\n",
              "8            4    PRUNED\n",
              "9            4    PRUNED\n",
              "10           3  COMPLETE\n",
              "11           3  COMPLETE\n",
              "12           3  COMPLETE\n",
              "13           3    PRUNED\n",
              "14           3  COMPLETE\n",
              "15           3  COMPLETE\n",
              "16           3    PRUNED\n",
              "17           2  COMPLETE\n",
              "18           3  COMPLETE\n",
              "19           3  COMPLETE\n",
              "20           2    PRUNED\n",
              "21           3    PRUNED\n",
              "22           3  COMPLETE\n",
              "23           3  COMPLETE\n",
              "24           3    PRUNED\n",
              "25           3  COMPLETE\n",
              "26           3  COMPLETE\n",
              "27           2    PRUNED\n",
              "28           3  COMPLETE\n",
              "29           2    PRUNED\n",
              "30           3  COMPLETE\n",
              "31           3  COMPLETE\n",
              "32           3  COMPLETE\n",
              "33           3  COMPLETE\n",
              "34           3  COMPLETE\n",
              "35           4    PRUNED\n",
              "36           3  COMPLETE\n",
              "37           3    PRUNED\n",
              "38           2    PRUNED\n",
              "39           4    PRUNED\n",
              "40           3    PRUNED\n",
              "41           3  COMPLETE\n",
              "42           3  COMPLETE\n",
              "43           3    PRUNED\n",
              "44           3    PRUNED\n",
              "45           3    PRUNED\n",
              "46           3    PRUNED\n",
              "47           4    PRUNED\n",
              "48           3    PRUNED\n",
              "49           3    PRUNED"
            ],
            "text/html": [
              "<div>\n",
              "<style scoped>\n",
              "    .dataframe tbody tr th:only-of-type {\n",
              "        vertical-align: middle;\n",
              "    }\n",
              "\n",
              "    .dataframe tbody tr th {\n",
              "        vertical-align: top;\n",
              "    }\n",
              "\n",
              "    .dataframe thead th {\n",
              "        text-align: right;\n",
              "    }\n",
              "</style>\n",
              "<table border=\"1\" class=\"dataframe\">\n",
              "  <thead>\n",
              "    <tr style=\"text-align: right;\">\n",
              "      <th></th>\n",
              "      <th>params_ncl</th>\n",
              "      <th>state</th>\n",
              "    </tr>\n",
              "  </thead>\n",
              "  <tbody>\n",
              "    <tr>\n",
              "      <th>0</th>\n",
              "      <td>2</td>\n",
              "      <td>PRUNED</td>\n",
              "    </tr>\n",
              "    <tr>\n",
              "      <th>1</th>\n",
              "      <td>4</td>\n",
              "      <td>PRUNED</td>\n",
              "    </tr>\n",
              "    <tr>\n",
              "      <th>2</th>\n",
              "      <td>4</td>\n",
              "      <td>PRUNED</td>\n",
              "    </tr>\n",
              "    <tr>\n",
              "      <th>3</th>\n",
              "      <td>2</td>\n",
              "      <td>COMPLETE</td>\n",
              "    </tr>\n",
              "    <tr>\n",
              "      <th>4</th>\n",
              "      <td>2</td>\n",
              "      <td>PRUNED</td>\n",
              "    </tr>\n",
              "    <tr>\n",
              "      <th>5</th>\n",
              "      <td>3</td>\n",
              "      <td>PRUNED</td>\n",
              "    </tr>\n",
              "    <tr>\n",
              "      <th>6</th>\n",
              "      <td>4</td>\n",
              "      <td>PRUNED</td>\n",
              "    </tr>\n",
              "    <tr>\n",
              "      <th>7</th>\n",
              "      <td>4</td>\n",
              "      <td>PRUNED</td>\n",
              "    </tr>\n",
              "    <tr>\n",
              "      <th>8</th>\n",
              "      <td>4</td>\n",
              "      <td>PRUNED</td>\n",
              "    </tr>\n",
              "    <tr>\n",
              "      <th>9</th>\n",
              "      <td>4</td>\n",
              "      <td>PRUNED</td>\n",
              "    </tr>\n",
              "    <tr>\n",
              "      <th>10</th>\n",
              "      <td>3</td>\n",
              "      <td>COMPLETE</td>\n",
              "    </tr>\n",
              "    <tr>\n",
              "      <th>11</th>\n",
              "      <td>3</td>\n",
              "      <td>COMPLETE</td>\n",
              "    </tr>\n",
              "    <tr>\n",
              "      <th>12</th>\n",
              "      <td>3</td>\n",
              "      <td>COMPLETE</td>\n",
              "    </tr>\n",
              "    <tr>\n",
              "      <th>13</th>\n",
              "      <td>3</td>\n",
              "      <td>PRUNED</td>\n",
              "    </tr>\n",
              "    <tr>\n",
              "      <th>14</th>\n",
              "      <td>3</td>\n",
              "      <td>COMPLETE</td>\n",
              "    </tr>\n",
              "    <tr>\n",
              "      <th>15</th>\n",
              "      <td>3</td>\n",
              "      <td>COMPLETE</td>\n",
              "    </tr>\n",
              "    <tr>\n",
              "      <th>16</th>\n",
              "      <td>3</td>\n",
              "      <td>PRUNED</td>\n",
              "    </tr>\n",
              "    <tr>\n",
              "      <th>17</th>\n",
              "      <td>2</td>\n",
              "      <td>COMPLETE</td>\n",
              "    </tr>\n",
              "    <tr>\n",
              "      <th>18</th>\n",
              "      <td>3</td>\n",
              "      <td>COMPLETE</td>\n",
              "    </tr>\n",
              "    <tr>\n",
              "      <th>19</th>\n",
              "      <td>3</td>\n",
              "      <td>COMPLETE</td>\n",
              "    </tr>\n",
              "    <tr>\n",
              "      <th>20</th>\n",
              "      <td>2</td>\n",
              "      <td>PRUNED</td>\n",
              "    </tr>\n",
              "    <tr>\n",
              "      <th>21</th>\n",
              "      <td>3</td>\n",
              "      <td>PRUNED</td>\n",
              "    </tr>\n",
              "    <tr>\n",
              "      <th>22</th>\n",
              "      <td>3</td>\n",
              "      <td>COMPLETE</td>\n",
              "    </tr>\n",
              "    <tr>\n",
              "      <th>23</th>\n",
              "      <td>3</td>\n",
              "      <td>COMPLETE</td>\n",
              "    </tr>\n",
              "    <tr>\n",
              "      <th>24</th>\n",
              "      <td>3</td>\n",
              "      <td>PRUNED</td>\n",
              "    </tr>\n",
              "    <tr>\n",
              "      <th>25</th>\n",
              "      <td>3</td>\n",
              "      <td>COMPLETE</td>\n",
              "    </tr>\n",
              "    <tr>\n",
              "      <th>26</th>\n",
              "      <td>3</td>\n",
              "      <td>COMPLETE</td>\n",
              "    </tr>\n",
              "    <tr>\n",
              "      <th>27</th>\n",
              "      <td>2</td>\n",
              "      <td>PRUNED</td>\n",
              "    </tr>\n",
              "    <tr>\n",
              "      <th>28</th>\n",
              "      <td>3</td>\n",
              "      <td>COMPLETE</td>\n",
              "    </tr>\n",
              "    <tr>\n",
              "      <th>29</th>\n",
              "      <td>2</td>\n",
              "      <td>PRUNED</td>\n",
              "    </tr>\n",
              "    <tr>\n",
              "      <th>30</th>\n",
              "      <td>3</td>\n",
              "      <td>COMPLETE</td>\n",
              "    </tr>\n",
              "    <tr>\n",
              "      <th>31</th>\n",
              "      <td>3</td>\n",
              "      <td>COMPLETE</td>\n",
              "    </tr>\n",
              "    <tr>\n",
              "      <th>32</th>\n",
              "      <td>3</td>\n",
              "      <td>COMPLETE</td>\n",
              "    </tr>\n",
              "    <tr>\n",
              "      <th>33</th>\n",
              "      <td>3</td>\n",
              "      <td>COMPLETE</td>\n",
              "    </tr>\n",
              "    <tr>\n",
              "      <th>34</th>\n",
              "      <td>3</td>\n",
              "      <td>COMPLETE</td>\n",
              "    </tr>\n",
              "    <tr>\n",
              "      <th>35</th>\n",
              "      <td>4</td>\n",
              "      <td>PRUNED</td>\n",
              "    </tr>\n",
              "    <tr>\n",
              "      <th>36</th>\n",
              "      <td>3</td>\n",
              "      <td>COMPLETE</td>\n",
              "    </tr>\n",
              "    <tr>\n",
              "      <th>37</th>\n",
              "      <td>3</td>\n",
              "      <td>PRUNED</td>\n",
              "    </tr>\n",
              "    <tr>\n",
              "      <th>38</th>\n",
              "      <td>2</td>\n",
              "      <td>PRUNED</td>\n",
              "    </tr>\n",
              "    <tr>\n",
              "      <th>39</th>\n",
              "      <td>4</td>\n",
              "      <td>PRUNED</td>\n",
              "    </tr>\n",
              "    <tr>\n",
              "      <th>40</th>\n",
              "      <td>3</td>\n",
              "      <td>PRUNED</td>\n",
              "    </tr>\n",
              "    <tr>\n",
              "      <th>41</th>\n",
              "      <td>3</td>\n",
              "      <td>COMPLETE</td>\n",
              "    </tr>\n",
              "    <tr>\n",
              "      <th>42</th>\n",
              "      <td>3</td>\n",
              "      <td>COMPLETE</td>\n",
              "    </tr>\n",
              "    <tr>\n",
              "      <th>43</th>\n",
              "      <td>3</td>\n",
              "      <td>PRUNED</td>\n",
              "    </tr>\n",
              "    <tr>\n",
              "      <th>44</th>\n",
              "      <td>3</td>\n",
              "      <td>PRUNED</td>\n",
              "    </tr>\n",
              "    <tr>\n",
              "      <th>45</th>\n",
              "      <td>3</td>\n",
              "      <td>PRUNED</td>\n",
              "    </tr>\n",
              "    <tr>\n",
              "      <th>46</th>\n",
              "      <td>3</td>\n",
              "      <td>PRUNED</td>\n",
              "    </tr>\n",
              "    <tr>\n",
              "      <th>47</th>\n",
              "      <td>4</td>\n",
              "      <td>PRUNED</td>\n",
              "    </tr>\n",
              "    <tr>\n",
              "      <th>48</th>\n",
              "      <td>3</td>\n",
              "      <td>PRUNED</td>\n",
              "    </tr>\n",
              "    <tr>\n",
              "      <th>49</th>\n",
              "      <td>3</td>\n",
              "      <td>PRUNED</td>\n",
              "    </tr>\n",
              "  </tbody>\n",
              "</table>\n",
              "</div>"
            ]
          },
          "metadata": {
            "tags": []
          },
          "execution_count": 142
        }
      ]
    },
    {
      "cell_type": "code",
      "metadata": {
        "colab": {
          "base_uri": "https://localhost:8080/"
        },
        "id": "mkth-g16Q0s6",
        "outputId": "556eefd8-5c26-4a30-d151-1526581bd7de"
      },
      "source": [
        "np.sum(study.trials_dataframe()['state'] == 'PRUNED')"
      ],
      "execution_count": null,
      "outputs": [
        {
          "output_type": "execute_result",
          "data": {
            "text/plain": [
              "28"
            ]
          },
          "metadata": {
            "tags": []
          },
          "execution_count": 143
        }
      ]
    },
    {
      "cell_type": "code",
      "metadata": {
        "colab": {
          "base_uri": "https://localhost:8080/",
          "height": 817
        },
        "id": "YQi5mb1m0_1a",
        "outputId": "edd6aab2-3660-4f4f-8c92-56a9ec0b0c02"
      },
      "source": [
        "fig = optuna.visualization.plot_contour(study,params=['lr', 'weight_decay'])\n",
        "fig.update_layout(\n",
        "    autosize=False,\n",
        "    width=800,\n",
        "    height=800,)\n",
        "fig.show(renderer='colab')"
      ],
      "execution_count": null,
      "outputs": [
        {
          "output_type": "display_data",
          "data": {
            "text/html": [
              "<html>\n",
              "<head><meta charset=\"utf-8\" /></head>\n",
              "<body>\n",
              "    <div>            <script src=\"https://cdnjs.cloudflare.com/ajax/libs/mathjax/2.7.5/MathJax.js?config=TeX-AMS-MML_SVG\"></script><script type=\"text/javascript\">if (window.MathJax) {MathJax.Hub.Config({SVG: {font: \"STIX-Web\"}});}</script>                <script type=\"text/javascript\">window.PlotlyConfig = {MathJaxConfig: 'local'};</script>\n",
              "        <script src=\"https://cdn.plot.ly/plotly-latest.min.js\"></script>                <div id=\"3f1cfba8-d083-492b-bf4b-54eca18d032b\" class=\"plotly-graph-div\" style=\"height:800px; width:800px;\"></div>            <script type=\"text/javascript\">                                    window.PLOTLYENV=window.PLOTLYENV || {};                                    if (document.getElementById(\"3f1cfba8-d083-492b-bf4b-54eca18d032b\")) {                    Plotly.newPlot(                        \"3f1cfba8-d083-492b-bf4b-54eca18d032b\",                        [{\"colorbar\": {\"title\": {\"text\": \"Objective Value\"}}, \"colorscale\": [[0, \"rgb(220,220,220)\"], [0.30000000000000004, \"rgb(106,137,247)\"], [0.4, \"rgb(90,120,245)\"], [0.5, \"rgb(70,100,245)\"], [0.65, \"rgb(40,60,190)\"], [1, \"rgb(5,10,172)\"]], \"connectgaps\": true, \"contours\": {\"coloring\": \"heatmap\"}, \"hoverinfo\": \"none\", \"line\": {\"smoothing\": 1.3}, \"type\": \"contour\", \"x\": [1.478367112440945e-05, 2.2423921410907725e-05, 0.00017709261162266284, 0.00019540840968558038, 0.00032840164323734726, 0.0003967444769101325, 0.0009484803741192007, 0.0011326476771316202, 0.0012219559135561837, 0.0012705132088157184, 0.0014220333554792724, 0.0018710820992799138, 0.0019488469934346492, 0.002901597701002441, 0.003510272756211482, 0.006475801954876251, 0.007462372811577408, 0.007510132701518498, 0.01139886334671765, 0.013735793623169235, 0.0275764955746252, 0.031020013458561705, 0.0931744766034011, 0.14132735524719608], \"y\": [6.119663741148066e-08, 1.0098176583480861e-07, 1.0326151460126298e-07, 1.0711634371544879e-07, 1.2637781041268967e-07, 1.3128388156766482e-07, 2.26561615501286e-07, 4.7355487864132725e-07, 6.001947863657312e-07, 1.2563608379462312e-06, 9.391795876487639e-06, 1.6084714319318218e-05, 3.306140708008146e-05, 9.77645736656698e-05, 0.00012057949414567579, 0.00014530361308381576, 0.00015689979362252347, 0.0001696324698365588, 0.0003570770011683163, 0.0005936449460702455, 0.0008886939756055226, 0.0013669901150627345, 0.0022623041206202557, 0.0037330721853148603], \"z\": [[null, null, null, null, null, null, null, null, null, null, null, null, null, null, null, null, null, null, null, null, null, null, null, null], [null, null, null, null, null, null, null, null, null, null, null, null, 0.21817059656308094, null, null, null, null, null, null, null, null, null, null, null], [null, null, null, null, null, null, null, null, null, null, null, null, null, null, 0.08606286320088308, null, null, null, null, null, null, null, null, null], [null, null, null, null, null, null, null, null, null, null, null, null, null, null, null, null, null, 0.06562146384598812, null, null, null, null, null, null], [null, null, null, null, null, null, null, null, null, null, null, null, null, null, null, null, null, null, 0.2660947591769894, null, null, null, null, null], [null, null, null, null, null, null, null, null, null, null, null, null, null, 0.07495796135135492, null, null, null, null, null, null, null, null, null, null], [null, null, null, null, 0.08267358358679215, null, null, null, null, null, null, null, null, null, null, null, null, null, null, null, null, null, null, null], [null, 0.1056703244763414, null, null, null, null, null, null, null, null, null, null, null, null, null, null, null, null, null, null, null, null, null, null], [null, null, null, null, null, null, null, null, null, null, null, null, null, null, null, null, null, null, null, 0.718626969300588, null, null, null, null], [null, null, null, null, null, null, null, null, null, null, null, null, null, null, null, 2.2285723036682605, null, null, null, null, null, null, null, null], [null, null, null, null, null, null, 0.044699580308576424, null, null, null, null, null, null, null, null, null, null, null, null, null, null, null, null, null], [null, null, null, null, null, null, null, null, null, null, null, null, null, null, null, null, null, null, null, null, null, 1.307792825312376, null, null], [null, null, null, null, null, null, null, null, null, null, null, null, null, null, null, null, null, null, null, null, null, null, 2.3022261679153444, null], [null, null, 0.1875203176090916, null, null, null, null, null, null, null, null, null, null, null, null, null, null, null, null, null, null, null, null, null], [null, null, null, null, null, null, null, null, null, null, 0.06774351970847448, null, null, null, null, null, null, null, null, null, null, null, null, null], [null, null, null, null, null, null, null, null, 0.06854382608578602, null, null, null, null, null, null, null, null, null, null, null, null, null, null, null], [null, null, null, null, null, null, null, 0.06187901150176923, null, null, null, null, null, null, null, null, null, null, null, null, null, null, null, null], [null, null, null, null, null, null, null, null, null, 0.056459741871654985, null, null, null, null, null, null, null, null, null, null, null, null, null, null], [null, null, null, null, null, 0.06743208740085363, null, null, null, null, null, null, null, null, null, null, null, null, null, null, null, null, null, null], [null, null, null, null, null, null, null, null, null, null, null, null, null, null, null, null, null, null, null, null, 1.2967170818650324, null, null, null], [null, null, null, null, null, null, null, null, null, null, null, null, null, null, null, null, 0.0732553367725412, null, null, null, null, null, null, null], [null, null, null, 0.11350388886668285, null, null, null, null, null, null, null, null, null, null, null, null, null, null, null, null, null, null, null, null], [null, null, null, null, null, null, null, null, null, null, null, 0.07756375133478642, null, null, null, null, null, null, null, null, null, null, null, null], [null, null, null, null, null, null, null, null, null, null, null, null, null, null, null, null, null, null, null, null, null, null, null, null]]}, {\"marker\": {\"color\": \"black\", \"line\": {\"color\": \"Grey\", \"width\": 0.5}}, \"mode\": \"markers\", \"showlegend\": false, \"type\": \"scatter\", \"x\": [2.2423921410907725e-05, 0.0019488469934346492, 0.002901597701002441, 0.003510272756211482, 0.007510132701518498, 0.013735793623169235, 0.01139886334671765, 0.006475801954876251, 0.0009484803741192007, 0.031020013458561705, 0.00032840164323734726, 0.0014220333554792724, 0.0012705132088157184, 0.00019540840968558038, 0.0931744766034011, 0.0012219559135561837, 0.007462372811577408, 0.00017709261162266284, 0.0018710820992799138, 0.0275764955746252, 0.0011326476771316202, 0.0003967444769101325], \"y\": [4.7355487864132725e-07, 1.0098176583480861e-07, 1.3128388156766482e-07, 1.0326151460126298e-07, 1.0711634371544879e-07, 6.001947863657312e-07, 1.2637781041268967e-07, 1.2563608379462312e-06, 9.391795876487639e-06, 1.6084714319318218e-05, 2.26561615501286e-07, 0.00012057949414567579, 0.0001696324698365588, 0.0013669901150627345, 3.306140708008146e-05, 0.00014530361308381576, 0.0008886939756055226, 9.77645736656698e-05, 0.0022623041206202557, 0.0005936449460702455, 0.00015689979362252347, 0.0003570770011683163]}],                        {\"autosize\": false, \"height\": 800, \"template\": {\"data\": {\"bar\": [{\"error_x\": {\"color\": \"#2a3f5f\"}, \"error_y\": {\"color\": \"#2a3f5f\"}, \"marker\": {\"line\": {\"color\": \"#E5ECF6\", \"width\": 0.5}}, \"type\": \"bar\"}], \"barpolar\": [{\"marker\": {\"line\": {\"color\": \"#E5ECF6\", \"width\": 0.5}}, \"type\": \"barpolar\"}], \"carpet\": [{\"aaxis\": {\"endlinecolor\": \"#2a3f5f\", \"gridcolor\": \"white\", \"linecolor\": \"white\", \"minorgridcolor\": \"white\", \"startlinecolor\": \"#2a3f5f\"}, \"baxis\": {\"endlinecolor\": \"#2a3f5f\", \"gridcolor\": \"white\", \"linecolor\": \"white\", \"minorgridcolor\": \"white\", \"startlinecolor\": \"#2a3f5f\"}, \"type\": \"carpet\"}], \"choropleth\": [{\"colorbar\": {\"outlinewidth\": 0, \"ticks\": \"\"}, \"type\": \"choropleth\"}], \"contour\": [{\"colorbar\": {\"outlinewidth\": 0, \"ticks\": \"\"}, \"colorscale\": [[0.0, \"#0d0887\"], [0.1111111111111111, \"#46039f\"], [0.2222222222222222, \"#7201a8\"], [0.3333333333333333, \"#9c179e\"], [0.4444444444444444, \"#bd3786\"], [0.5555555555555556, \"#d8576b\"], [0.6666666666666666, \"#ed7953\"], [0.7777777777777778, \"#fb9f3a\"], [0.8888888888888888, \"#fdca26\"], [1.0, \"#f0f921\"]], \"type\": \"contour\"}], \"contourcarpet\": [{\"colorbar\": {\"outlinewidth\": 0, \"ticks\": \"\"}, \"type\": \"contourcarpet\"}], \"heatmap\": [{\"colorbar\": {\"outlinewidth\": 0, \"ticks\": \"\"}, \"colorscale\": [[0.0, \"#0d0887\"], [0.1111111111111111, \"#46039f\"], [0.2222222222222222, \"#7201a8\"], [0.3333333333333333, \"#9c179e\"], [0.4444444444444444, \"#bd3786\"], [0.5555555555555556, \"#d8576b\"], [0.6666666666666666, \"#ed7953\"], [0.7777777777777778, \"#fb9f3a\"], [0.8888888888888888, \"#fdca26\"], [1.0, \"#f0f921\"]], \"type\": \"heatmap\"}], \"heatmapgl\": [{\"colorbar\": {\"outlinewidth\": 0, \"ticks\": \"\"}, \"colorscale\": [[0.0, \"#0d0887\"], [0.1111111111111111, \"#46039f\"], [0.2222222222222222, \"#7201a8\"], [0.3333333333333333, \"#9c179e\"], [0.4444444444444444, \"#bd3786\"], [0.5555555555555556, \"#d8576b\"], [0.6666666666666666, \"#ed7953\"], [0.7777777777777778, \"#fb9f3a\"], [0.8888888888888888, \"#fdca26\"], [1.0, \"#f0f921\"]], \"type\": \"heatmapgl\"}], \"histogram\": [{\"marker\": {\"colorbar\": {\"outlinewidth\": 0, \"ticks\": \"\"}}, \"type\": \"histogram\"}], \"histogram2d\": [{\"colorbar\": {\"outlinewidth\": 0, \"ticks\": \"\"}, \"colorscale\": [[0.0, \"#0d0887\"], [0.1111111111111111, \"#46039f\"], [0.2222222222222222, \"#7201a8\"], [0.3333333333333333, \"#9c179e\"], [0.4444444444444444, \"#bd3786\"], [0.5555555555555556, \"#d8576b\"], [0.6666666666666666, \"#ed7953\"], [0.7777777777777778, \"#fb9f3a\"], [0.8888888888888888, \"#fdca26\"], [1.0, \"#f0f921\"]], \"type\": \"histogram2d\"}], \"histogram2dcontour\": [{\"colorbar\": {\"outlinewidth\": 0, \"ticks\": \"\"}, \"colorscale\": [[0.0, \"#0d0887\"], [0.1111111111111111, \"#46039f\"], [0.2222222222222222, \"#7201a8\"], [0.3333333333333333, \"#9c179e\"], [0.4444444444444444, \"#bd3786\"], [0.5555555555555556, \"#d8576b\"], [0.6666666666666666, \"#ed7953\"], [0.7777777777777778, \"#fb9f3a\"], [0.8888888888888888, \"#fdca26\"], [1.0, \"#f0f921\"]], \"type\": \"histogram2dcontour\"}], \"mesh3d\": [{\"colorbar\": {\"outlinewidth\": 0, \"ticks\": \"\"}, \"type\": \"mesh3d\"}], \"parcoords\": [{\"line\": {\"colorbar\": {\"outlinewidth\": 0, \"ticks\": \"\"}}, \"type\": \"parcoords\"}], \"pie\": [{\"automargin\": true, \"type\": \"pie\"}], \"scatter\": [{\"marker\": {\"colorbar\": {\"outlinewidth\": 0, \"ticks\": \"\"}}, \"type\": \"scatter\"}], \"scatter3d\": [{\"line\": {\"colorbar\": {\"outlinewidth\": 0, \"ticks\": \"\"}}, \"marker\": {\"colorbar\": {\"outlinewidth\": 0, \"ticks\": \"\"}}, \"type\": \"scatter3d\"}], \"scattercarpet\": [{\"marker\": {\"colorbar\": {\"outlinewidth\": 0, \"ticks\": \"\"}}, \"type\": \"scattercarpet\"}], \"scattergeo\": [{\"marker\": {\"colorbar\": {\"outlinewidth\": 0, \"ticks\": \"\"}}, \"type\": \"scattergeo\"}], \"scattergl\": [{\"marker\": {\"colorbar\": {\"outlinewidth\": 0, \"ticks\": \"\"}}, \"type\": \"scattergl\"}], \"scattermapbox\": [{\"marker\": {\"colorbar\": {\"outlinewidth\": 0, \"ticks\": \"\"}}, \"type\": \"scattermapbox\"}], \"scatterpolar\": [{\"marker\": {\"colorbar\": {\"outlinewidth\": 0, \"ticks\": \"\"}}, \"type\": \"scatterpolar\"}], \"scatterpolargl\": [{\"marker\": {\"colorbar\": {\"outlinewidth\": 0, \"ticks\": \"\"}}, \"type\": \"scatterpolargl\"}], \"scatterternary\": [{\"marker\": {\"colorbar\": {\"outlinewidth\": 0, \"ticks\": \"\"}}, \"type\": \"scatterternary\"}], \"surface\": [{\"colorbar\": {\"outlinewidth\": 0, \"ticks\": \"\"}, \"colorscale\": [[0.0, \"#0d0887\"], [0.1111111111111111, \"#46039f\"], [0.2222222222222222, \"#7201a8\"], [0.3333333333333333, \"#9c179e\"], [0.4444444444444444, \"#bd3786\"], [0.5555555555555556, \"#d8576b\"], [0.6666666666666666, \"#ed7953\"], [0.7777777777777778, \"#fb9f3a\"], [0.8888888888888888, \"#fdca26\"], [1.0, \"#f0f921\"]], \"type\": \"surface\"}], \"table\": [{\"cells\": {\"fill\": {\"color\": \"#EBF0F8\"}, \"line\": {\"color\": \"white\"}}, \"header\": {\"fill\": {\"color\": \"#C8D4E3\"}, \"line\": {\"color\": \"white\"}}, \"type\": \"table\"}]}, \"layout\": {\"annotationdefaults\": {\"arrowcolor\": \"#2a3f5f\", \"arrowhead\": 0, \"arrowwidth\": 1}, \"autotypenumbers\": \"strict\", \"coloraxis\": {\"colorbar\": {\"outlinewidth\": 0, \"ticks\": \"\"}}, \"colorscale\": {\"diverging\": [[0, \"#8e0152\"], [0.1, \"#c51b7d\"], [0.2, \"#de77ae\"], [0.3, \"#f1b6da\"], [0.4, \"#fde0ef\"], [0.5, \"#f7f7f7\"], [0.6, \"#e6f5d0\"], [0.7, \"#b8e186\"], [0.8, \"#7fbc41\"], [0.9, \"#4d9221\"], [1, \"#276419\"]], \"sequential\": [[0.0, \"#0d0887\"], [0.1111111111111111, \"#46039f\"], [0.2222222222222222, \"#7201a8\"], [0.3333333333333333, \"#9c179e\"], [0.4444444444444444, \"#bd3786\"], [0.5555555555555556, \"#d8576b\"], [0.6666666666666666, \"#ed7953\"], [0.7777777777777778, \"#fb9f3a\"], [0.8888888888888888, \"#fdca26\"], [1.0, \"#f0f921\"]], \"sequentialminus\": [[0.0, \"#0d0887\"], [0.1111111111111111, \"#46039f\"], [0.2222222222222222, \"#7201a8\"], [0.3333333333333333, \"#9c179e\"], [0.4444444444444444, \"#bd3786\"], [0.5555555555555556, \"#d8576b\"], [0.6666666666666666, \"#ed7953\"], [0.7777777777777778, \"#fb9f3a\"], [0.8888888888888888, \"#fdca26\"], [1.0, \"#f0f921\"]]}, \"colorway\": [\"#636efa\", \"#EF553B\", \"#00cc96\", \"#ab63fa\", \"#FFA15A\", \"#19d3f3\", \"#FF6692\", \"#B6E880\", \"#FF97FF\", \"#FECB52\"], \"font\": {\"color\": \"#2a3f5f\"}, \"geo\": {\"bgcolor\": \"white\", \"lakecolor\": \"white\", \"landcolor\": \"#E5ECF6\", \"showlakes\": true, \"showland\": true, \"subunitcolor\": \"white\"}, \"hoverlabel\": {\"align\": \"left\"}, \"hovermode\": \"closest\", \"mapbox\": {\"style\": \"light\"}, \"paper_bgcolor\": \"white\", \"plot_bgcolor\": \"#E5ECF6\", \"polar\": {\"angularaxis\": {\"gridcolor\": \"white\", \"linecolor\": \"white\", \"ticks\": \"\"}, \"bgcolor\": \"#E5ECF6\", \"radialaxis\": {\"gridcolor\": \"white\", \"linecolor\": \"white\", \"ticks\": \"\"}}, \"scene\": {\"xaxis\": {\"backgroundcolor\": \"#E5ECF6\", \"gridcolor\": \"white\", \"gridwidth\": 2, \"linecolor\": \"white\", \"showbackground\": true, \"ticks\": \"\", \"zerolinecolor\": \"white\"}, \"yaxis\": {\"backgroundcolor\": \"#E5ECF6\", \"gridcolor\": \"white\", \"gridwidth\": 2, \"linecolor\": \"white\", \"showbackground\": true, \"ticks\": \"\", \"zerolinecolor\": \"white\"}, \"zaxis\": {\"backgroundcolor\": \"#E5ECF6\", \"gridcolor\": \"white\", \"gridwidth\": 2, \"linecolor\": \"white\", \"showbackground\": true, \"ticks\": \"\", \"zerolinecolor\": \"white\"}}, \"shapedefaults\": {\"line\": {\"color\": \"#2a3f5f\"}}, \"ternary\": {\"aaxis\": {\"gridcolor\": \"white\", \"linecolor\": \"white\", \"ticks\": \"\"}, \"baxis\": {\"gridcolor\": \"white\", \"linecolor\": \"white\", \"ticks\": \"\"}, \"bgcolor\": \"#E5ECF6\", \"caxis\": {\"gridcolor\": \"white\", \"linecolor\": \"white\", \"ticks\": \"\"}}, \"title\": {\"x\": 0.05}, \"xaxis\": {\"automargin\": true, \"gridcolor\": \"white\", \"linecolor\": \"white\", \"ticks\": \"\", \"title\": {\"standoff\": 15}, \"zerolinecolor\": \"white\", \"zerolinewidth\": 2}, \"yaxis\": {\"automargin\": true, \"gridcolor\": \"white\", \"linecolor\": \"white\", \"ticks\": \"\", \"title\": {\"standoff\": 15}, \"zerolinecolor\": \"white\", \"zerolinewidth\": 2}}}, \"title\": {\"text\": \"Contour Plot\"}, \"width\": 800, \"xaxis\": {\"range\": [-4.830217707274055, -0.8497737682075743], \"title\": {\"text\": \"lr\"}, \"type\": \"log\"}, \"yaxis\": {\"range\": [-7.213272440497565, -2.4279336121683066], \"title\": {\"text\": \"weight_decay\"}, \"type\": \"log\"}},                        {\"responsive\": true}                    ).then(function(){\n",
              "                            \n",
              "var gd = document.getElementById('3f1cfba8-d083-492b-bf4b-54eca18d032b');\n",
              "var x = new MutationObserver(function (mutations, observer) {{\n",
              "        var display = window.getComputedStyle(gd).display;\n",
              "        if (!display || display === 'none') {{\n",
              "            console.log([gd, 'removed!']);\n",
              "            Plotly.purge(gd);\n",
              "            observer.disconnect();\n",
              "        }}\n",
              "}});\n",
              "\n",
              "// Listen for the removal of the full notebook cells\n",
              "var notebookContainer = gd.closest('#notebook-container');\n",
              "if (notebookContainer) {{\n",
              "    x.observe(notebookContainer, {childList: true});\n",
              "}}\n",
              "\n",
              "// Listen for the clearing of the current output cell\n",
              "var outputEl = gd.closest('.output');\n",
              "if (outputEl) {{\n",
              "    x.observe(outputEl, {childList: true});\n",
              "}}\n",
              "\n",
              "                        })                };                            </script>        </div>\n",
              "</body>\n",
              "</html>"
            ]
          },
          "metadata": {
            "tags": []
          }
        }
      ]
    },
    {
      "cell_type": "code",
      "metadata": {
        "colab": {
          "base_uri": "https://localhost:8080/",
          "height": 542
        },
        "id": "s7mY9YS24BlF",
        "outputId": "9cf70845-58a1-49c2-9a4d-adb61af635b3"
      },
      "source": [
        "fig = optuna.visualization.plot_parallel_coordinate(study, params=['Nh1', 'Nh2', 'p1', 'p2'])\n",
        "fig.show(renderer='colab')"
      ],
      "execution_count": null,
      "outputs": [
        {
          "output_type": "display_data",
          "data": {
            "text/html": [
              "<html>\n",
              "<head><meta charset=\"utf-8\" /></head>\n",
              "<body>\n",
              "    <div>            <script src=\"https://cdnjs.cloudflare.com/ajax/libs/mathjax/2.7.5/MathJax.js?config=TeX-AMS-MML_SVG\"></script><script type=\"text/javascript\">if (window.MathJax) {MathJax.Hub.Config({SVG: {font: \"STIX-Web\"}});}</script>                <script type=\"text/javascript\">window.PlotlyConfig = {MathJaxConfig: 'local'};</script>\n",
              "        <script src=\"https://cdn.plot.ly/plotly-latest.min.js\"></script>                <div id=\"608330fe-fa83-4f5e-b8fe-41acc7c5df17\" class=\"plotly-graph-div\" style=\"height:525px; width:100%;\"></div>            <script type=\"text/javascript\">                                    window.PLOTLYENV=window.PLOTLYENV || {};                                    if (document.getElementById(\"608330fe-fa83-4f5e-b8fe-41acc7c5df17\")) {                    Plotly.newPlot(                        \"608330fe-fa83-4f5e-b8fe-41acc7c5df17\",                        [{\"dimensions\": [{\"label\": \"Objective Value\", \"range\": [0.044699580308576424, 2.3022261679153444], \"values\": [0.1056703244763414, 0.21817059656308094, 0.07495796135135492, 0.08606286320088308, 0.06562146384598812, 0.718626969300588, 0.2660947591769894, 2.2285723036682605, 0.044699580308576424, 1.307792825312376, 0.08267358358679215, 0.06774351970847448, 0.056459741871654985, 0.11350388886668285, 2.3022261679153444, 0.06854382608578602, 0.0732553367725412, 0.1875203176090916, 0.07756375133478642, 1.2967170818650324, 0.06187901150176923, 0.06743208740085363]}, {\"label\": \"Nh1\", \"range\": [67, 239], \"values\": [239, 158, 148, 103, 120, 139, 82, 67, 129, 174, 121, 150, 126, 125, 177, 124, 156, 136, 168, 113, 124, 154]}, {\"label\": \"Nh2\", \"range\": [29, 128], \"values\": [121, 128, 126, 128, 57, 43, 61, 35, 69, 114, 29, 82, 76, 67, 74, 85, 79, 92, 64, 103, 83, 90]}, {\"label\": \"p1\", \"range\": [0.1960090329123164, 0.6259695955887743], \"values\": [0.1960090329123164, 0.41879863223704805, 0.4084522104653412, 0.3871690390280469, 0.36233527161756957, 0.5095229221690329, 0.5025002147438997, 0.3163750732094456, 0.472604419965323, 0.45104846134192633, 0.5658738150054081, 0.3617994245016746, 0.34721213708165216, 0.4652206074511721, 0.531018741364377, 0.37788603494850936, 0.2869827474022809, 0.36575088388609295, 0.20395607686442574, 0.6259695955887743, 0.3810667253129079, 0.4007191329468569]}, {\"label\": \"p2\", \"range\": [0.02723454342955145, 0.6973440693423687], \"values\": [0.4323895774582499, 0.45629907954112503, 0.46660136000011576, 0.4753369163721768, 0.5304880136124868, 0.6973440693423687, 0.02723454342955145, 0.37078524191810913, 0.6959952214334578, 0.6946289798343567, 0.4088446250799744, 0.3053520302276249, 0.2784757145936477, 0.2340933505553323, 0.2970640450592204, 0.3055156481268404, 0.38924604495024134, 0.31767347634172105, 0.2745889929847561, 0.09821582079742205, 0.27827989210653603, 0.2596537514880877]}], \"labelangle\": 30, \"labelside\": \"bottom\", \"line\": {\"color\": [0.1056703244763414, 0.21817059656308094, 0.07495796135135492, 0.08606286320088308, 0.06562146384598812, 0.718626969300588, 0.2660947591769894, 2.2285723036682605, 0.044699580308576424, 1.307792825312376, 0.08267358358679215, 0.06774351970847448, 0.056459741871654985, 0.11350388886668285, 2.3022261679153444, 0.06854382608578602, 0.0732553367725412, 0.1875203176090916, 0.07756375133478642, 1.2967170818650324, 0.06187901150176923, 0.06743208740085363], \"colorbar\": {\"title\": {\"text\": \"Objective Value\"}}, \"colorscale\": [[0.0, \"rgb(247,251,255)\"], [0.125, \"rgb(222,235,247)\"], [0.25, \"rgb(198,219,239)\"], [0.375, \"rgb(158,202,225)\"], [0.5, \"rgb(107,174,214)\"], [0.625, \"rgb(66,146,198)\"], [0.75, \"rgb(33,113,181)\"], [0.875, \"rgb(8,81,156)\"], [1.0, \"rgb(8,48,107)\"]], \"reversescale\": true, \"showscale\": true}, \"type\": \"parcoords\"}],                        {\"template\": {\"data\": {\"bar\": [{\"error_x\": {\"color\": \"#2a3f5f\"}, \"error_y\": {\"color\": \"#2a3f5f\"}, \"marker\": {\"line\": {\"color\": \"#E5ECF6\", \"width\": 0.5}}, \"type\": \"bar\"}], \"barpolar\": [{\"marker\": {\"line\": {\"color\": \"#E5ECF6\", \"width\": 0.5}}, \"type\": \"barpolar\"}], \"carpet\": [{\"aaxis\": {\"endlinecolor\": \"#2a3f5f\", \"gridcolor\": \"white\", \"linecolor\": \"white\", \"minorgridcolor\": \"white\", \"startlinecolor\": \"#2a3f5f\"}, \"baxis\": {\"endlinecolor\": \"#2a3f5f\", \"gridcolor\": \"white\", \"linecolor\": \"white\", \"minorgridcolor\": \"white\", \"startlinecolor\": \"#2a3f5f\"}, \"type\": \"carpet\"}], \"choropleth\": [{\"colorbar\": {\"outlinewidth\": 0, \"ticks\": \"\"}, \"type\": \"choropleth\"}], \"contour\": [{\"colorbar\": {\"outlinewidth\": 0, \"ticks\": \"\"}, \"colorscale\": [[0.0, \"#0d0887\"], [0.1111111111111111, \"#46039f\"], [0.2222222222222222, \"#7201a8\"], [0.3333333333333333, \"#9c179e\"], [0.4444444444444444, \"#bd3786\"], [0.5555555555555556, \"#d8576b\"], [0.6666666666666666, \"#ed7953\"], [0.7777777777777778, \"#fb9f3a\"], [0.8888888888888888, \"#fdca26\"], [1.0, \"#f0f921\"]], \"type\": \"contour\"}], \"contourcarpet\": [{\"colorbar\": {\"outlinewidth\": 0, \"ticks\": \"\"}, \"type\": \"contourcarpet\"}], \"heatmap\": [{\"colorbar\": {\"outlinewidth\": 0, \"ticks\": \"\"}, \"colorscale\": [[0.0, \"#0d0887\"], [0.1111111111111111, \"#46039f\"], [0.2222222222222222, \"#7201a8\"], [0.3333333333333333, \"#9c179e\"], [0.4444444444444444, \"#bd3786\"], [0.5555555555555556, \"#d8576b\"], [0.6666666666666666, \"#ed7953\"], [0.7777777777777778, \"#fb9f3a\"], [0.8888888888888888, \"#fdca26\"], [1.0, \"#f0f921\"]], \"type\": \"heatmap\"}], \"heatmapgl\": [{\"colorbar\": {\"outlinewidth\": 0, \"ticks\": \"\"}, \"colorscale\": [[0.0, \"#0d0887\"], [0.1111111111111111, \"#46039f\"], [0.2222222222222222, \"#7201a8\"], [0.3333333333333333, \"#9c179e\"], [0.4444444444444444, \"#bd3786\"], [0.5555555555555556, \"#d8576b\"], [0.6666666666666666, \"#ed7953\"], [0.7777777777777778, \"#fb9f3a\"], [0.8888888888888888, \"#fdca26\"], [1.0, \"#f0f921\"]], \"type\": \"heatmapgl\"}], \"histogram\": [{\"marker\": {\"colorbar\": {\"outlinewidth\": 0, \"ticks\": \"\"}}, \"type\": \"histogram\"}], \"histogram2d\": [{\"colorbar\": {\"outlinewidth\": 0, \"ticks\": \"\"}, \"colorscale\": [[0.0, \"#0d0887\"], [0.1111111111111111, \"#46039f\"], [0.2222222222222222, \"#7201a8\"], [0.3333333333333333, \"#9c179e\"], [0.4444444444444444, \"#bd3786\"], [0.5555555555555556, \"#d8576b\"], [0.6666666666666666, \"#ed7953\"], [0.7777777777777778, \"#fb9f3a\"], [0.8888888888888888, \"#fdca26\"], [1.0, \"#f0f921\"]], \"type\": \"histogram2d\"}], \"histogram2dcontour\": [{\"colorbar\": {\"outlinewidth\": 0, \"ticks\": \"\"}, \"colorscale\": [[0.0, \"#0d0887\"], [0.1111111111111111, \"#46039f\"], [0.2222222222222222, \"#7201a8\"], [0.3333333333333333, \"#9c179e\"], [0.4444444444444444, \"#bd3786\"], [0.5555555555555556, \"#d8576b\"], [0.6666666666666666, \"#ed7953\"], [0.7777777777777778, \"#fb9f3a\"], [0.8888888888888888, \"#fdca26\"], [1.0, \"#f0f921\"]], \"type\": \"histogram2dcontour\"}], \"mesh3d\": [{\"colorbar\": {\"outlinewidth\": 0, \"ticks\": \"\"}, \"type\": \"mesh3d\"}], \"parcoords\": [{\"line\": {\"colorbar\": {\"outlinewidth\": 0, \"ticks\": \"\"}}, \"type\": \"parcoords\"}], \"pie\": [{\"automargin\": true, \"type\": \"pie\"}], \"scatter\": [{\"marker\": {\"colorbar\": {\"outlinewidth\": 0, \"ticks\": \"\"}}, \"type\": \"scatter\"}], \"scatter3d\": [{\"line\": {\"colorbar\": {\"outlinewidth\": 0, \"ticks\": \"\"}}, \"marker\": {\"colorbar\": {\"outlinewidth\": 0, \"ticks\": \"\"}}, \"type\": \"scatter3d\"}], \"scattercarpet\": [{\"marker\": {\"colorbar\": {\"outlinewidth\": 0, \"ticks\": \"\"}}, \"type\": \"scattercarpet\"}], \"scattergeo\": [{\"marker\": {\"colorbar\": {\"outlinewidth\": 0, \"ticks\": \"\"}}, \"type\": \"scattergeo\"}], \"scattergl\": [{\"marker\": {\"colorbar\": {\"outlinewidth\": 0, \"ticks\": \"\"}}, \"type\": \"scattergl\"}], \"scattermapbox\": [{\"marker\": {\"colorbar\": {\"outlinewidth\": 0, \"ticks\": \"\"}}, \"type\": \"scattermapbox\"}], \"scatterpolar\": [{\"marker\": {\"colorbar\": {\"outlinewidth\": 0, \"ticks\": \"\"}}, \"type\": \"scatterpolar\"}], \"scatterpolargl\": [{\"marker\": {\"colorbar\": {\"outlinewidth\": 0, \"ticks\": \"\"}}, \"type\": \"scatterpolargl\"}], \"scatterternary\": [{\"marker\": {\"colorbar\": {\"outlinewidth\": 0, \"ticks\": \"\"}}, \"type\": \"scatterternary\"}], \"surface\": [{\"colorbar\": {\"outlinewidth\": 0, \"ticks\": \"\"}, \"colorscale\": [[0.0, \"#0d0887\"], [0.1111111111111111, \"#46039f\"], [0.2222222222222222, \"#7201a8\"], [0.3333333333333333, \"#9c179e\"], [0.4444444444444444, \"#bd3786\"], [0.5555555555555556, \"#d8576b\"], [0.6666666666666666, \"#ed7953\"], [0.7777777777777778, \"#fb9f3a\"], [0.8888888888888888, \"#fdca26\"], [1.0, \"#f0f921\"]], \"type\": \"surface\"}], \"table\": [{\"cells\": {\"fill\": {\"color\": \"#EBF0F8\"}, \"line\": {\"color\": \"white\"}}, \"header\": {\"fill\": {\"color\": \"#C8D4E3\"}, \"line\": {\"color\": \"white\"}}, \"type\": \"table\"}]}, \"layout\": {\"annotationdefaults\": {\"arrowcolor\": \"#2a3f5f\", \"arrowhead\": 0, \"arrowwidth\": 1}, \"autotypenumbers\": \"strict\", \"coloraxis\": {\"colorbar\": {\"outlinewidth\": 0, \"ticks\": \"\"}}, \"colorscale\": {\"diverging\": [[0, \"#8e0152\"], [0.1, \"#c51b7d\"], [0.2, \"#de77ae\"], [0.3, \"#f1b6da\"], [0.4, \"#fde0ef\"], [0.5, \"#f7f7f7\"], [0.6, \"#e6f5d0\"], [0.7, \"#b8e186\"], [0.8, \"#7fbc41\"], [0.9, \"#4d9221\"], [1, \"#276419\"]], \"sequential\": [[0.0, \"#0d0887\"], [0.1111111111111111, \"#46039f\"], [0.2222222222222222, \"#7201a8\"], [0.3333333333333333, \"#9c179e\"], [0.4444444444444444, \"#bd3786\"], [0.5555555555555556, \"#d8576b\"], [0.6666666666666666, \"#ed7953\"], [0.7777777777777778, \"#fb9f3a\"], [0.8888888888888888, \"#fdca26\"], [1.0, \"#f0f921\"]], \"sequentialminus\": [[0.0, \"#0d0887\"], [0.1111111111111111, \"#46039f\"], [0.2222222222222222, \"#7201a8\"], [0.3333333333333333, \"#9c179e\"], [0.4444444444444444, \"#bd3786\"], [0.5555555555555556, \"#d8576b\"], [0.6666666666666666, \"#ed7953\"], [0.7777777777777778, \"#fb9f3a\"], [0.8888888888888888, \"#fdca26\"], [1.0, \"#f0f921\"]]}, \"colorway\": [\"#636efa\", \"#EF553B\", \"#00cc96\", \"#ab63fa\", \"#FFA15A\", \"#19d3f3\", \"#FF6692\", \"#B6E880\", \"#FF97FF\", \"#FECB52\"], \"font\": {\"color\": \"#2a3f5f\"}, \"geo\": {\"bgcolor\": \"white\", \"lakecolor\": \"white\", \"landcolor\": \"#E5ECF6\", \"showlakes\": true, \"showland\": true, \"subunitcolor\": \"white\"}, \"hoverlabel\": {\"align\": \"left\"}, \"hovermode\": \"closest\", \"mapbox\": {\"style\": \"light\"}, \"paper_bgcolor\": \"white\", \"plot_bgcolor\": \"#E5ECF6\", \"polar\": {\"angularaxis\": {\"gridcolor\": \"white\", \"linecolor\": \"white\", \"ticks\": \"\"}, \"bgcolor\": \"#E5ECF6\", \"radialaxis\": {\"gridcolor\": \"white\", \"linecolor\": \"white\", \"ticks\": \"\"}}, \"scene\": {\"xaxis\": {\"backgroundcolor\": \"#E5ECF6\", \"gridcolor\": \"white\", \"gridwidth\": 2, \"linecolor\": \"white\", \"showbackground\": true, \"ticks\": \"\", \"zerolinecolor\": \"white\"}, \"yaxis\": {\"backgroundcolor\": \"#E5ECF6\", \"gridcolor\": \"white\", \"gridwidth\": 2, \"linecolor\": \"white\", \"showbackground\": true, \"ticks\": \"\", \"zerolinecolor\": \"white\"}, \"zaxis\": {\"backgroundcolor\": \"#E5ECF6\", \"gridcolor\": \"white\", \"gridwidth\": 2, \"linecolor\": \"white\", \"showbackground\": true, \"ticks\": \"\", \"zerolinecolor\": \"white\"}}, \"shapedefaults\": {\"line\": {\"color\": \"#2a3f5f\"}}, \"ternary\": {\"aaxis\": {\"gridcolor\": \"white\", \"linecolor\": \"white\", \"ticks\": \"\"}, \"baxis\": {\"gridcolor\": \"white\", \"linecolor\": \"white\", \"ticks\": \"\"}, \"bgcolor\": \"#E5ECF6\", \"caxis\": {\"gridcolor\": \"white\", \"linecolor\": \"white\", \"ticks\": \"\"}}, \"title\": {\"x\": 0.05}, \"xaxis\": {\"automargin\": true, \"gridcolor\": \"white\", \"linecolor\": \"white\", \"ticks\": \"\", \"title\": {\"standoff\": 15}, \"zerolinecolor\": \"white\", \"zerolinewidth\": 2}, \"yaxis\": {\"automargin\": true, \"gridcolor\": \"white\", \"linecolor\": \"white\", \"ticks\": \"\", \"title\": {\"standoff\": 15}, \"zerolinecolor\": \"white\", \"zerolinewidth\": 2}}}, \"title\": {\"text\": \"Parallel Coordinate Plot\"}},                        {\"responsive\": true}                    ).then(function(){\n",
              "                            \n",
              "var gd = document.getElementById('608330fe-fa83-4f5e-b8fe-41acc7c5df17');\n",
              "var x = new MutationObserver(function (mutations, observer) {{\n",
              "        var display = window.getComputedStyle(gd).display;\n",
              "        if (!display || display === 'none') {{\n",
              "            console.log([gd, 'removed!']);\n",
              "            Plotly.purge(gd);\n",
              "            observer.disconnect();\n",
              "        }}\n",
              "}});\n",
              "\n",
              "// Listen for the removal of the full notebook cells\n",
              "var notebookContainer = gd.closest('#notebook-container');\n",
              "if (notebookContainer) {{\n",
              "    x.observe(notebookContainer, {childList: true});\n",
              "}}\n",
              "\n",
              "// Listen for the clearing of the current output cell\n",
              "var outputEl = gd.closest('.output');\n",
              "if (outputEl) {{\n",
              "    x.observe(outputEl, {childList: true});\n",
              "}}\n",
              "\n",
              "                        })                };                            </script>        </div>\n",
              "</body>\n",
              "</html>"
            ]
          },
          "metadata": {
            "tags": []
          }
        }
      ]
    },
    {
      "cell_type": "code",
      "metadata": {
        "colab": {
          "base_uri": "https://localhost:8080/",
          "height": 542
        },
        "id": "T4okwn0i8IhJ",
        "outputId": "89a2c5d0-3064-4248-9f10-f1061e341713"
      },
      "source": [
        "fig = optuna.visualization.plot_param_importances(study)\n",
        "fig.show(renderer='colab')"
      ],
      "execution_count": null,
      "outputs": [
        {
          "output_type": "display_data",
          "data": {
            "text/html": [
              "<html>\n",
              "<head><meta charset=\"utf-8\" /></head>\n",
              "<body>\n",
              "    <div>            <script src=\"https://cdnjs.cloudflare.com/ajax/libs/mathjax/2.7.5/MathJax.js?config=TeX-AMS-MML_SVG\"></script><script type=\"text/javascript\">if (window.MathJax) {MathJax.Hub.Config({SVG: {font: \"STIX-Web\"}});}</script>                <script type=\"text/javascript\">window.PlotlyConfig = {MathJaxConfig: 'local'};</script>\n",
              "        <script src=\"https://cdn.plot.ly/plotly-latest.min.js\"></script>                <div id=\"e8e3e0a0-7f20-4b6c-91aa-4339ca8c2d16\" class=\"plotly-graph-div\" style=\"height:525px; width:100%;\"></div>            <script type=\"text/javascript\">                                    window.PLOTLYENV=window.PLOTLYENV || {};                                    if (document.getElementById(\"e8e3e0a0-7f20-4b6c-91aa-4339ca8c2d16\")) {                    Plotly.newPlot(                        \"e8e3e0a0-7f20-4b6c-91aa-4339ca8c2d16\",                        [{\"cliponaxis\": false, \"hovertemplate\": [\"padding2 (IntUniformDistribution): 0.0<extra></extra>\", \"padding1 (IntUniformDistribution): 5.181381403227993e-05<extra></extra>\", \"ncl (IntUniformDistribution): 0.00010309192078421941<extra></extra>\", \"weight_decay (LogUniformDistribution): 0.0005803306928454883<extra></extra>\", \"ch2 (IntUniformDistribution): 0.0011679277905719586<extra></extra>\", \"ch1 (IntUniformDistribution): 0.0056780131490293175<extra></extra>\", \"stride1 (IntUniformDistribution): 0.00956737748013066<extra></extra>\", \"ks2 (IntUniformDistribution): 0.012234467174659395<extra></extra>\", \"ks1 (IntUniformDistribution): 0.029887954578280126<extra></extra>\", \"p1 (UniformDistribution): 0.043270556267586774<extra></extra>\", \"p2 (UniformDistribution): 0.057374054475723295<extra></extra>\", \"Nh2 (IntUniformDistribution): 0.07264864094013135<extra></extra>\", \"Nh1 (IntUniformDistribution): 0.17484397830657705<extra></extra>\", \"stride2 (IntUniformDistribution): 0.2105653517405892<extra></extra>\", \"lr (LogUniformDistribution): 0.38202644166905875<extra></extra>\"], \"marker\": {\"color\": [\"rgb(8,81,156)\", \"rgb(8,81,156)\", \"rgb(8,81,156)\", \"rgb(8,48,107)\", \"rgb(8,81,156)\", \"rgb(8,81,156)\", \"rgb(8,81,156)\", \"rgb(8,81,156)\", \"rgb(8,81,156)\", \"rgb(8,48,107)\", \"rgb(8,48,107)\", \"rgb(8,81,156)\", \"rgb(8,81,156)\", \"rgb(8,81,156)\", \"rgb(8,48,107)\"]}, \"orientation\": \"h\", \"text\": [\"0.0\", \"5.181381403227993e-05\", \"0.00010309192078421941\", \"0.0005803306928454883\", \"0.0011679277905719586\", \"0.0056780131490293175\", \"0.00956737748013066\", \"0.012234467174659395\", \"0.029887954578280126\", \"0.043270556267586774\", \"0.057374054475723295\", \"0.07264864094013135\", \"0.17484397830657705\", \"0.2105653517405892\", \"0.38202644166905875\"], \"textposition\": \"outside\", \"texttemplate\": \"%{text:.2f}\", \"type\": \"bar\", \"x\": [0.0, 5.181381403227993e-05, 0.00010309192078421941, 0.0005803306928454883, 0.0011679277905719586, 0.0056780131490293175, 0.00956737748013066, 0.012234467174659395, 0.029887954578280126, 0.043270556267586774, 0.057374054475723295, 0.07264864094013135, 0.17484397830657705, 0.2105653517405892, 0.38202644166905875], \"y\": [\"padding2\", \"padding1\", \"ncl\", \"weight_decay\", \"ch2\", \"ch1\", \"stride1\", \"ks2\", \"ks1\", \"p1\", \"p2\", \"Nh2\", \"Nh1\", \"stride2\", \"lr\"]}],                        {\"showlegend\": false, \"template\": {\"data\": {\"bar\": [{\"error_x\": {\"color\": \"#2a3f5f\"}, \"error_y\": {\"color\": \"#2a3f5f\"}, \"marker\": {\"line\": {\"color\": \"#E5ECF6\", \"width\": 0.5}}, \"type\": \"bar\"}], \"barpolar\": [{\"marker\": {\"line\": {\"color\": \"#E5ECF6\", \"width\": 0.5}}, \"type\": \"barpolar\"}], \"carpet\": [{\"aaxis\": {\"endlinecolor\": \"#2a3f5f\", \"gridcolor\": \"white\", \"linecolor\": \"white\", \"minorgridcolor\": \"white\", \"startlinecolor\": \"#2a3f5f\"}, \"baxis\": {\"endlinecolor\": \"#2a3f5f\", \"gridcolor\": \"white\", \"linecolor\": \"white\", \"minorgridcolor\": \"white\", \"startlinecolor\": \"#2a3f5f\"}, \"type\": \"carpet\"}], \"choropleth\": [{\"colorbar\": {\"outlinewidth\": 0, \"ticks\": \"\"}, \"type\": \"choropleth\"}], \"contour\": [{\"colorbar\": {\"outlinewidth\": 0, \"ticks\": \"\"}, \"colorscale\": [[0.0, \"#0d0887\"], [0.1111111111111111, \"#46039f\"], [0.2222222222222222, \"#7201a8\"], [0.3333333333333333, \"#9c179e\"], [0.4444444444444444, \"#bd3786\"], [0.5555555555555556, \"#d8576b\"], [0.6666666666666666, \"#ed7953\"], [0.7777777777777778, \"#fb9f3a\"], [0.8888888888888888, \"#fdca26\"], [1.0, \"#f0f921\"]], \"type\": \"contour\"}], \"contourcarpet\": [{\"colorbar\": {\"outlinewidth\": 0, \"ticks\": \"\"}, \"type\": \"contourcarpet\"}], \"heatmap\": [{\"colorbar\": {\"outlinewidth\": 0, \"ticks\": \"\"}, \"colorscale\": [[0.0, \"#0d0887\"], [0.1111111111111111, \"#46039f\"], [0.2222222222222222, \"#7201a8\"], [0.3333333333333333, \"#9c179e\"], [0.4444444444444444, \"#bd3786\"], [0.5555555555555556, \"#d8576b\"], [0.6666666666666666, \"#ed7953\"], [0.7777777777777778, \"#fb9f3a\"], [0.8888888888888888, \"#fdca26\"], [1.0, \"#f0f921\"]], \"type\": \"heatmap\"}], \"heatmapgl\": [{\"colorbar\": {\"outlinewidth\": 0, \"ticks\": \"\"}, \"colorscale\": [[0.0, \"#0d0887\"], [0.1111111111111111, \"#46039f\"], [0.2222222222222222, \"#7201a8\"], [0.3333333333333333, \"#9c179e\"], [0.4444444444444444, \"#bd3786\"], [0.5555555555555556, \"#d8576b\"], [0.6666666666666666, \"#ed7953\"], [0.7777777777777778, \"#fb9f3a\"], [0.8888888888888888, \"#fdca26\"], [1.0, \"#f0f921\"]], \"type\": \"heatmapgl\"}], \"histogram\": [{\"marker\": {\"colorbar\": {\"outlinewidth\": 0, \"ticks\": \"\"}}, \"type\": \"histogram\"}], \"histogram2d\": [{\"colorbar\": {\"outlinewidth\": 0, \"ticks\": \"\"}, \"colorscale\": [[0.0, \"#0d0887\"], [0.1111111111111111, \"#46039f\"], [0.2222222222222222, \"#7201a8\"], [0.3333333333333333, \"#9c179e\"], [0.4444444444444444, \"#bd3786\"], [0.5555555555555556, \"#d8576b\"], [0.6666666666666666, \"#ed7953\"], [0.7777777777777778, \"#fb9f3a\"], [0.8888888888888888, \"#fdca26\"], [1.0, \"#f0f921\"]], \"type\": \"histogram2d\"}], \"histogram2dcontour\": [{\"colorbar\": {\"outlinewidth\": 0, \"ticks\": \"\"}, \"colorscale\": [[0.0, \"#0d0887\"], [0.1111111111111111, \"#46039f\"], [0.2222222222222222, \"#7201a8\"], [0.3333333333333333, \"#9c179e\"], [0.4444444444444444, \"#bd3786\"], [0.5555555555555556, \"#d8576b\"], [0.6666666666666666, \"#ed7953\"], [0.7777777777777778, \"#fb9f3a\"], [0.8888888888888888, \"#fdca26\"], [1.0, \"#f0f921\"]], \"type\": \"histogram2dcontour\"}], \"mesh3d\": [{\"colorbar\": {\"outlinewidth\": 0, \"ticks\": \"\"}, \"type\": \"mesh3d\"}], \"parcoords\": [{\"line\": {\"colorbar\": {\"outlinewidth\": 0, \"ticks\": \"\"}}, \"type\": \"parcoords\"}], \"pie\": [{\"automargin\": true, \"type\": \"pie\"}], \"scatter\": [{\"marker\": {\"colorbar\": {\"outlinewidth\": 0, \"ticks\": \"\"}}, \"type\": \"scatter\"}], \"scatter3d\": [{\"line\": {\"colorbar\": {\"outlinewidth\": 0, \"ticks\": \"\"}}, \"marker\": {\"colorbar\": {\"outlinewidth\": 0, \"ticks\": \"\"}}, \"type\": \"scatter3d\"}], \"scattercarpet\": [{\"marker\": {\"colorbar\": {\"outlinewidth\": 0, \"ticks\": \"\"}}, \"type\": \"scattercarpet\"}], \"scattergeo\": [{\"marker\": {\"colorbar\": {\"outlinewidth\": 0, \"ticks\": \"\"}}, \"type\": \"scattergeo\"}], \"scattergl\": [{\"marker\": {\"colorbar\": {\"outlinewidth\": 0, \"ticks\": \"\"}}, \"type\": \"scattergl\"}], \"scattermapbox\": [{\"marker\": {\"colorbar\": {\"outlinewidth\": 0, \"ticks\": \"\"}}, \"type\": \"scattermapbox\"}], \"scatterpolar\": [{\"marker\": {\"colorbar\": {\"outlinewidth\": 0, \"ticks\": \"\"}}, \"type\": \"scatterpolar\"}], \"scatterpolargl\": [{\"marker\": {\"colorbar\": {\"outlinewidth\": 0, \"ticks\": \"\"}}, \"type\": \"scatterpolargl\"}], \"scatterternary\": [{\"marker\": {\"colorbar\": {\"outlinewidth\": 0, \"ticks\": \"\"}}, \"type\": \"scatterternary\"}], \"surface\": [{\"colorbar\": {\"outlinewidth\": 0, \"ticks\": \"\"}, \"colorscale\": [[0.0, \"#0d0887\"], [0.1111111111111111, \"#46039f\"], [0.2222222222222222, \"#7201a8\"], [0.3333333333333333, \"#9c179e\"], [0.4444444444444444, \"#bd3786\"], [0.5555555555555556, \"#d8576b\"], [0.6666666666666666, \"#ed7953\"], [0.7777777777777778, \"#fb9f3a\"], [0.8888888888888888, \"#fdca26\"], [1.0, \"#f0f921\"]], \"type\": \"surface\"}], \"table\": [{\"cells\": {\"fill\": {\"color\": \"#EBF0F8\"}, \"line\": {\"color\": \"white\"}}, \"header\": {\"fill\": {\"color\": \"#C8D4E3\"}, \"line\": {\"color\": \"white\"}}, \"type\": \"table\"}]}, \"layout\": {\"annotationdefaults\": {\"arrowcolor\": \"#2a3f5f\", \"arrowhead\": 0, \"arrowwidth\": 1}, \"autotypenumbers\": \"strict\", \"coloraxis\": {\"colorbar\": {\"outlinewidth\": 0, \"ticks\": \"\"}}, \"colorscale\": {\"diverging\": [[0, \"#8e0152\"], [0.1, \"#c51b7d\"], [0.2, \"#de77ae\"], [0.3, \"#f1b6da\"], [0.4, \"#fde0ef\"], [0.5, \"#f7f7f7\"], [0.6, \"#e6f5d0\"], [0.7, \"#b8e186\"], [0.8, \"#7fbc41\"], [0.9, \"#4d9221\"], [1, \"#276419\"]], \"sequential\": [[0.0, \"#0d0887\"], [0.1111111111111111, \"#46039f\"], [0.2222222222222222, \"#7201a8\"], [0.3333333333333333, \"#9c179e\"], [0.4444444444444444, \"#bd3786\"], [0.5555555555555556, \"#d8576b\"], [0.6666666666666666, \"#ed7953\"], [0.7777777777777778, \"#fb9f3a\"], [0.8888888888888888, \"#fdca26\"], [1.0, \"#f0f921\"]], \"sequentialminus\": [[0.0, \"#0d0887\"], [0.1111111111111111, \"#46039f\"], [0.2222222222222222, \"#7201a8\"], [0.3333333333333333, \"#9c179e\"], [0.4444444444444444, \"#bd3786\"], [0.5555555555555556, \"#d8576b\"], [0.6666666666666666, \"#ed7953\"], [0.7777777777777778, \"#fb9f3a\"], [0.8888888888888888, \"#fdca26\"], [1.0, \"#f0f921\"]]}, \"colorway\": [\"#636efa\", \"#EF553B\", \"#00cc96\", \"#ab63fa\", \"#FFA15A\", \"#19d3f3\", \"#FF6692\", \"#B6E880\", \"#FF97FF\", \"#FECB52\"], \"font\": {\"color\": \"#2a3f5f\"}, \"geo\": {\"bgcolor\": \"white\", \"lakecolor\": \"white\", \"landcolor\": \"#E5ECF6\", \"showlakes\": true, \"showland\": true, \"subunitcolor\": \"white\"}, \"hoverlabel\": {\"align\": \"left\"}, \"hovermode\": \"closest\", \"mapbox\": {\"style\": \"light\"}, \"paper_bgcolor\": \"white\", \"plot_bgcolor\": \"#E5ECF6\", \"polar\": {\"angularaxis\": {\"gridcolor\": \"white\", \"linecolor\": \"white\", \"ticks\": \"\"}, \"bgcolor\": \"#E5ECF6\", \"radialaxis\": {\"gridcolor\": \"white\", \"linecolor\": \"white\", \"ticks\": \"\"}}, \"scene\": {\"xaxis\": {\"backgroundcolor\": \"#E5ECF6\", \"gridcolor\": \"white\", \"gridwidth\": 2, \"linecolor\": \"white\", \"showbackground\": true, \"ticks\": \"\", \"zerolinecolor\": \"white\"}, \"yaxis\": {\"backgroundcolor\": \"#E5ECF6\", \"gridcolor\": \"white\", \"gridwidth\": 2, \"linecolor\": \"white\", \"showbackground\": true, \"ticks\": \"\", \"zerolinecolor\": \"white\"}, \"zaxis\": {\"backgroundcolor\": \"#E5ECF6\", \"gridcolor\": \"white\", \"gridwidth\": 2, \"linecolor\": \"white\", \"showbackground\": true, \"ticks\": \"\", \"zerolinecolor\": \"white\"}}, \"shapedefaults\": {\"line\": {\"color\": \"#2a3f5f\"}}, \"ternary\": {\"aaxis\": {\"gridcolor\": \"white\", \"linecolor\": \"white\", \"ticks\": \"\"}, \"baxis\": {\"gridcolor\": \"white\", \"linecolor\": \"white\", \"ticks\": \"\"}, \"bgcolor\": \"#E5ECF6\", \"caxis\": {\"gridcolor\": \"white\", \"linecolor\": \"white\", \"ticks\": \"\"}}, \"title\": {\"x\": 0.05}, \"xaxis\": {\"automargin\": true, \"gridcolor\": \"white\", \"linecolor\": \"white\", \"ticks\": \"\", \"title\": {\"standoff\": 15}, \"zerolinecolor\": \"white\", \"zerolinewidth\": 2}, \"yaxis\": {\"automargin\": true, \"gridcolor\": \"white\", \"linecolor\": \"white\", \"ticks\": \"\", \"title\": {\"standoff\": 15}, \"zerolinecolor\": \"white\", \"zerolinewidth\": 2}}}, \"title\": {\"text\": \"Hyperparameter Importances\"}, \"xaxis\": {\"title\": {\"text\": \"Importance\"}}, \"yaxis\": {\"title\": {\"text\": \"Hyperparameter\"}}},                        {\"responsive\": true}                    ).then(function(){\n",
              "                            \n",
              "var gd = document.getElementById('e8e3e0a0-7f20-4b6c-91aa-4339ca8c2d16');\n",
              "var x = new MutationObserver(function (mutations, observer) {{\n",
              "        var display = window.getComputedStyle(gd).display;\n",
              "        if (!display || display === 'none') {{\n",
              "            console.log([gd, 'removed!']);\n",
              "            Plotly.purge(gd);\n",
              "            observer.disconnect();\n",
              "        }}\n",
              "}});\n",
              "\n",
              "// Listen for the removal of the full notebook cells\n",
              "var notebookContainer = gd.closest('#notebook-container');\n",
              "if (notebookContainer) {{\n",
              "    x.observe(notebookContainer, {childList: true});\n",
              "}}\n",
              "\n",
              "// Listen for the clearing of the current output cell\n",
              "var outputEl = gd.closest('.output');\n",
              "if (outputEl) {{\n",
              "    x.observe(outputEl, {childList: true});\n",
              "}}\n",
              "\n",
              "                        })                };                            </script>        </div>\n",
              "</body>\n",
              "</html>"
            ]
          },
          "metadata": {
            "tags": []
          }
        }
      ]
    },
    {
      "cell_type": "markdown",
      "metadata": {
        "id": "c22f_0dR_uoU"
      },
      "source": [
        "## Best net"
      ]
    },
    {
      "cell_type": "markdown",
      "metadata": {
        "id": "znFLnwBD_VlX"
      },
      "source": [
        "### Training with the best hyperparameters"
      ]
    },
    {
      "cell_type": "code",
      "metadata": {
        "colab": {
          "base_uri": "https://localhost:8080/"
        },
        "id": "UERVgnfl_zeU",
        "outputId": "e9480c65-6525-4dd2-f21c-86e0f42568f9"
      },
      "source": [
        "study.best_params"
      ],
      "execution_count": null,
      "outputs": [
        {
          "output_type": "execute_result",
          "data": {
            "text/plain": [
              "{'Nh1': 129,\n",
              " 'Nh2': 69,\n",
              " 'ch1': 4,\n",
              " 'ch2': 15,\n",
              " 'ch3': 19,\n",
              " 'ks1': 3,\n",
              " 'ks2': 3,\n",
              " 'ks3': 4,\n",
              " 'lr': 0.0009484803741192007,\n",
              " 'ncl': 3,\n",
              " 'p1': 0.472604419965323,\n",
              " 'p2': 0.6959952214334578,\n",
              " 'padding1': 0,\n",
              " 'padding2': 1,\n",
              " 'padding3': 1,\n",
              " 'stride1': 3,\n",
              " 'stride2': 1,\n",
              " 'stride3': 2,\n",
              " 'weight_decay': 9.391795876487639e-06}"
            ]
          },
          "metadata": {
            "tags": []
          },
          "execution_count": 55
        }
      ]
    },
    {
      "cell_type": "code",
      "metadata": {
        "colab": {
          "base_uri": "https://localhost:8080/"
        },
        "id": "hbBinJ8B_U91",
        "outputId": "ea9e4679-15a7-4ba5-e16f-b554bc70a000"
      },
      "source": [
        "channels = [4,15,19]\n",
        "kernel_sizes = [3,3,4]\n",
        "strides = [3,1,2]\n",
        "paddings = [0,1,1]\n",
        "\n",
        "dropout_probabilities = [0.4726,0.6960]\n",
        "Nhs = [129, 69]\n",
        "\n",
        "dnet = DC_net(dropouts_probabilities=dropout_probabilities,channels=channels, kernel_sizes=kernel_sizes, strides=strides, paddings=paddings,\n",
        "             Nhs=Nhs).to(device)\n",
        "\n",
        "print(dnet)\n",
        "\n",
        "optimizer = optim.Adam(dnet.parameters(),lr=9.485e-4,weight_decay=9.392e-6)\n",
        "\n",
        "loss_function = nn.CrossEntropyLoss()\n",
        "\n",
        "train_batch_size = 256\n",
        "val_batch_size = 256\n",
        "\n",
        "patience = 10\n",
        "\n",
        "train_dataloader = DataLoader(train_dataset, batch_size=train_batch_size, shuffle=True, num_workers=0)\n",
        "val_dataloader = DataLoader(val_dataset, batch_size=val_batch_size, shuffle=False, num_workers=0)\n",
        "\n",
        "\n",
        "nature = Evolver_es(patience=patience,net=dnet,optimizer=optimizer,loss_function=loss_function,\n",
        "                    train_dataloader=train_dataloader,val_dataloader=val_dataloader, checkpoint=True)"
      ],
      "execution_count": null,
      "outputs": [
        {
          "output_type": "stream",
          "text": [
            "Network initialized\n",
            "DC_net(\n",
            "  (conv_layers): Sequential(\n",
            "    (conv1): Conv2d(1, 4, kernel_size=(3, 3), stride=(3, 3))\n",
            "    (conv_act1): ReLU()\n",
            "    (conv2): Conv2d(4, 15, kernel_size=(3, 3), stride=(1, 1), padding=(1, 1))\n",
            "    (conv_act2): ReLU()\n",
            "    (conv3): Conv2d(15, 19, kernel_size=(4, 4), stride=(2, 2), padding=(1, 1))\n",
            "    (conv_act3): ReLU()\n",
            "  )\n",
            "  (flatten): Flatten(start_dim=1, end_dim=-1)\n",
            "  (lin_layers): Sequential(\n",
            "    (dropout1): Dropout(p=0.4726, inplace=False)\n",
            "    (lin1): Linear(in_features=304, out_features=129, bias=True)\n",
            "    (lin_act1): ReLU()\n",
            "    (dropout2): Dropout(p=0.696, inplace=False)\n",
            "    (lin2): Linear(in_features=129, out_features=69, bias=True)\n",
            "    (lin_act2): ReLU()\n",
            "  )\n",
            "  (out): Linear(in_features=69, out_features=10, bias=True)\n",
            "  (o_act): Identity()\n",
            ")\n"
          ],
          "name": "stdout"
        }
      ]
    },
    {
      "cell_type": "code",
      "metadata": {
        "colab": {
          "base_uri": "https://localhost:8080/",
          "height": 598,
          "referenced_widgets": [
            "9ed8f9ec8ac3463b96bb493596ef084b",
            "d9db4fb8b122459cb514c9933ddd0696",
            "da3006c39e954c07bb9e5475f9b703a5",
            "537d5fd96d644c34b55bfbe5d0122c2b",
            "0931baafe9a84c2781cb0f99c21ff471",
            "b2e2028ebb2c46f99a307dc2e5c0dd9a",
            "34f305a7bf104147bc252f0c11a06de6",
            "bba5258bd5c647c184e1667e39ac8903",
            "69eea808896e4749824e1ade954b74b7",
            "08974ce4b66b451f99fd0023100c1b58",
            "2ab50c88d5194d16a3ed0fbcbb7b5370"
          ]
        },
        "id": "OYLq--te980q",
        "outputId": "0cde0384-f977-4dbc-afdd-745c1536b46d"
      },
      "source": [
        "nature.evolve(100,verbose= False)\n",
        "\n",
        "nature.plot_losses()"
      ],
      "execution_count": null,
      "outputs": [
        {
          "output_type": "display_data",
          "data": {
            "text/plain": [
              "HBox(children=(HTML(value=''), FloatProgress(value=0.0), HTML(value='')))"
            ],
            "application/vnd.jupyter.widget-view+json": {
              "version_major": 2,
              "version_minor": 0,
              "model_id": "9ed8f9ec8ac3463b96bb493596ef084b"
            }
          },
          "metadata": {
            "tags": []
          }
        },
        {
          "output_type": "stream",
          "text": [
            "Checkpointing back to epoch 69\n",
            "\n"
          ],
          "name": "stdout"
        },
        {
          "output_type": "display_data",
          "data": {
            "text/plain": [
              "<Figure size 864x576 with 1 Axes>"
            ],
            "image/png": "[encoded data removed]"
          },
          "metadata": {
            "tags": [],
            "needs_background": "light"
          }
        },
        {
          "output_type": "stream",
          "text": [
            "Average traininig  loss in the last 10 epochs: 0.1062\n",
            "Average validation loss in the last 10 epochs: 0.0527\n"
          ],
          "name": "stdout"
        }
      ]
    },
    {
      "cell_type": "markdown",
      "metadata": {
        "id": "eK29a2AOFWwK"
      },
      "source": [
        "### Test and visualization"
      ]
    },
    {
      "cell_type": "code",
      "metadata": {
        "colab": {
          "base_uri": "https://localhost:8080/"
        },
        "id": "haAdYYhaDAjp",
        "outputId": "826351e5-75be-4e77-96e2-303c405c8f46"
      },
      "source": [
        "mse_test(nature, test_dataset)"
      ],
      "execution_count": null,
      "outputs": [
        {
          "output_type": "execute_result",
          "data": {
            "text/plain": [
              "0.9901547841727734"
            ]
          },
          "metadata": {
            "tags": []
          },
          "execution_count": 58
        }
      ]
    },
    {
      "cell_type": "code",
      "metadata": {
        "colab": {
          "base_uri": "https://localhost:8080/"
        },
        "id": "t-wQlBwDDAjt",
        "outputId": "7af84687-0764-44dc-acd7-e1829477e551"
      },
      "source": [
        "evaluate_net(dnet,test_dataset)"
      ],
      "execution_count": null,
      "outputs": [
        {
          "output_type": "execute_result",
          "data": {
            "text/plain": [
              "(     0     1     2    3    4    5    6     7    8    9\n",
              " 0  975     0     0    0    0    0    3     1    1    0\n",
              " 1    0  1129     3    0    0    1    1     1    0    0\n",
              " 2    1     1  1021    1    0    0    1     4    3    0\n",
              " 3    0     0     3  998    0    3    0     3    2    1\n",
              " 4    0     0     1    0  969    0    6     1    0    5\n",
              " 5    2     0     0    2    0  885    2     1    0    0\n",
              " 6    2     2     0    0    1    4  949     0    0    0\n",
              " 7    2     1     9    3    0    0    0  1008    1    4\n",
              " 8    4     0     3    2    1    2    1     2  957    2\n",
              " 9    1     3     0    3    9    5    0     4    2  982,\n",
              " 0.9873)"
            ]
          },
          "metadata": {
            "tags": []
          },
          "execution_count": 135
        }
      ]
    },
    {
      "cell_type": "code",
      "metadata": {
        "id": "gVtoUR4iDAjx"
      },
      "source": [
        "dnet.eval()\n",
        "nm = NeuronMaximizer(dnet,dnet.out,9,optimizer_params={'lr': 0.1, 'weight_decay': 0.01})\n",
        "nm.optimize(100)"
      ],
      "execution_count": null,
      "outputs": []
    },
    {
      "cell_type": "code",
      "metadata": {
        "id": "abKVOXJFDAj1"
      },
      "source": [
        "y = torch.softmax(dnet(torch.sigmoid(nm.input_img).unsqueeze(0)), dim=1)\n",
        "\n",
        "y = y.squeeze().detach().cpu().numpy()\n",
        "\n",
        "for i,yv in enumerate(y):\n",
        "  print(f'{i}: {yv}')"
      ],
      "execution_count": null,
      "outputs": []
    },
    {
      "cell_type": "markdown",
      "metadata": {
        "id": "wUO5cBKmFk1q"
      },
      "source": [
        "#### Feeding perlin noise to the net"
      ]
    },
    {
      "cell_type": "code",
      "metadata": {
        "id": "KUK__DwhAu8x"
      },
      "source": [
        "pe = Perlin(saturation=20,pnoise_kwargs={'octaves': 2, 'persistence': 0.5, 'lacunarity': 2})"
      ],
      "execution_count": null,
      "outputs": []
    },
    {
      "cell_type": "code",
      "metadata": {
        "colab": {
          "base_uri": "https://localhost:8080/",
          "height": 374
        },
        "id": "jwhxGxgQF04E",
        "outputId": "2fb3c48d-4a1f-430d-8fe3-8927c563cb6d"
      },
      "source": [
        "img = test_dataset[837][0]\n",
        "# img = pe.create_image()\n",
        "\n",
        "y = torch.softmax(dnet(img.unsqueeze(0).to(device)), dim=1)\n",
        "\n",
        "y = y.squeeze().detach().cpu().numpy()\n",
        "\n",
        "fig, ax = plt.subplots(1,2, figsize=(12,6))\n",
        "ax[0].imshow(img.squeeze().cpu().numpy(), cmap='gist_gray', vmax=1, vmin=0)\n",
        "ax[1].bar(np.arange(10), y)\n",
        "ax[1].set_xticks(np.arange(10))\n",
        "ax[1].set_ylabel('probability')\n",
        "\n",
        "plt.show()"
      ],
      "execution_count": null,
      "outputs": [
        {
          "output_type": "display_data",
          "data": {
            "text/plain": [
              "<Figure size 864x432 with 2 Axes>"
            ],
            "image/png": "[encoded data removed]"
          },
          "metadata": {
            "tags": [],
            "needs_background": "light"
          }
        }
      ]
    },
    {
      "cell_type": "code",
      "metadata": {
        "id": "EMEv4YhcHAXg"
      },
      "source": [
        "torch.save(dnet.state_dict(),'classification/best_net.pth')"
      ],
      "execution_count": null,
      "outputs": []
    }
  ]
}